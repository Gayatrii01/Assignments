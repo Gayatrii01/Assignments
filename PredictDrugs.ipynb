{
 "cells": [
  {
   "cell_type": "markdown",
   "id": "041882d2-769b-41e8-8635-59e23ac69848",
   "metadata": {},
   "source": [
    "# Drugs A, B, C, X, Y for Decision Trees"
   ]
  },
  {
   "cell_type": "markdown",
   "id": "96a8cf68-6d79-4694-ab01-7d4e3b1fdd0d",
   "metadata": {},
   "source": [
    "### About Dataset:\n",
    "##### Imagine that you are a medical researcher compiling data for a study. \n",
    "##### You have collected data about a set of patients, all of whom suffered from the same illness.\n",
    "##### During their course of treatment, each patient responded to one of 5 medications, Drug A, Drug B, Drug c, Drug x and y."
   ]
  },
  {
   "cell_type": "markdown",
   "id": "d68f0ef5-6b51-4d4c-a70e-06047069a08e",
   "metadata": {
    "tags": []
   },
   "source": [
    "### Task:\n",
    "##### To build a model to find out which drug might be appropriate for a future patient with the same illness. The features of this dataset are Age, Sex, Blood Pressure, and the Cholesterol of the patients, and the target is the drug that each patient responded to.\n",
    "\n",
    "##### It is a sample of multiclass classifier, and you can use the training part of the dataset to build a decision tree, and then use it to predict the class of a unknown patient, or to prescribe a drug to a new patient."
   ]
  },
  {
   "cell_type": "markdown",
   "id": "d936cbc5-eb18-4794-9daf-cfc641a05d5e",
   "metadata": {},
   "source": [
    "## Import Libraries"
   ]
  },
  {
   "cell_type": "code",
   "execution_count": 95,
   "id": "1c1ac571-b0f2-4801-a2f7-3f9125c2f8b1",
   "metadata": {},
   "outputs": [],
   "source": [
    "import pandas as pd                 # Data manipulation\n",
    "import matplotlib.pyplot as plt     # Data visualization\n",
    "import seaborn as sns               # Enhanced data visualization # Set matplotlib backend to display plots inline within Jupyter Notebook\n",
    "%matplotlib inline                  \n",
    "\n",
    "\n",
    "from sklearn import datasets         # sklearn library - Use for classification, regression, clustering, dimensionality reduction etc.\n",
    "import numpy as np                   # Numerical computing and array operations\n",
    "\n",
    "from sklearn.tree import DecisionTreeClassifier\n",
    "\n",
    "from sklearn.model_selection import train_test_split         # Splitting the data into train and test\n",
    "\n",
    "from sklearn.tree import DecisionTreeClassifier, plot_tree   # DecisionTreeClassifier tasks & plot_tree_visualizing decision trees\n",
    "\n",
    "from sklearn import tree                                     # decision tree-based models\n",
    "\n",
    "from sklearn.metrics import classification_report, confusion_matrix    # evaluating classification model performance\n",
    "\n",
    "\n",
    "from sklearn import preprocessing                                      # data preprocessing tasks\n",
    "from sklearn.preprocessing import LabelEncoder                         # encoding categorical variables into numerical"
   ]
  },
  {
   "cell_type": "markdown",
   "id": "20707044-3430-42c3-b28d-287a6b628b81",
   "metadata": {},
   "source": [
    "## Import Dataset"
   ]
  },
  {
   "cell_type": "code",
   "execution_count": 96,
   "id": "b7863769-d384-47fe-9a8d-720e26cf94cd",
   "metadata": {
    "tags": []
   },
   "outputs": [],
   "source": [
    "drugs = pd.read_csv(\"drug200.csv\", index_col=0)  # 'Index_col=0' set the first column as the index"
   ]
  },
  {
   "cell_type": "markdown",
   "id": "f27c9344-5d63-4528-b5a3-7645555925b5",
   "metadata": {},
   "source": [
    "### EDA: Clean and analyze Data"
   ]
  },
  {
   "cell_type": "code",
   "execution_count": 97,
   "id": "d29ade6a-d54b-4ae8-bb2f-b7317daca824",
   "metadata": {
    "tags": []
   },
   "outputs": [
    {
     "data": {
      "text/html": [
       "<div>\n",
       "<style scoped>\n",
       "    .dataframe tbody tr th:only-of-type {\n",
       "        vertical-align: middle;\n",
       "    }\n",
       "\n",
       "    .dataframe tbody tr th {\n",
       "        vertical-align: top;\n",
       "    }\n",
       "\n",
       "    .dataframe thead th {\n",
       "        text-align: right;\n",
       "    }\n",
       "</style>\n",
       "<table border=\"1\" class=\"dataframe\">\n",
       "  <thead>\n",
       "    <tr style=\"text-align: right;\">\n",
       "      <th></th>\n",
       "      <th>Sex</th>\n",
       "      <th>BP</th>\n",
       "      <th>Cholesterol</th>\n",
       "      <th>Na_to_K</th>\n",
       "      <th>Drug</th>\n",
       "    </tr>\n",
       "    <tr>\n",
       "      <th>Age</th>\n",
       "      <th></th>\n",
       "      <th></th>\n",
       "      <th></th>\n",
       "      <th></th>\n",
       "      <th></th>\n",
       "    </tr>\n",
       "  </thead>\n",
       "  <tbody>\n",
       "    <tr>\n",
       "      <th>23</th>\n",
       "      <td>F</td>\n",
       "      <td>HIGH</td>\n",
       "      <td>HIGH</td>\n",
       "      <td>25.355</td>\n",
       "      <td>drugY</td>\n",
       "    </tr>\n",
       "    <tr>\n",
       "      <th>47</th>\n",
       "      <td>M</td>\n",
       "      <td>LOW</td>\n",
       "      <td>HIGH</td>\n",
       "      <td>13.093</td>\n",
       "      <td>drugC</td>\n",
       "    </tr>\n",
       "    <tr>\n",
       "      <th>47</th>\n",
       "      <td>M</td>\n",
       "      <td>LOW</td>\n",
       "      <td>HIGH</td>\n",
       "      <td>10.114</td>\n",
       "      <td>drugC</td>\n",
       "    </tr>\n",
       "    <tr>\n",
       "      <th>28</th>\n",
       "      <td>F</td>\n",
       "      <td>NORMAL</td>\n",
       "      <td>HIGH</td>\n",
       "      <td>7.798</td>\n",
       "      <td>drugX</td>\n",
       "    </tr>\n",
       "    <tr>\n",
       "      <th>61</th>\n",
       "      <td>F</td>\n",
       "      <td>LOW</td>\n",
       "      <td>HIGH</td>\n",
       "      <td>18.043</td>\n",
       "      <td>drugY</td>\n",
       "    </tr>\n",
       "  </tbody>\n",
       "</table>\n",
       "</div>"
      ],
      "text/plain": [
       "    Sex      BP Cholesterol  Na_to_K   Drug\n",
       "Age                                        \n",
       "23    F    HIGH        HIGH   25.355  drugY\n",
       "47    M     LOW        HIGH   13.093  drugC\n",
       "47    M     LOW        HIGH   10.114  drugC\n",
       "28    F  NORMAL        HIGH    7.798  drugX\n",
       "61    F     LOW        HIGH   18.043  drugY"
      ]
     },
     "execution_count": 97,
     "metadata": {},
     "output_type": "execute_result"
    }
   ],
   "source": [
    "drugs.head()    # Display the first few rows to understand the dataset"
   ]
  },
  {
   "cell_type": "code",
   "execution_count": 98,
   "id": "08674746-1b8f-4cb4-a8f2-f121bf093c7a",
   "metadata": {
    "tags": []
   },
   "outputs": [
    {
     "data": {
      "text/html": [
       "<div>\n",
       "<style scoped>\n",
       "    .dataframe tbody tr th:only-of-type {\n",
       "        vertical-align: middle;\n",
       "    }\n",
       "\n",
       "    .dataframe tbody tr th {\n",
       "        vertical-align: top;\n",
       "    }\n",
       "\n",
       "    .dataframe thead th {\n",
       "        text-align: right;\n",
       "    }\n",
       "</style>\n",
       "<table border=\"1\" class=\"dataframe\">\n",
       "  <thead>\n",
       "    <tr style=\"text-align: right;\">\n",
       "      <th></th>\n",
       "      <th>Sex</th>\n",
       "      <th>BP</th>\n",
       "      <th>Cholesterol</th>\n",
       "      <th>Na_to_K</th>\n",
       "      <th>Drug</th>\n",
       "    </tr>\n",
       "    <tr>\n",
       "      <th>Age</th>\n",
       "      <th></th>\n",
       "      <th></th>\n",
       "      <th></th>\n",
       "      <th></th>\n",
       "      <th></th>\n",
       "    </tr>\n",
       "  </thead>\n",
       "  <tbody>\n",
       "    <tr>\n",
       "      <th>56</th>\n",
       "      <td>F</td>\n",
       "      <td>LOW</td>\n",
       "      <td>HIGH</td>\n",
       "      <td>11.567</td>\n",
       "      <td>drugC</td>\n",
       "    </tr>\n",
       "    <tr>\n",
       "      <th>16</th>\n",
       "      <td>M</td>\n",
       "      <td>LOW</td>\n",
       "      <td>HIGH</td>\n",
       "      <td>12.006</td>\n",
       "      <td>drugC</td>\n",
       "    </tr>\n",
       "    <tr>\n",
       "      <th>52</th>\n",
       "      <td>M</td>\n",
       "      <td>NORMAL</td>\n",
       "      <td>HIGH</td>\n",
       "      <td>9.894</td>\n",
       "      <td>drugX</td>\n",
       "    </tr>\n",
       "    <tr>\n",
       "      <th>23</th>\n",
       "      <td>M</td>\n",
       "      <td>NORMAL</td>\n",
       "      <td>NORMAL</td>\n",
       "      <td>14.020</td>\n",
       "      <td>drugX</td>\n",
       "    </tr>\n",
       "    <tr>\n",
       "      <th>40</th>\n",
       "      <td>F</td>\n",
       "      <td>LOW</td>\n",
       "      <td>NORMAL</td>\n",
       "      <td>11.349</td>\n",
       "      <td>drugX</td>\n",
       "    </tr>\n",
       "  </tbody>\n",
       "</table>\n",
       "</div>"
      ],
      "text/plain": [
       "    Sex      BP Cholesterol  Na_to_K   Drug\n",
       "Age                                        \n",
       "56    F     LOW        HIGH   11.567  drugC\n",
       "16    M     LOW        HIGH   12.006  drugC\n",
       "52    M  NORMAL        HIGH    9.894  drugX\n",
       "23    M  NORMAL      NORMAL   14.020  drugX\n",
       "40    F     LOW      NORMAL   11.349  drugX"
      ]
     },
     "execution_count": 98,
     "metadata": {},
     "output_type": "execute_result"
    }
   ],
   "source": [
    "drugs.tail()"
   ]
  },
  {
   "cell_type": "code",
   "execution_count": 99,
   "id": "241107e2-99e3-4997-ab86-46bc6a94b301",
   "metadata": {
    "tags": []
   },
   "outputs": [
    {
     "data": {
      "text/plain": [
       "Index(['Sex', 'BP', 'Cholesterol', 'Na_to_K', 'Drug'], dtype='object')"
      ]
     },
     "execution_count": 99,
     "metadata": {},
     "output_type": "execute_result"
    }
   ],
   "source": [
    "drugs.columns"
   ]
  },
  {
   "cell_type": "code",
   "execution_count": 100,
   "id": "d8882877-64df-4b11-ad84-04b1601c9056",
   "metadata": {
    "tags": []
   },
   "outputs": [
    {
     "data": {
      "text/plain": [
       "Sex             object\n",
       "BP              object\n",
       "Cholesterol     object\n",
       "Na_to_K        float64\n",
       "Drug            object\n",
       "dtype: object"
      ]
     },
     "execution_count": 100,
     "metadata": {},
     "output_type": "execute_result"
    }
   ],
   "source": [
    "drugs.dtypes"
   ]
  },
  {
   "cell_type": "code",
   "execution_count": 101,
   "id": "d202cc90-c653-42bf-8da5-c6772a7e1459",
   "metadata": {
    "tags": []
   },
   "outputs": [
    {
     "data": {
      "text/plain": [
       "(200, 5)"
      ]
     },
     "execution_count": 101,
     "metadata": {},
     "output_type": "execute_result"
    }
   ],
   "source": [
    "drugs.shape          # Retrieve the dimensions (number of rows and columns)"
   ]
  },
  {
   "cell_type": "code",
   "execution_count": 102,
   "id": "6560fda8-9990-4d0e-b848-aad8d238eabc",
   "metadata": {
    "tags": []
   },
   "outputs": [
    {
     "name": "stdout",
     "output_type": "stream",
     "text": [
      "<class 'pandas.core.frame.DataFrame'>\n",
      "Int64Index: 200 entries, 23 to 40\n",
      "Data columns (total 5 columns):\n",
      " #   Column       Non-Null Count  Dtype  \n",
      "---  ------       --------------  -----  \n",
      " 0   Sex          200 non-null    object \n",
      " 1   BP           200 non-null    object \n",
      " 2   Cholesterol  200 non-null    object \n",
      " 3   Na_to_K      200 non-null    float64\n",
      " 4   Drug         200 non-null    object \n",
      "dtypes: float64(1), object(4)\n",
      "memory usage: 9.4+ KB\n"
     ]
    }
   ],
   "source": [
    "drugs.info()         # Display concise information about the DataFrame"
   ]
  },
  {
   "cell_type": "markdown",
   "id": "0c8c865c-257f-465d-85f8-2d087b86ec7f",
   "metadata": {},
   "source": [
    "### Cleaning the Dataset"
   ]
  },
  {
   "cell_type": "code",
   "execution_count": 103,
   "id": "2bb5b008-6a0d-46a0-92dd-3cb0e44f90d5",
   "metadata": {
    "tags": []
   },
   "outputs": [
    {
     "data": {
      "text/plain": [
       "(0, 5)"
      ]
     },
     "execution_count": 103,
     "metadata": {},
     "output_type": "execute_result"
    }
   ],
   "source": [
    "drugs[drugs.duplicated()].shape         #Check for duplicated rows in the DataFrame"
   ]
  },
  {
   "cell_type": "code",
   "execution_count": 104,
   "id": "ab0b22bd-bc54-4ac1-9214-ea016e4e50bb",
   "metadata": {
    "tags": []
   },
   "outputs": [],
   "source": [
    "drugs_cleaned = drugs.drop_duplicates()  #New DataFrame 'drugs_cleaned' by removing duplicated rows from the 'drugs' DataFrame\n"
   ]
  },
  {
   "cell_type": "code",
   "execution_count": 105,
   "id": "b29e0010-dc9d-413b-bd92-8a67ba9ee50e",
   "metadata": {
    "tags": []
   },
   "outputs": [
    {
     "data": {
      "text/plain": [
       "(200, 5)"
      ]
     },
     "execution_count": 105,
     "metadata": {},
     "output_type": "execute_result"
    }
   ],
   "source": [
    "drugs_cleaned.shape                      #Retrieve the dimensions of the new DataFrame"
   ]
  },
  {
   "cell_type": "code",
   "execution_count": 106,
   "id": "7779de99-a535-4d99-95c9-b6672e4075b1",
   "metadata": {
    "tags": []
   },
   "outputs": [
    {
     "name": "stdout",
     "output_type": "stream",
     "text": [
      "Sex            0\n",
      "BP             0\n",
      "Cholesterol    0\n",
      "Na_to_K        0\n",
      "Drug           0\n",
      "dtype: int64\n"
     ]
    }
   ],
   "source": [
    "missing_values = drugs.isnull().sum()    #Calculate the sum of missing values for each column in the DF\n",
    "print(missing_values)"
   ]
  },
  {
   "cell_type": "markdown",
   "id": "d610e190-8cb2-4e64-829d-8711daa3a1d2",
   "metadata": {},
   "source": [
    "### Analyzing the Dataset"
   ]
  },
  {
   "cell_type": "code",
   "execution_count": 107,
   "id": "45223acd-492c-4a5d-b1ae-1746717425c0",
   "metadata": {
    "tags": []
   },
   "outputs": [
    {
     "data": {
      "text/html": [
       "<div>\n",
       "<style scoped>\n",
       "    .dataframe tbody tr th:only-of-type {\n",
       "        vertical-align: middle;\n",
       "    }\n",
       "\n",
       "    .dataframe tbody tr th {\n",
       "        vertical-align: top;\n",
       "    }\n",
       "\n",
       "    .dataframe thead th {\n",
       "        text-align: right;\n",
       "    }\n",
       "</style>\n",
       "<table border=\"1\" class=\"dataframe\">\n",
       "  <thead>\n",
       "    <tr style=\"text-align: right;\">\n",
       "      <th></th>\n",
       "      <th>Na_to_K</th>\n",
       "    </tr>\n",
       "  </thead>\n",
       "  <tbody>\n",
       "    <tr>\n",
       "      <th>count</th>\n",
       "      <td>200.000000</td>\n",
       "    </tr>\n",
       "    <tr>\n",
       "      <th>mean</th>\n",
       "      <td>16.084485</td>\n",
       "    </tr>\n",
       "    <tr>\n",
       "      <th>std</th>\n",
       "      <td>7.223956</td>\n",
       "    </tr>\n",
       "    <tr>\n",
       "      <th>min</th>\n",
       "      <td>6.269000</td>\n",
       "    </tr>\n",
       "    <tr>\n",
       "      <th>25%</th>\n",
       "      <td>10.445500</td>\n",
       "    </tr>\n",
       "    <tr>\n",
       "      <th>50%</th>\n",
       "      <td>13.936500</td>\n",
       "    </tr>\n",
       "    <tr>\n",
       "      <th>75%</th>\n",
       "      <td>19.380000</td>\n",
       "    </tr>\n",
       "    <tr>\n",
       "      <th>max</th>\n",
       "      <td>38.247000</td>\n",
       "    </tr>\n",
       "  </tbody>\n",
       "</table>\n",
       "</div>"
      ],
      "text/plain": [
       "          Na_to_K\n",
       "count  200.000000\n",
       "mean    16.084485\n",
       "std      7.223956\n",
       "min      6.269000\n",
       "25%     10.445500\n",
       "50%     13.936500\n",
       "75%     19.380000\n",
       "max     38.247000"
      ]
     },
     "execution_count": 107,
     "metadata": {},
     "output_type": "execute_result"
    }
   ],
   "source": [
    "drugs.describe()    #Descriptive Statistics:to understand numerical features."
   ]
  },
  {
   "cell_type": "markdown",
   "id": "c0ada928-0db5-4293-b874-e9dc188cefac",
   "metadata": {},
   "source": [
    "#### Visualizations:"
   ]
  },
  {
   "cell_type": "code",
   "execution_count": null,
   "id": "b3d67e54-6aff-4dee-98c6-c7f07525cc88",
   "metadata": {
    "tags": []
   },
   "outputs": [],
   "source": []
  },
  {
   "cell_type": "markdown",
   "id": "de428b37-9ce5-4666-a178-439f6295b577",
   "metadata": {},
   "source": [
    "#### Partitioning into Training and Testing Sets"
   ]
  },
  {
   "cell_type": "code",
   "execution_count": 108,
   "id": "368be4ae-f962-4d7a-b5b6-01b0f2160d84",
   "metadata": {
    "tags": []
   },
   "outputs": [
    {
     "data": {
      "text/html": [
       "<div>\n",
       "<style scoped>\n",
       "    .dataframe tbody tr th:only-of-type {\n",
       "        vertical-align: middle;\n",
       "    }\n",
       "\n",
       "    .dataframe tbody tr th {\n",
       "        vertical-align: top;\n",
       "    }\n",
       "\n",
       "    .dataframe thead th {\n",
       "        text-align: right;\n",
       "    }\n",
       "</style>\n",
       "<table border=\"1\" class=\"dataframe\">\n",
       "  <thead>\n",
       "    <tr style=\"text-align: right;\">\n",
       "      <th></th>\n",
       "      <th>Sex</th>\n",
       "      <th>BP</th>\n",
       "      <th>Cholesterol</th>\n",
       "      <th>Na_to_K</th>\n",
       "      <th>Drug</th>\n",
       "    </tr>\n",
       "    <tr>\n",
       "      <th>Age</th>\n",
       "      <th></th>\n",
       "      <th></th>\n",
       "      <th></th>\n",
       "      <th></th>\n",
       "      <th></th>\n",
       "    </tr>\n",
       "  </thead>\n",
       "  <tbody>\n",
       "    <tr>\n",
       "      <th>23</th>\n",
       "      <td>F</td>\n",
       "      <td>HIGH</td>\n",
       "      <td>HIGH</td>\n",
       "      <td>25.355</td>\n",
       "      <td>drugY</td>\n",
       "    </tr>\n",
       "    <tr>\n",
       "      <th>47</th>\n",
       "      <td>M</td>\n",
       "      <td>LOW</td>\n",
       "      <td>HIGH</td>\n",
       "      <td>13.093</td>\n",
       "      <td>drugC</td>\n",
       "    </tr>\n",
       "    <tr>\n",
       "      <th>47</th>\n",
       "      <td>M</td>\n",
       "      <td>LOW</td>\n",
       "      <td>HIGH</td>\n",
       "      <td>10.114</td>\n",
       "      <td>drugC</td>\n",
       "    </tr>\n",
       "    <tr>\n",
       "      <th>28</th>\n",
       "      <td>F</td>\n",
       "      <td>NORMAL</td>\n",
       "      <td>HIGH</td>\n",
       "      <td>7.798</td>\n",
       "      <td>drugX</td>\n",
       "    </tr>\n",
       "    <tr>\n",
       "      <th>61</th>\n",
       "      <td>F</td>\n",
       "      <td>LOW</td>\n",
       "      <td>HIGH</td>\n",
       "      <td>18.043</td>\n",
       "      <td>drugY</td>\n",
       "    </tr>\n",
       "  </tbody>\n",
       "</table>\n",
       "</div>"
      ],
      "text/plain": [
       "    Sex      BP Cholesterol  Na_to_K   Drug\n",
       "Age                                        \n",
       "23    F    HIGH        HIGH   25.355  drugY\n",
       "47    M     LOW        HIGH   13.093  drugC\n",
       "47    M     LOW        HIGH   10.114  drugC\n",
       "28    F  NORMAL        HIGH    7.798  drugX\n",
       "61    F     LOW        HIGH   18.043  drugY"
      ]
     },
     "execution_count": 108,
     "metadata": {},
     "output_type": "execute_result"
    }
   ],
   "source": [
    "drugs.head()"
   ]
  },
  {
   "cell_type": "code",
   "execution_count": 109,
   "id": "94261bdd-3d9a-4da5-be88-0a75c77ce27d",
   "metadata": {
    "tags": []
   },
   "outputs": [],
   "source": [
    "x = drugs[['Sex', 'BP', 'Cholesterol', 'Na_to_K']]  # Features variable\n",
    "y = drugs['Drug']  # Target variable"
   ]
  },
  {
   "cell_type": "code",
   "execution_count": 110,
   "id": "32ef3a71-c71e-4484-a352-0a786c7139e6",
   "metadata": {
    "tags": []
   },
   "outputs": [
    {
     "data": {
      "text/plain": [
       "M    104\n",
       "F     96\n",
       "Name: Sex, dtype: int64"
      ]
     },
     "execution_count": 110,
     "metadata": {},
     "output_type": "execute_result"
    }
   ],
   "source": [
    "#convert object data columns into numerical data columns\n",
    "\n",
    "drugs['Sex'].value_counts()"
   ]
  },
  {
   "cell_type": "code",
   "execution_count": 111,
   "id": "986db704-c312-4fb8-95d3-391ba2038928",
   "metadata": {
    "tags": []
   },
   "outputs": [],
   "source": [
    "#Handling Categorical Feature Sex,BP and Cholesterol\n",
    "#map() will apply the given condition\n",
    "\n",
    "#drugs['Sex']=drugs['Sex'].map({'M':0,'F':1})\n",
    "\n",
    "#drugs['BP']=drugs['BP'].map({'HIGH':0,'LOW':1,'NORMAL':2})\n",
    "\n",
    "#drugs['Cholesterol']=drugs['Cholesterol'].map({'HIGH':0,'NORMAL':2})\n",
    "#drugs.head()"
   ]
  },
  {
   "cell_type": "code",
   "execution_count": 112,
   "id": "af0a7c71-4960-4890-bff5-cb73354b62e4",
   "metadata": {
    "tags": []
   },
   "outputs": [],
   "source": [
    "#drugs['Cholesterol'].value_counts()"
   ]
  },
  {
   "cell_type": "markdown",
   "id": "1fa8f7d8-1dec-4d8c-8f94-ca09d4cfbc40",
   "metadata": {},
   "source": [
    "#### Use label encoder to convert Object columns Sex, BP, Cholesterol (feature variables) and Drug (target variable) into Numbers."
   ]
  },
  {
   "cell_type": "code",
   "execution_count": 113,
   "id": "65a82dc6-1551-4b60-9f32-6551d51cc801",
   "metadata": {
    "tags": []
   },
   "outputs": [],
   "source": [
    "label_encoder = preprocessing.LabelEncoder()\n",
    "drugs['Sex'] = label_encoder.fit_transform(drugs['Sex'])\n",
    "drugs['BP'] = label_encoder.fit_transform(drugs['BP'])\n",
    "drugs['Cholesterol'] = label_encoder.fit_transform(drugs['Cholesterol'])\n",
    "drugs['Drug'] = label_encoder.fit_transform(drugs['Drug'])"
   ]
  },
  {
   "cell_type": "code",
   "execution_count": 114,
   "id": "b4b98408-dd56-4761-83d5-4b2bc91d4d38",
   "metadata": {
    "tags": []
   },
   "outputs": [
    {
     "data": {
      "text/plain": [
       "1    104\n",
       "0     96\n",
       "Name: Sex, dtype: int64"
      ]
     },
     "execution_count": 114,
     "metadata": {},
     "output_type": "execute_result"
    }
   ],
   "source": [
    "drugs['Sex'].value_counts()    # Count the occurrences of each unique value in the column"
   ]
  },
  {
   "cell_type": "code",
   "execution_count": 115,
   "id": "99f76c51-4514-4fda-b59b-96a4324837fc",
   "metadata": {
    "tags": []
   },
   "outputs": [
    {
     "data": {
      "text/plain": [
       "0    77\n",
       "1    64\n",
       "2    59\n",
       "Name: BP, dtype: int64"
      ]
     },
     "execution_count": 115,
     "metadata": {},
     "output_type": "execute_result"
    }
   ],
   "source": [
    "drugs['BP'].value_counts()"
   ]
  },
  {
   "cell_type": "code",
   "execution_count": 116,
   "id": "0ad2b3b6-f7a9-4f89-9e09-696fff17e7f4",
   "metadata": {
    "tags": []
   },
   "outputs": [
    {
     "data": {
      "text/plain": [
       "0    103\n",
       "1     97\n",
       "Name: Cholesterol, dtype: int64"
      ]
     },
     "execution_count": 116,
     "metadata": {},
     "output_type": "execute_result"
    }
   ],
   "source": [
    "drugs['Cholesterol'].value_counts()"
   ]
  },
  {
   "cell_type": "code",
   "execution_count": 117,
   "id": "3922c0c5-7344-464e-abba-d7f9e496efcf",
   "metadata": {
    "tags": []
   },
   "outputs": [
    {
     "data": {
      "text/html": [
       "<div>\n",
       "<style scoped>\n",
       "    .dataframe tbody tr th:only-of-type {\n",
       "        vertical-align: middle;\n",
       "    }\n",
       "\n",
       "    .dataframe tbody tr th {\n",
       "        vertical-align: top;\n",
       "    }\n",
       "\n",
       "    .dataframe thead th {\n",
       "        text-align: right;\n",
       "    }\n",
       "</style>\n",
       "<table border=\"1\" class=\"dataframe\">\n",
       "  <thead>\n",
       "    <tr style=\"text-align: right;\">\n",
       "      <th></th>\n",
       "      <th>Sex</th>\n",
       "      <th>BP</th>\n",
       "      <th>Cholesterol</th>\n",
       "      <th>Na_to_K</th>\n",
       "      <th>Drug</th>\n",
       "    </tr>\n",
       "    <tr>\n",
       "      <th>Age</th>\n",
       "      <th></th>\n",
       "      <th></th>\n",
       "      <th></th>\n",
       "      <th></th>\n",
       "      <th></th>\n",
       "    </tr>\n",
       "  </thead>\n",
       "  <tbody>\n",
       "    <tr>\n",
       "      <th>23</th>\n",
       "      <td>0</td>\n",
       "      <td>0</td>\n",
       "      <td>0</td>\n",
       "      <td>25.355</td>\n",
       "      <td>4</td>\n",
       "    </tr>\n",
       "    <tr>\n",
       "      <th>47</th>\n",
       "      <td>1</td>\n",
       "      <td>1</td>\n",
       "      <td>0</td>\n",
       "      <td>13.093</td>\n",
       "      <td>2</td>\n",
       "    </tr>\n",
       "    <tr>\n",
       "      <th>47</th>\n",
       "      <td>1</td>\n",
       "      <td>1</td>\n",
       "      <td>0</td>\n",
       "      <td>10.114</td>\n",
       "      <td>2</td>\n",
       "    </tr>\n",
       "    <tr>\n",
       "      <th>28</th>\n",
       "      <td>0</td>\n",
       "      <td>2</td>\n",
       "      <td>0</td>\n",
       "      <td>7.798</td>\n",
       "      <td>3</td>\n",
       "    </tr>\n",
       "    <tr>\n",
       "      <th>61</th>\n",
       "      <td>0</td>\n",
       "      <td>1</td>\n",
       "      <td>0</td>\n",
       "      <td>18.043</td>\n",
       "      <td>4</td>\n",
       "    </tr>\n",
       "  </tbody>\n",
       "</table>\n",
       "</div>"
      ],
      "text/plain": [
       "     Sex  BP  Cholesterol  Na_to_K  Drug\n",
       "Age                                     \n",
       "23     0   0            0   25.355     4\n",
       "47     1   1            0   13.093     2\n",
       "47     1   1            0   10.114     2\n",
       "28     0   2            0    7.798     3\n",
       "61     0   1            0   18.043     4"
      ]
     },
     "execution_count": 117,
     "metadata": {},
     "output_type": "execute_result"
    }
   ],
   "source": [
    "drugs.head()"
   ]
  },
  {
   "cell_type": "markdown",
   "id": "699183dd-1e51-4fe8-8d64-666f56c77050",
   "metadata": {},
   "source": [
    "#### Split the dataset into features and target variable"
   ]
  },
  {
   "cell_type": "code",
   "execution_count": 118,
   "id": "98b6b477-0b8a-4847-9c70-3ee2658cb764",
   "metadata": {
    "tags": []
   },
   "outputs": [],
   "source": [
    "#drugs.iloc[:,0:5]   # Selects all rows and the first five columns"
   ]
  },
  {
   "cell_type": "code",
   "execution_count": 119,
   "id": "36789d33-1a42-43da-9981-03e77c1340c1",
   "metadata": {
    "tags": []
   },
   "outputs": [],
   "source": [
    "#x = drugs.iloc[:,0:4]\n",
    "#y = drugs.iloc[:,4]"
   ]
  },
  {
   "cell_type": "code",
   "execution_count": 120,
   "id": "3db125a0-3add-4c56-9838-f04eb1485e48",
   "metadata": {
    "tags": []
   },
   "outputs": [],
   "source": [
    "# Splitting the 'drugs' DataFrame into features (x) and target variable (y)\n",
    "\n",
    "x = drugs.drop('Drug', axis=1)   # Selects columns 0 to 3 as features (independent variables)\n",
    "y = drugs['Drug']                # Selects column 4 as the target variable (dependent variable)"
   ]
  },
  {
   "cell_type": "code",
   "execution_count": 121,
   "id": "e7ff7007-9aea-4330-9ba4-4552f1396eaa",
   "metadata": {
    "tags": []
   },
   "outputs": [
    {
     "data": {
      "text/html": [
       "<div>\n",
       "<style scoped>\n",
       "    .dataframe tbody tr th:only-of-type {\n",
       "        vertical-align: middle;\n",
       "    }\n",
       "\n",
       "    .dataframe tbody tr th {\n",
       "        vertical-align: top;\n",
       "    }\n",
       "\n",
       "    .dataframe thead th {\n",
       "        text-align: right;\n",
       "    }\n",
       "</style>\n",
       "<table border=\"1\" class=\"dataframe\">\n",
       "  <thead>\n",
       "    <tr style=\"text-align: right;\">\n",
       "      <th></th>\n",
       "      <th>Sex</th>\n",
       "      <th>BP</th>\n",
       "      <th>Cholesterol</th>\n",
       "      <th>Na_to_K</th>\n",
       "    </tr>\n",
       "    <tr>\n",
       "      <th>Age</th>\n",
       "      <th></th>\n",
       "      <th></th>\n",
       "      <th></th>\n",
       "      <th></th>\n",
       "    </tr>\n",
       "  </thead>\n",
       "  <tbody>\n",
       "    <tr>\n",
       "      <th>23</th>\n",
       "      <td>0</td>\n",
       "      <td>0</td>\n",
       "      <td>0</td>\n",
       "      <td>25.355</td>\n",
       "    </tr>\n",
       "    <tr>\n",
       "      <th>47</th>\n",
       "      <td>1</td>\n",
       "      <td>1</td>\n",
       "      <td>0</td>\n",
       "      <td>13.093</td>\n",
       "    </tr>\n",
       "    <tr>\n",
       "      <th>47</th>\n",
       "      <td>1</td>\n",
       "      <td>1</td>\n",
       "      <td>0</td>\n",
       "      <td>10.114</td>\n",
       "    </tr>\n",
       "    <tr>\n",
       "      <th>28</th>\n",
       "      <td>0</td>\n",
       "      <td>2</td>\n",
       "      <td>0</td>\n",
       "      <td>7.798</td>\n",
       "    </tr>\n",
       "    <tr>\n",
       "      <th>61</th>\n",
       "      <td>0</td>\n",
       "      <td>1</td>\n",
       "      <td>0</td>\n",
       "      <td>18.043</td>\n",
       "    </tr>\n",
       "    <tr>\n",
       "      <th>...</th>\n",
       "      <td>...</td>\n",
       "      <td>...</td>\n",
       "      <td>...</td>\n",
       "      <td>...</td>\n",
       "    </tr>\n",
       "    <tr>\n",
       "      <th>56</th>\n",
       "      <td>0</td>\n",
       "      <td>1</td>\n",
       "      <td>0</td>\n",
       "      <td>11.567</td>\n",
       "    </tr>\n",
       "    <tr>\n",
       "      <th>16</th>\n",
       "      <td>1</td>\n",
       "      <td>1</td>\n",
       "      <td>0</td>\n",
       "      <td>12.006</td>\n",
       "    </tr>\n",
       "    <tr>\n",
       "      <th>52</th>\n",
       "      <td>1</td>\n",
       "      <td>2</td>\n",
       "      <td>0</td>\n",
       "      <td>9.894</td>\n",
       "    </tr>\n",
       "    <tr>\n",
       "      <th>23</th>\n",
       "      <td>1</td>\n",
       "      <td>2</td>\n",
       "      <td>1</td>\n",
       "      <td>14.020</td>\n",
       "    </tr>\n",
       "    <tr>\n",
       "      <th>40</th>\n",
       "      <td>0</td>\n",
       "      <td>1</td>\n",
       "      <td>1</td>\n",
       "      <td>11.349</td>\n",
       "    </tr>\n",
       "  </tbody>\n",
       "</table>\n",
       "<p>200 rows × 4 columns</p>\n",
       "</div>"
      ],
      "text/plain": [
       "     Sex  BP  Cholesterol  Na_to_K\n",
       "Age                               \n",
       "23     0   0            0   25.355\n",
       "47     1   1            0   13.093\n",
       "47     1   1            0   10.114\n",
       "28     0   2            0    7.798\n",
       "61     0   1            0   18.043\n",
       "..   ...  ..          ...      ...\n",
       "56     0   1            0   11.567\n",
       "16     1   1            0   12.006\n",
       "52     1   2            0    9.894\n",
       "23     1   2            1   14.020\n",
       "40     0   1            1   11.349\n",
       "\n",
       "[200 rows x 4 columns]"
      ]
     },
     "execution_count": 121,
     "metadata": {},
     "output_type": "execute_result"
    }
   ],
   "source": [
    "x"
   ]
  },
  {
   "cell_type": "code",
   "execution_count": 122,
   "id": "07dd48f2-d350-42fd-aab7-2e6e0243d4ee",
   "metadata": {},
   "outputs": [
    {
     "data": {
      "text/plain": [
       "Age\n",
       "23    4\n",
       "47    2\n",
       "47    2\n",
       "28    3\n",
       "61    4\n",
       "     ..\n",
       "56    2\n",
       "16    2\n",
       "52    3\n",
       "23    3\n",
       "40    3\n",
       "Name: Drug, Length: 200, dtype: int32"
      ]
     },
     "execution_count": 122,
     "metadata": {},
     "output_type": "execute_result"
    }
   ],
   "source": [
    "y"
   ]
  },
  {
   "cell_type": "code",
   "execution_count": 123,
   "id": "c0d2b726-2687-48b9-8ee1-5b070ff8642d",
   "metadata": {
    "tags": []
   },
   "outputs": [],
   "source": [
    "# Splitting the dataset into train and test"
   ]
  },
  {
   "cell_type": "code",
   "execution_count": 124,
   "id": "5235f487-35b3-4079-9212-5c09c1a9bf46",
   "metadata": {
    "tags": []
   },
   "outputs": [],
   "source": [
    "x_train, x_test, y_train, y_test = train_test_split(x, y, test_size=0.2, random_state=42)"
   ]
  },
  {
   "cell_type": "code",
   "execution_count": 125,
   "id": "c4093293-c841-4c9f-beac-1427bc3e9b12",
   "metadata": {
    "tags": []
   },
   "outputs": [
    {
     "data": {
      "text/plain": [
       "((160, 4), (40, 4), (160,), (40,))"
      ]
     },
     "execution_count": 125,
     "metadata": {},
     "output_type": "execute_result"
    }
   ],
   "source": [
    "x_train.shape,x_test.shape,y_train.shape,y_test.shape  # Displaying shapes of the training and testing datasets for x and y variables."
   ]
  },
  {
   "cell_type": "code",
   "execution_count": 126,
   "id": "60585442-e793-4adf-8336-9df8b344e48d",
   "metadata": {
    "tags": []
   },
   "outputs": [
    {
     "data": {
      "text/html": [
       "<div>\n",
       "<style scoped>\n",
       "    .dataframe tbody tr th:only-of-type {\n",
       "        vertical-align: middle;\n",
       "    }\n",
       "\n",
       "    .dataframe tbody tr th {\n",
       "        vertical-align: top;\n",
       "    }\n",
       "\n",
       "    .dataframe thead th {\n",
       "        text-align: right;\n",
       "    }\n",
       "</style>\n",
       "<table border=\"1\" class=\"dataframe\">\n",
       "  <thead>\n",
       "    <tr style=\"text-align: right;\">\n",
       "      <th></th>\n",
       "      <th>Sex</th>\n",
       "      <th>BP</th>\n",
       "      <th>Cholesterol</th>\n",
       "      <th>Na_to_K</th>\n",
       "    </tr>\n",
       "    <tr>\n",
       "      <th>Age</th>\n",
       "      <th></th>\n",
       "      <th></th>\n",
       "      <th></th>\n",
       "      <th></th>\n",
       "    </tr>\n",
       "  </thead>\n",
       "  <tbody>\n",
       "    <tr>\n",
       "      <th>36</th>\n",
       "      <td>1</td>\n",
       "      <td>1</td>\n",
       "      <td>1</td>\n",
       "      <td>11.424</td>\n",
       "    </tr>\n",
       "    <tr>\n",
       "      <th>16</th>\n",
       "      <td>0</td>\n",
       "      <td>0</td>\n",
       "      <td>1</td>\n",
       "      <td>15.516</td>\n",
       "    </tr>\n",
       "    <tr>\n",
       "      <th>18</th>\n",
       "      <td>0</td>\n",
       "      <td>2</td>\n",
       "      <td>1</td>\n",
       "      <td>8.750</td>\n",
       "    </tr>\n",
       "    <tr>\n",
       "      <th>59</th>\n",
       "      <td>0</td>\n",
       "      <td>1</td>\n",
       "      <td>0</td>\n",
       "      <td>10.444</td>\n",
       "    </tr>\n",
       "    <tr>\n",
       "      <th>47</th>\n",
       "      <td>1</td>\n",
       "      <td>1</td>\n",
       "      <td>1</td>\n",
       "      <td>33.542</td>\n",
       "    </tr>\n",
       "    <tr>\n",
       "      <th>51</th>\n",
       "      <td>1</td>\n",
       "      <td>0</td>\n",
       "      <td>0</td>\n",
       "      <td>18.295</td>\n",
       "    </tr>\n",
       "    <tr>\n",
       "      <th>18</th>\n",
       "      <td>0</td>\n",
       "      <td>0</td>\n",
       "      <td>1</td>\n",
       "      <td>24.276</td>\n",
       "    </tr>\n",
       "    <tr>\n",
       "      <th>28</th>\n",
       "      <td>0</td>\n",
       "      <td>2</td>\n",
       "      <td>0</td>\n",
       "      <td>12.879</td>\n",
       "    </tr>\n",
       "    <tr>\n",
       "      <th>42</th>\n",
       "      <td>1</td>\n",
       "      <td>0</td>\n",
       "      <td>1</td>\n",
       "      <td>12.766</td>\n",
       "    </tr>\n",
       "    <tr>\n",
       "      <th>66</th>\n",
       "      <td>0</td>\n",
       "      <td>2</td>\n",
       "      <td>1</td>\n",
       "      <td>8.107</td>\n",
       "    </tr>\n",
       "    <tr>\n",
       "      <th>29</th>\n",
       "      <td>1</td>\n",
       "      <td>0</td>\n",
       "      <td>0</td>\n",
       "      <td>12.856</td>\n",
       "    </tr>\n",
       "    <tr>\n",
       "      <th>20</th>\n",
       "      <td>0</td>\n",
       "      <td>1</td>\n",
       "      <td>1</td>\n",
       "      <td>11.686</td>\n",
       "    </tr>\n",
       "    <tr>\n",
       "      <th>38</th>\n",
       "      <td>1</td>\n",
       "      <td>1</td>\n",
       "      <td>0</td>\n",
       "      <td>18.295</td>\n",
       "    </tr>\n",
       "    <tr>\n",
       "      <th>19</th>\n",
       "      <td>0</td>\n",
       "      <td>0</td>\n",
       "      <td>0</td>\n",
       "      <td>13.313</td>\n",
       "    </tr>\n",
       "    <tr>\n",
       "      <th>70</th>\n",
       "      <td>1</td>\n",
       "      <td>0</td>\n",
       "      <td>0</td>\n",
       "      <td>9.849</td>\n",
       "    </tr>\n",
       "    <tr>\n",
       "      <th>25</th>\n",
       "      <td>1</td>\n",
       "      <td>2</td>\n",
       "      <td>0</td>\n",
       "      <td>19.011</td>\n",
       "    </tr>\n",
       "    <tr>\n",
       "      <th>65</th>\n",
       "      <td>1</td>\n",
       "      <td>0</td>\n",
       "      <td>1</td>\n",
       "      <td>11.340</td>\n",
       "    </tr>\n",
       "    <tr>\n",
       "      <th>55</th>\n",
       "      <td>1</td>\n",
       "      <td>2</td>\n",
       "      <td>1</td>\n",
       "      <td>7.261</td>\n",
       "    </tr>\n",
       "    <tr>\n",
       "      <th>32</th>\n",
       "      <td>0</td>\n",
       "      <td>1</td>\n",
       "      <td>0</td>\n",
       "      <td>9.712</td>\n",
       "    </tr>\n",
       "    <tr>\n",
       "      <th>54</th>\n",
       "      <td>1</td>\n",
       "      <td>2</td>\n",
       "      <td>0</td>\n",
       "      <td>24.658</td>\n",
       "    </tr>\n",
       "    <tr>\n",
       "      <th>53</th>\n",
       "      <td>0</td>\n",
       "      <td>0</td>\n",
       "      <td>1</td>\n",
       "      <td>12.495</td>\n",
       "    </tr>\n",
       "    <tr>\n",
       "      <th>69</th>\n",
       "      <td>1</td>\n",
       "      <td>1</td>\n",
       "      <td>1</td>\n",
       "      <td>11.455</td>\n",
       "    </tr>\n",
       "    <tr>\n",
       "      <th>61</th>\n",
       "      <td>0</td>\n",
       "      <td>1</td>\n",
       "      <td>1</td>\n",
       "      <td>7.340</td>\n",
       "    </tr>\n",
       "    <tr>\n",
       "      <th>42</th>\n",
       "      <td>0</td>\n",
       "      <td>1</td>\n",
       "      <td>1</td>\n",
       "      <td>29.271</td>\n",
       "    </tr>\n",
       "    <tr>\n",
       "      <th>68</th>\n",
       "      <td>0</td>\n",
       "      <td>2</td>\n",
       "      <td>1</td>\n",
       "      <td>27.050</td>\n",
       "    </tr>\n",
       "    <tr>\n",
       "      <th>38</th>\n",
       "      <td>0</td>\n",
       "      <td>1</td>\n",
       "      <td>1</td>\n",
       "      <td>29.875</td>\n",
       "    </tr>\n",
       "    <tr>\n",
       "      <th>47</th>\n",
       "      <td>0</td>\n",
       "      <td>1</td>\n",
       "      <td>0</td>\n",
       "      <td>10.067</td>\n",
       "    </tr>\n",
       "    <tr>\n",
       "      <th>17</th>\n",
       "      <td>1</td>\n",
       "      <td>2</td>\n",
       "      <td>1</td>\n",
       "      <td>10.832</td>\n",
       "    </tr>\n",
       "    <tr>\n",
       "      <th>19</th>\n",
       "      <td>0</td>\n",
       "      <td>0</td>\n",
       "      <td>1</td>\n",
       "      <td>25.969</td>\n",
       "    </tr>\n",
       "    <tr>\n",
       "      <th>49</th>\n",
       "      <td>1</td>\n",
       "      <td>1</td>\n",
       "      <td>1</td>\n",
       "      <td>13.598</td>\n",
       "    </tr>\n",
       "    <tr>\n",
       "      <th>43</th>\n",
       "      <td>1</td>\n",
       "      <td>1</td>\n",
       "      <td>1</td>\n",
       "      <td>19.368</td>\n",
       "    </tr>\n",
       "    <tr>\n",
       "      <th>23</th>\n",
       "      <td>1</td>\n",
       "      <td>1</td>\n",
       "      <td>0</td>\n",
       "      <td>7.298</td>\n",
       "    </tr>\n",
       "    <tr>\n",
       "      <th>26</th>\n",
       "      <td>0</td>\n",
       "      <td>1</td>\n",
       "      <td>0</td>\n",
       "      <td>14.160</td>\n",
       "    </tr>\n",
       "    <tr>\n",
       "      <th>26</th>\n",
       "      <td>1</td>\n",
       "      <td>1</td>\n",
       "      <td>1</td>\n",
       "      <td>20.909</td>\n",
       "    </tr>\n",
       "    <tr>\n",
       "      <th>49</th>\n",
       "      <td>1</td>\n",
       "      <td>0</td>\n",
       "      <td>1</td>\n",
       "      <td>8.700</td>\n",
       "    </tr>\n",
       "    <tr>\n",
       "      <th>22</th>\n",
       "      <td>1</td>\n",
       "      <td>0</td>\n",
       "      <td>1</td>\n",
       "      <td>28.294</td>\n",
       "    </tr>\n",
       "    <tr>\n",
       "      <th>74</th>\n",
       "      <td>1</td>\n",
       "      <td>1</td>\n",
       "      <td>1</td>\n",
       "      <td>11.939</td>\n",
       "    </tr>\n",
       "    <tr>\n",
       "      <th>35</th>\n",
       "      <td>0</td>\n",
       "      <td>0</td>\n",
       "      <td>0</td>\n",
       "      <td>12.894</td>\n",
       "    </tr>\n",
       "    <tr>\n",
       "      <th>16</th>\n",
       "      <td>1</td>\n",
       "      <td>0</td>\n",
       "      <td>1</td>\n",
       "      <td>19.007</td>\n",
       "    </tr>\n",
       "    <tr>\n",
       "      <th>36</th>\n",
       "      <td>0</td>\n",
       "      <td>0</td>\n",
       "      <td>0</td>\n",
       "      <td>11.198</td>\n",
       "    </tr>\n",
       "  </tbody>\n",
       "</table>\n",
       "</div>"
      ],
      "text/plain": [
       "     Sex  BP  Cholesterol  Na_to_K\n",
       "Age                               \n",
       "36     1   1            1   11.424\n",
       "16     0   0            1   15.516\n",
       "18     0   2            1    8.750\n",
       "59     0   1            0   10.444\n",
       "47     1   1            1   33.542\n",
       "51     1   0            0   18.295\n",
       "18     0   0            1   24.276\n",
       "28     0   2            0   12.879\n",
       "42     1   0            1   12.766\n",
       "66     0   2            1    8.107\n",
       "29     1   0            0   12.856\n",
       "20     0   1            1   11.686\n",
       "38     1   1            0   18.295\n",
       "19     0   0            0   13.313\n",
       "70     1   0            0    9.849\n",
       "25     1   2            0   19.011\n",
       "65     1   0            1   11.340\n",
       "55     1   2            1    7.261\n",
       "32     0   1            0    9.712\n",
       "54     1   2            0   24.658\n",
       "53     0   0            1   12.495\n",
       "69     1   1            1   11.455\n",
       "61     0   1            1    7.340\n",
       "42     0   1            1   29.271\n",
       "68     0   2            1   27.050\n",
       "38     0   1            1   29.875\n",
       "47     0   1            0   10.067\n",
       "17     1   2            1   10.832\n",
       "19     0   0            1   25.969\n",
       "49     1   1            1   13.598\n",
       "43     1   1            1   19.368\n",
       "23     1   1            0    7.298\n",
       "26     0   1            0   14.160\n",
       "26     1   1            1   20.909\n",
       "49     1   0            1    8.700\n",
       "22     1   0            1   28.294\n",
       "74     1   1            1   11.939\n",
       "35     0   0            0   12.894\n",
       "16     1   0            1   19.007\n",
       "36     0   0            0   11.198"
      ]
     },
     "execution_count": 126,
     "metadata": {},
     "output_type": "execute_result"
    }
   ],
   "source": [
    "x_test    # Variable storing the testing set features (X_test) for evaluation or prediction"
   ]
  },
  {
   "cell_type": "code",
   "execution_count": 127,
   "id": "71f2466c-0f57-4331-ac0b-ccea2f1ddc4d",
   "metadata": {
    "tags": []
   },
   "outputs": [
    {
     "data": {
      "text/plain": [
       "Age\n",
       "36    3\n",
       "16    4\n",
       "18    3\n",
       "59    2\n",
       "47    4\n",
       "51    4\n",
       "18    4\n",
       "28    3\n",
       "42    0\n",
       "66    3\n",
       "29    0\n",
       "20    3\n",
       "38    4\n",
       "19    0\n",
       "70    1\n",
       "25    4\n",
       "65    1\n",
       "55    3\n",
       "32    2\n",
       "54    4\n",
       "53    1\n",
       "69    3\n",
       "61    3\n",
       "42    4\n",
       "68    4\n",
       "38    4\n",
       "47    2\n",
       "17    3\n",
       "19    4\n",
       "49    3\n",
       "43    4\n",
       "23    2\n",
       "26    2\n",
       "26    4\n",
       "49    0\n",
       "22    4\n",
       "74    3\n",
       "35    0\n",
       "16    4\n",
       "36    0\n",
       "Name: Drug, dtype: int32"
      ]
     },
     "execution_count": 127,
     "metadata": {},
     "output_type": "execute_result"
    }
   ],
   "source": [
    "y_test         #Variable storing the testing set target variables (y_test) for evaluation or comparison"
   ]
  },
  {
   "cell_type": "markdown",
   "id": "f04ae9ca-df19-40aa-b254-c2c9f4db723f",
   "metadata": {},
   "source": [
    "### Building Decision Tree Classifier using Entropy as a Criterion"
   ]
  },
  {
   "cell_type": "code",
   "execution_count": 128,
   "id": "7d26ae7b-75f9-433a-b6e2-433a0ef7f39b",
   "metadata": {
    "tags": []
   },
   "outputs": [
    {
     "data": {
      "text/html": [
       "<style>#sk-container-id-13 {color: black;}#sk-container-id-13 pre{padding: 0;}#sk-container-id-13 div.sk-toggleable {background-color: white;}#sk-container-id-13 label.sk-toggleable__label {cursor: pointer;display: block;width: 100%;margin-bottom: 0;padding: 0.3em;box-sizing: border-box;text-align: center;}#sk-container-id-13 label.sk-toggleable__label-arrow:before {content: \"▸\";float: left;margin-right: 0.25em;color: #696969;}#sk-container-id-13 label.sk-toggleable__label-arrow:hover:before {color: black;}#sk-container-id-13 div.sk-estimator:hover label.sk-toggleable__label-arrow:before {color: black;}#sk-container-id-13 div.sk-toggleable__content {max-height: 0;max-width: 0;overflow: hidden;text-align: left;background-color: #f0f8ff;}#sk-container-id-13 div.sk-toggleable__content pre {margin: 0.2em;color: black;border-radius: 0.25em;background-color: #f0f8ff;}#sk-container-id-13 input.sk-toggleable__control:checked~div.sk-toggleable__content {max-height: 200px;max-width: 100%;overflow: auto;}#sk-container-id-13 input.sk-toggleable__control:checked~label.sk-toggleable__label-arrow:before {content: \"▾\";}#sk-container-id-13 div.sk-estimator input.sk-toggleable__control:checked~label.sk-toggleable__label {background-color: #d4ebff;}#sk-container-id-13 div.sk-label input.sk-toggleable__control:checked~label.sk-toggleable__label {background-color: #d4ebff;}#sk-container-id-13 input.sk-hidden--visually {border: 0;clip: rect(1px 1px 1px 1px);clip: rect(1px, 1px, 1px, 1px);height: 1px;margin: -1px;overflow: hidden;padding: 0;position: absolute;width: 1px;}#sk-container-id-13 div.sk-estimator {font-family: monospace;background-color: #f0f8ff;border: 1px dotted black;border-radius: 0.25em;box-sizing: border-box;margin-bottom: 0.5em;}#sk-container-id-13 div.sk-estimator:hover {background-color: #d4ebff;}#sk-container-id-13 div.sk-parallel-item::after {content: \"\";width: 100%;border-bottom: 1px solid gray;flex-grow: 1;}#sk-container-id-13 div.sk-label:hover label.sk-toggleable__label {background-color: #d4ebff;}#sk-container-id-13 div.sk-serial::before {content: \"\";position: absolute;border-left: 1px solid gray;box-sizing: border-box;top: 0;bottom: 0;left: 50%;z-index: 0;}#sk-container-id-13 div.sk-serial {display: flex;flex-direction: column;align-items: center;background-color: white;padding-right: 0.2em;padding-left: 0.2em;position: relative;}#sk-container-id-13 div.sk-item {position: relative;z-index: 1;}#sk-container-id-13 div.sk-parallel {display: flex;align-items: stretch;justify-content: center;background-color: white;position: relative;}#sk-container-id-13 div.sk-item::before, #sk-container-id-13 div.sk-parallel-item::before {content: \"\";position: absolute;border-left: 1px solid gray;box-sizing: border-box;top: 0;bottom: 0;left: 50%;z-index: -1;}#sk-container-id-13 div.sk-parallel-item {display: flex;flex-direction: column;z-index: 1;position: relative;background-color: white;}#sk-container-id-13 div.sk-parallel-item:first-child::after {align-self: flex-end;width: 50%;}#sk-container-id-13 div.sk-parallel-item:last-child::after {align-self: flex-start;width: 50%;}#sk-container-id-13 div.sk-parallel-item:only-child::after {width: 0;}#sk-container-id-13 div.sk-dashed-wrapped {border: 1px dashed gray;margin: 0 0.4em 0.5em 0.4em;box-sizing: border-box;padding-bottom: 0.4em;background-color: white;}#sk-container-id-13 div.sk-label label {font-family: monospace;font-weight: bold;display: inline-block;line-height: 1.2em;}#sk-container-id-13 div.sk-label-container {text-align: center;}#sk-container-id-13 div.sk-container {/* jupyter's `normalize.less` sets `[hidden] { display: none; }` but bootstrap.min.css set `[hidden] { display: none !important; }` so we also need the `!important` here to be able to override the default hidden behavior on the sphinx rendered scikit-learn.org. See: https://github.com/scikit-learn/scikit-learn/issues/21755 */display: inline-block !important;position: relative;}#sk-container-id-13 div.sk-text-repr-fallback {display: none;}</style><div id=\"sk-container-id-13\" class=\"sk-top-container\"><div class=\"sk-text-repr-fallback\"><pre>DecisionTreeClassifier(criterion=&#x27;entropy&#x27;, max_depth=3)</pre><b>In a Jupyter environment, please rerun this cell to show the HTML representation or trust the notebook. <br />On GitHub, the HTML representation is unable to render, please try loading this page with nbviewer.org.</b></div><div class=\"sk-container\" hidden><div class=\"sk-item\"><div class=\"sk-estimator sk-toggleable\"><input class=\"sk-toggleable__control sk-hidden--visually\" id=\"sk-estimator-id-13\" type=\"checkbox\" checked><label for=\"sk-estimator-id-13\" class=\"sk-toggleable__label sk-toggleable__label-arrow\">DecisionTreeClassifier</label><div class=\"sk-toggleable__content\"><pre>DecisionTreeClassifier(criterion=&#x27;entropy&#x27;, max_depth=3)</pre></div></div></div></div></div>"
      ],
      "text/plain": [
       "DecisionTreeClassifier(criterion='entropy', max_depth=3)"
      ]
     },
     "execution_count": 128,
     "metadata": {},
     "output_type": "execute_result"
    }
   ],
   "source": [
    "model = DecisionTreeClassifier(criterion='entropy',max_depth = 3)\n",
    "#model = DecisionTreeClassifier(random_state=42)    #The random_state=42 parameter sets the random seed, ensuring reproducibility of results.\n",
    "model.fit(x_train,y_train)             # Train the Decision Tree Classifier model using the training data (features x_train and target y_train)\n"
   ]
  },
  {
   "cell_type": "markdown",
   "id": "cfed46dc-2e3a-42d4-9733-d9f008bb8b39",
   "metadata": {},
   "source": [
    "#### Plot the DecsionTree"
   ]
  },
  {
   "cell_type": "code",
   "execution_count": 129,
   "id": "add0416a-a385-430d-bdd6-34c6366485d2",
   "metadata": {
    "tags": []
   },
   "outputs": [
    {
     "data": {
      "text/plain": [
       "[Text(0.625, 0.875, 'x[3] <= 14.829\\nentropy = 1.923\\nsamples = 160\\nvalue = [17, 13, 11, 43, 76]'),\n",
       " Text(0.5, 0.625, 'x[1] <= 0.5\\nentropy = 1.762\\nsamples = 84\\nvalue = [17, 13, 11, 43, 0]'),\n",
       " Text(0.25, 0.375, 'x[3] <= 13.197\\nentropy = 0.987\\nsamples = 30\\nvalue = [17, 13, 0, 0, 0]'),\n",
       " Text(0.125, 0.125, 'entropy = 0.918\\nsamples = 24\\nvalue = [16, 8, 0, 0, 0]'),\n",
       " Text(0.375, 0.125, 'entropy = 0.65\\nsamples = 6\\nvalue = [1, 5, 0, 0, 0]'),\n",
       " Text(0.75, 0.375, 'x[1] <= 1.5\\nentropy = 0.729\\nsamples = 54\\nvalue = [0, 0, 11, 43, 0]'),\n",
       " Text(0.625, 0.125, 'entropy = 0.999\\nsamples = 23\\nvalue = [0, 0, 11, 12, 0]'),\n",
       " Text(0.875, 0.125, 'entropy = 0.0\\nsamples = 31\\nvalue = [0, 0, 0, 31, 0]'),\n",
       " Text(0.75, 0.625, 'entropy = 0.0\\nsamples = 76\\nvalue = [0, 0, 0, 0, 76]')]"
      ]
     },
     "execution_count": 129,
     "metadata": {},
     "output_type": "execute_result"
    },
    {
     "data": {
      "image/png": "[encoded data removed]",
      "text/plain": [
       "<Figure size 640x480 with 1 Axes>"
      ]
     },
     "metadata": {},
     "output_type": "display_data"
    }
   ],
   "source": [
    "tree.plot_tree(model)          #Visualize the trained Decision Tree Classifier using the plot_tree function"
   ]
  },
  {
   "cell_type": "code",
   "execution_count": 130,
   "id": "8685f355-23b0-4db9-8e3a-54122596118e",
   "metadata": {
    "tags": []
   },
   "outputs": [
    {
     "data": {
      "image/png": "[encoded data removed]",
      "text/plain": [
       "<Figure size 800x800 with 1 Axes>"
      ]
     },
     "metadata": {},
     "output_type": "display_data"
    }
   ],
   "source": [
    "# Define feature names (fn) and class names (cn), create a figure and plot the Decision Tree Classifier\n",
    "fn = ['Age (cm)', 'Sex (cm)', 'BP (cm)', 'Cholesterol (cm)', 'Na_to_K(cm)']\n",
    "cn = ['drugA', 'drugB', 'drugC', 'drugX', 'drugY']\n",
    " \n",
    "# Create a figure and plot the Decision Tree Classifier using the plot_tree function\n",
    "fig,axes = plt.subplots(nrows=1, ncols=1, figsize=(2,2), dpi=400)      # Set figure size and DPI\n",
    "tree.plot_tree(model,feature_names=fn,class_names = cn, filled=True)   # Plot the decision tree\n",
    "plt.show()                                                             # Show the plotted decision tree"
   ]
  },
  {
   "cell_type": "code",
   "execution_count": null,
   "id": "dadead16-a7fc-4893-9983-fe28203d331e",
   "metadata": {},
   "outputs": [],
   "source": []
  },
  {
   "cell_type": "markdown",
   "id": "546b3b60-61e5-4b9f-b073-c42d7187c389",
   "metadata": {
    "tags": []
   },
   "source": [
    "#### Prediction on the Test data"
   ]
  },
  {
   "cell_type": "code",
   "execution_count": 131,
   "id": "978cbd99-cce2-4e2e-90bf-8a0e621bc42b",
   "metadata": {
    "tags": []
   },
   "outputs": [],
   "source": [
    "preds = model.predict(x_test)     # Generate predictions using the trained Decision Tree Classifier on the test set features (x_test)"
   ]
  },
  {
   "cell_type": "code",
   "execution_count": 132,
   "id": "3a357347-dd90-4c68-bad2-91a237377ab8",
   "metadata": {
    "tags": []
   },
   "outputs": [
    {
     "data": {
      "text/plain": [
       "3    16\n",
       "4    15\n",
       "0     8\n",
       "1     1\n",
       "dtype: int64"
      ]
     },
     "execution_count": 132,
     "metadata": {},
     "output_type": "execute_result"
    }
   ],
   "source": [
    "pd.Series(preds).value_counts()    # Count the occurrences of each unique predicted value in the 'preds' array"
   ]
  },
  {
   "cell_type": "code",
   "execution_count": 133,
   "id": "3f286d7b-8717-45e9-9acd-42b4c254850d",
   "metadata": {
    "tags": []
   },
   "outputs": [
    {
     "data": {
      "text/plain": [
       "array([3, 4, 3, 3, 4, 4, 4, 3, 0, 3, 0, 3, 4, 1, 0, 4, 0, 3, 3, 4, 0, 3,\n",
       "       3, 4, 4, 4, 3, 3, 4, 3, 4, 3, 3, 4, 0, 4, 3, 0, 4, 0])"
      ]
     },
     "execution_count": 133,
     "metadata": {},
     "output_type": "execute_result"
    }
   ],
   "source": [
    "preds                            # Variable containing the predictions made by a machine learning model"
   ]
  },
  {
   "cell_type": "code",
   "execution_count": 134,
   "id": "49342501-0661-41d5-9092-64cf098c9c72",
   "metadata": {
    "tags": []
   },
   "outputs": [
    {
     "data": {
      "text/plain": [
       "Age\n",
       "36    3\n",
       "16    4\n",
       "18    3\n",
       "59    2\n",
       "47    4\n",
       "51    4\n",
       "18    4\n",
       "28    3\n",
       "42    0\n",
       "66    3\n",
       "29    0\n",
       "20    3\n",
       "38    4\n",
       "19    0\n",
       "70    1\n",
       "25    4\n",
       "65    1\n",
       "55    3\n",
       "32    2\n",
       "54    4\n",
       "53    1\n",
       "69    3\n",
       "61    3\n",
       "42    4\n",
       "68    4\n",
       "38    4\n",
       "47    2\n",
       "17    3\n",
       "19    4\n",
       "49    3\n",
       "43    4\n",
       "23    2\n",
       "26    2\n",
       "26    4\n",
       "49    0\n",
       "22    4\n",
       "74    3\n",
       "35    0\n",
       "16    4\n",
       "36    0\n",
       "Name: Drug, dtype: int32"
      ]
     },
     "execution_count": 134,
     "metadata": {},
     "output_type": "execute_result"
    }
   ],
   "source": [
    "y_test                            # Variable containing the true or actual values of the target variable for testing"
   ]
  },
  {
   "cell_type": "markdown",
   "id": "07fe5557-26eb-47e8-99a5-888efd1374fd",
   "metadata": {},
   "source": [
    "#### Crosstab : Way to understand the two way table between predicted vs actual values for evaluation"
   ]
  },
  {
   "cell_type": "code",
   "execution_count": 135,
   "id": "af7e965b-10e9-4bee-afa4-e87ef0615970",
   "metadata": {
    "tags": []
   },
   "outputs": [
    {
     "data": {
      "text/html": [
       "<div>\n",
       "<style scoped>\n",
       "    .dataframe tbody tr th:only-of-type {\n",
       "        vertical-align: middle;\n",
       "    }\n",
       "\n",
       "    .dataframe tbody tr th {\n",
       "        vertical-align: top;\n",
       "    }\n",
       "\n",
       "    .dataframe thead th {\n",
       "        text-align: right;\n",
       "    }\n",
       "</style>\n",
       "<table border=\"1\" class=\"dataframe\">\n",
       "  <thead>\n",
       "    <tr style=\"text-align: right;\">\n",
       "      <th>col_0</th>\n",
       "      <th>0</th>\n",
       "      <th>1</th>\n",
       "      <th>3</th>\n",
       "      <th>4</th>\n",
       "    </tr>\n",
       "    <tr>\n",
       "      <th>Drug</th>\n",
       "      <th></th>\n",
       "      <th></th>\n",
       "      <th></th>\n",
       "      <th></th>\n",
       "    </tr>\n",
       "  </thead>\n",
       "  <tbody>\n",
       "    <tr>\n",
       "      <th>0</th>\n",
       "      <td>5</td>\n",
       "      <td>1</td>\n",
       "      <td>0</td>\n",
       "      <td>0</td>\n",
       "    </tr>\n",
       "    <tr>\n",
       "      <th>1</th>\n",
       "      <td>3</td>\n",
       "      <td>0</td>\n",
       "      <td>0</td>\n",
       "      <td>0</td>\n",
       "    </tr>\n",
       "    <tr>\n",
       "      <th>2</th>\n",
       "      <td>0</td>\n",
       "      <td>0</td>\n",
       "      <td>5</td>\n",
       "      <td>0</td>\n",
       "    </tr>\n",
       "    <tr>\n",
       "      <th>3</th>\n",
       "      <td>0</td>\n",
       "      <td>0</td>\n",
       "      <td>11</td>\n",
       "      <td>0</td>\n",
       "    </tr>\n",
       "    <tr>\n",
       "      <th>4</th>\n",
       "      <td>0</td>\n",
       "      <td>0</td>\n",
       "      <td>0</td>\n",
       "      <td>15</td>\n",
       "    </tr>\n",
       "  </tbody>\n",
       "</table>\n",
       "</div>"
      ],
      "text/plain": [
       "col_0  0  1   3   4\n",
       "Drug               \n",
       "0      5  1   0   0\n",
       "1      3  0   0   0\n",
       "2      0  0   5   0\n",
       "3      0  0  11   0\n",
       "4      0  0   0  15"
      ]
     },
     "execution_count": 135,
     "metadata": {},
     "output_type": "execute_result"
    }
   ],
   "source": [
    "pd.crosstab(y_test,preds)"
   ]
  },
  {
   "cell_type": "markdown",
   "id": "ccec0a25-09f4-4aee-9181-47e5f896ddd4",
   "metadata": {
    "tags": []
   },
   "source": [
    "#### Accuracy of the above model"
   ]
  },
  {
   "cell_type": "code",
   "execution_count": 136,
   "id": "bbcd3607-7140-4ec5-803f-97311146cb1d",
   "metadata": {
    "tags": []
   },
   "outputs": [
    {
     "data": {
      "text/plain": [
       "0.775"
      ]
     },
     "execution_count": 136,
     "metadata": {},
     "output_type": "execute_result"
    }
   ],
   "source": [
    "# Calculate the mean accuracy by comparing predicted values with actual values\n",
    "np.mean(preds==y_test)        "
   ]
  },
  {
   "cell_type": "code",
   "execution_count": 137,
   "id": "d45f57a5-85fc-46de-8834-b1ed8ddbb5a6",
   "metadata": {
    "tags": []
   },
   "outputs": [],
   "source": [
    "# Assign the predicted values ('preds') as a new column in the 'x_test' DataFrame\n",
    "x_test['preds']=preds         "
   ]
  },
  {
   "cell_type": "code",
   "execution_count": 138,
   "id": "642f1ef9-0bcd-4bc3-8427-d380efc721b0",
   "metadata": {
    "tags": []
   },
   "outputs": [],
   "source": [
    "# Assign the actual values ('y_test') as a new column in the 'x_test' DataFrame\n",
    "x_test['y_test']=y_test"
   ]
  },
  {
   "cell_type": "code",
   "execution_count": 139,
   "id": "4c48005f-9b64-4d6f-bfe9-da1777183145",
   "metadata": {
    "tags": []
   },
   "outputs": [
    {
     "data": {
      "text/html": [
       "<div>\n",
       "<style scoped>\n",
       "    .dataframe tbody tr th:only-of-type {\n",
       "        vertical-align: middle;\n",
       "    }\n",
       "\n",
       "    .dataframe tbody tr th {\n",
       "        vertical-align: top;\n",
       "    }\n",
       "\n",
       "    .dataframe thead th {\n",
       "        text-align: right;\n",
       "    }\n",
       "</style>\n",
       "<table border=\"1\" class=\"dataframe\">\n",
       "  <thead>\n",
       "    <tr style=\"text-align: right;\">\n",
       "      <th></th>\n",
       "      <th>Sex</th>\n",
       "      <th>BP</th>\n",
       "      <th>Cholesterol</th>\n",
       "      <th>Na_to_K</th>\n",
       "      <th>preds</th>\n",
       "      <th>y_test</th>\n",
       "    </tr>\n",
       "    <tr>\n",
       "      <th>Age</th>\n",
       "      <th></th>\n",
       "      <th></th>\n",
       "      <th></th>\n",
       "      <th></th>\n",
       "      <th></th>\n",
       "      <th></th>\n",
       "    </tr>\n",
       "  </thead>\n",
       "  <tbody>\n",
       "    <tr>\n",
       "      <th>36</th>\n",
       "      <td>1</td>\n",
       "      <td>1</td>\n",
       "      <td>1</td>\n",
       "      <td>11.424</td>\n",
       "      <td>3</td>\n",
       "      <td>3</td>\n",
       "    </tr>\n",
       "    <tr>\n",
       "      <th>16</th>\n",
       "      <td>0</td>\n",
       "      <td>0</td>\n",
       "      <td>1</td>\n",
       "      <td>15.516</td>\n",
       "      <td>4</td>\n",
       "      <td>4</td>\n",
       "    </tr>\n",
       "    <tr>\n",
       "      <th>18</th>\n",
       "      <td>0</td>\n",
       "      <td>2</td>\n",
       "      <td>1</td>\n",
       "      <td>8.750</td>\n",
       "      <td>3</td>\n",
       "      <td>3</td>\n",
       "    </tr>\n",
       "    <tr>\n",
       "      <th>59</th>\n",
       "      <td>0</td>\n",
       "      <td>1</td>\n",
       "      <td>0</td>\n",
       "      <td>10.444</td>\n",
       "      <td>3</td>\n",
       "      <td>2</td>\n",
       "    </tr>\n",
       "    <tr>\n",
       "      <th>47</th>\n",
       "      <td>1</td>\n",
       "      <td>1</td>\n",
       "      <td>1</td>\n",
       "      <td>33.542</td>\n",
       "      <td>4</td>\n",
       "      <td>4</td>\n",
       "    </tr>\n",
       "    <tr>\n",
       "      <th>51</th>\n",
       "      <td>1</td>\n",
       "      <td>0</td>\n",
       "      <td>0</td>\n",
       "      <td>18.295</td>\n",
       "      <td>4</td>\n",
       "      <td>4</td>\n",
       "    </tr>\n",
       "    <tr>\n",
       "      <th>18</th>\n",
       "      <td>0</td>\n",
       "      <td>0</td>\n",
       "      <td>1</td>\n",
       "      <td>24.276</td>\n",
       "      <td>4</td>\n",
       "      <td>4</td>\n",
       "    </tr>\n",
       "    <tr>\n",
       "      <th>28</th>\n",
       "      <td>0</td>\n",
       "      <td>2</td>\n",
       "      <td>0</td>\n",
       "      <td>12.879</td>\n",
       "      <td>3</td>\n",
       "      <td>3</td>\n",
       "    </tr>\n",
       "    <tr>\n",
       "      <th>42</th>\n",
       "      <td>1</td>\n",
       "      <td>0</td>\n",
       "      <td>1</td>\n",
       "      <td>12.766</td>\n",
       "      <td>0</td>\n",
       "      <td>0</td>\n",
       "    </tr>\n",
       "    <tr>\n",
       "      <th>66</th>\n",
       "      <td>0</td>\n",
       "      <td>2</td>\n",
       "      <td>1</td>\n",
       "      <td>8.107</td>\n",
       "      <td>3</td>\n",
       "      <td>3</td>\n",
       "    </tr>\n",
       "    <tr>\n",
       "      <th>29</th>\n",
       "      <td>1</td>\n",
       "      <td>0</td>\n",
       "      <td>0</td>\n",
       "      <td>12.856</td>\n",
       "      <td>0</td>\n",
       "      <td>0</td>\n",
       "    </tr>\n",
       "    <tr>\n",
       "      <th>20</th>\n",
       "      <td>0</td>\n",
       "      <td>1</td>\n",
       "      <td>1</td>\n",
       "      <td>11.686</td>\n",
       "      <td>3</td>\n",
       "      <td>3</td>\n",
       "    </tr>\n",
       "    <tr>\n",
       "      <th>38</th>\n",
       "      <td>1</td>\n",
       "      <td>1</td>\n",
       "      <td>0</td>\n",
       "      <td>18.295</td>\n",
       "      <td>4</td>\n",
       "      <td>4</td>\n",
       "    </tr>\n",
       "    <tr>\n",
       "      <th>19</th>\n",
       "      <td>0</td>\n",
       "      <td>0</td>\n",
       "      <td>0</td>\n",
       "      <td>13.313</td>\n",
       "      <td>1</td>\n",
       "      <td>0</td>\n",
       "    </tr>\n",
       "    <tr>\n",
       "      <th>70</th>\n",
       "      <td>1</td>\n",
       "      <td>0</td>\n",
       "      <td>0</td>\n",
       "      <td>9.849</td>\n",
       "      <td>0</td>\n",
       "      <td>1</td>\n",
       "    </tr>\n",
       "    <tr>\n",
       "      <th>25</th>\n",
       "      <td>1</td>\n",
       "      <td>2</td>\n",
       "      <td>0</td>\n",
       "      <td>19.011</td>\n",
       "      <td>4</td>\n",
       "      <td>4</td>\n",
       "    </tr>\n",
       "    <tr>\n",
       "      <th>65</th>\n",
       "      <td>1</td>\n",
       "      <td>0</td>\n",
       "      <td>1</td>\n",
       "      <td>11.340</td>\n",
       "      <td>0</td>\n",
       "      <td>1</td>\n",
       "    </tr>\n",
       "    <tr>\n",
       "      <th>55</th>\n",
       "      <td>1</td>\n",
       "      <td>2</td>\n",
       "      <td>1</td>\n",
       "      <td>7.261</td>\n",
       "      <td>3</td>\n",
       "      <td>3</td>\n",
       "    </tr>\n",
       "    <tr>\n",
       "      <th>32</th>\n",
       "      <td>0</td>\n",
       "      <td>1</td>\n",
       "      <td>0</td>\n",
       "      <td>9.712</td>\n",
       "      <td>3</td>\n",
       "      <td>2</td>\n",
       "    </tr>\n",
       "    <tr>\n",
       "      <th>54</th>\n",
       "      <td>1</td>\n",
       "      <td>2</td>\n",
       "      <td>0</td>\n",
       "      <td>24.658</td>\n",
       "      <td>4</td>\n",
       "      <td>4</td>\n",
       "    </tr>\n",
       "    <tr>\n",
       "      <th>53</th>\n",
       "      <td>0</td>\n",
       "      <td>0</td>\n",
       "      <td>1</td>\n",
       "      <td>12.495</td>\n",
       "      <td>0</td>\n",
       "      <td>1</td>\n",
       "    </tr>\n",
       "    <tr>\n",
       "      <th>69</th>\n",
       "      <td>1</td>\n",
       "      <td>1</td>\n",
       "      <td>1</td>\n",
       "      <td>11.455</td>\n",
       "      <td>3</td>\n",
       "      <td>3</td>\n",
       "    </tr>\n",
       "    <tr>\n",
       "      <th>61</th>\n",
       "      <td>0</td>\n",
       "      <td>1</td>\n",
       "      <td>1</td>\n",
       "      <td>7.340</td>\n",
       "      <td>3</td>\n",
       "      <td>3</td>\n",
       "    </tr>\n",
       "    <tr>\n",
       "      <th>42</th>\n",
       "      <td>0</td>\n",
       "      <td>1</td>\n",
       "      <td>1</td>\n",
       "      <td>29.271</td>\n",
       "      <td>4</td>\n",
       "      <td>4</td>\n",
       "    </tr>\n",
       "    <tr>\n",
       "      <th>68</th>\n",
       "      <td>0</td>\n",
       "      <td>2</td>\n",
       "      <td>1</td>\n",
       "      <td>27.050</td>\n",
       "      <td>4</td>\n",
       "      <td>4</td>\n",
       "    </tr>\n",
       "    <tr>\n",
       "      <th>38</th>\n",
       "      <td>0</td>\n",
       "      <td>1</td>\n",
       "      <td>1</td>\n",
       "      <td>29.875</td>\n",
       "      <td>4</td>\n",
       "      <td>4</td>\n",
       "    </tr>\n",
       "    <tr>\n",
       "      <th>47</th>\n",
       "      <td>0</td>\n",
       "      <td>1</td>\n",
       "      <td>0</td>\n",
       "      <td>10.067</td>\n",
       "      <td>3</td>\n",
       "      <td>2</td>\n",
       "    </tr>\n",
       "    <tr>\n",
       "      <th>17</th>\n",
       "      <td>1</td>\n",
       "      <td>2</td>\n",
       "      <td>1</td>\n",
       "      <td>10.832</td>\n",
       "      <td>3</td>\n",
       "      <td>3</td>\n",
       "    </tr>\n",
       "    <tr>\n",
       "      <th>19</th>\n",
       "      <td>0</td>\n",
       "      <td>0</td>\n",
       "      <td>1</td>\n",
       "      <td>25.969</td>\n",
       "      <td>4</td>\n",
       "      <td>4</td>\n",
       "    </tr>\n",
       "    <tr>\n",
       "      <th>49</th>\n",
       "      <td>1</td>\n",
       "      <td>1</td>\n",
       "      <td>1</td>\n",
       "      <td>13.598</td>\n",
       "      <td>3</td>\n",
       "      <td>3</td>\n",
       "    </tr>\n",
       "    <tr>\n",
       "      <th>43</th>\n",
       "      <td>1</td>\n",
       "      <td>1</td>\n",
       "      <td>1</td>\n",
       "      <td>19.368</td>\n",
       "      <td>4</td>\n",
       "      <td>4</td>\n",
       "    </tr>\n",
       "    <tr>\n",
       "      <th>23</th>\n",
       "      <td>1</td>\n",
       "      <td>1</td>\n",
       "      <td>0</td>\n",
       "      <td>7.298</td>\n",
       "      <td>3</td>\n",
       "      <td>2</td>\n",
       "    </tr>\n",
       "    <tr>\n",
       "      <th>26</th>\n",
       "      <td>0</td>\n",
       "      <td>1</td>\n",
       "      <td>0</td>\n",
       "      <td>14.160</td>\n",
       "      <td>3</td>\n",
       "      <td>2</td>\n",
       "    </tr>\n",
       "    <tr>\n",
       "      <th>26</th>\n",
       "      <td>1</td>\n",
       "      <td>1</td>\n",
       "      <td>1</td>\n",
       "      <td>20.909</td>\n",
       "      <td>4</td>\n",
       "      <td>4</td>\n",
       "    </tr>\n",
       "    <tr>\n",
       "      <th>49</th>\n",
       "      <td>1</td>\n",
       "      <td>0</td>\n",
       "      <td>1</td>\n",
       "      <td>8.700</td>\n",
       "      <td>0</td>\n",
       "      <td>0</td>\n",
       "    </tr>\n",
       "    <tr>\n",
       "      <th>22</th>\n",
       "      <td>1</td>\n",
       "      <td>0</td>\n",
       "      <td>1</td>\n",
       "      <td>28.294</td>\n",
       "      <td>4</td>\n",
       "      <td>4</td>\n",
       "    </tr>\n",
       "    <tr>\n",
       "      <th>74</th>\n",
       "      <td>1</td>\n",
       "      <td>1</td>\n",
       "      <td>1</td>\n",
       "      <td>11.939</td>\n",
       "      <td>3</td>\n",
       "      <td>3</td>\n",
       "    </tr>\n",
       "    <tr>\n",
       "      <th>35</th>\n",
       "      <td>0</td>\n",
       "      <td>0</td>\n",
       "      <td>0</td>\n",
       "      <td>12.894</td>\n",
       "      <td>0</td>\n",
       "      <td>0</td>\n",
       "    </tr>\n",
       "    <tr>\n",
       "      <th>16</th>\n",
       "      <td>1</td>\n",
       "      <td>0</td>\n",
       "      <td>1</td>\n",
       "      <td>19.007</td>\n",
       "      <td>4</td>\n",
       "      <td>4</td>\n",
       "    </tr>\n",
       "    <tr>\n",
       "      <th>36</th>\n",
       "      <td>0</td>\n",
       "      <td>0</td>\n",
       "      <td>0</td>\n",
       "      <td>11.198</td>\n",
       "      <td>0</td>\n",
       "      <td>0</td>\n",
       "    </tr>\n",
       "  </tbody>\n",
       "</table>\n",
       "</div>"
      ],
      "text/plain": [
       "     Sex  BP  Cholesterol  Na_to_K  preds  y_test\n",
       "Age                                              \n",
       "36     1   1            1   11.424      3       3\n",
       "16     0   0            1   15.516      4       4\n",
       "18     0   2            1    8.750      3       3\n",
       "59     0   1            0   10.444      3       2\n",
       "47     1   1            1   33.542      4       4\n",
       "51     1   0            0   18.295      4       4\n",
       "18     0   0            1   24.276      4       4\n",
       "28     0   2            0   12.879      3       3\n",
       "42     1   0            1   12.766      0       0\n",
       "66     0   2            1    8.107      3       3\n",
       "29     1   0            0   12.856      0       0\n",
       "20     0   1            1   11.686      3       3\n",
       "38     1   1            0   18.295      4       4\n",
       "19     0   0            0   13.313      1       0\n",
       "70     1   0            0    9.849      0       1\n",
       "25     1   2            0   19.011      4       4\n",
       "65     1   0            1   11.340      0       1\n",
       "55     1   2            1    7.261      3       3\n",
       "32     0   1            0    9.712      3       2\n",
       "54     1   2            0   24.658      4       4\n",
       "53     0   0            1   12.495      0       1\n",
       "69     1   1            1   11.455      3       3\n",
       "61     0   1            1    7.340      3       3\n",
       "42     0   1            1   29.271      4       4\n",
       "68     0   2            1   27.050      4       4\n",
       "38     0   1            1   29.875      4       4\n",
       "47     0   1            0   10.067      3       2\n",
       "17     1   2            1   10.832      3       3\n",
       "19     0   0            1   25.969      4       4\n",
       "49     1   1            1   13.598      3       3\n",
       "43     1   1            1   19.368      4       4\n",
       "23     1   1            0    7.298      3       2\n",
       "26     0   1            0   14.160      3       2\n",
       "26     1   1            1   20.909      4       4\n",
       "49     1   0            1    8.700      0       0\n",
       "22     1   0            1   28.294      4       4\n",
       "74     1   1            1   11.939      3       3\n",
       "35     0   0            0   12.894      0       0\n",
       "16     1   0            1   19.007      4       4\n",
       "36     0   0            0   11.198      0       0"
      ]
     },
     "execution_count": 139,
     "metadata": {},
     "output_type": "execute_result"
    }
   ],
   "source": [
    "x_test        #Variable containing the testing set of features (x_test) for model evaluation or prediction"
   ]
  }
 ],
 "metadata": {
  "kernelspec": {
   "display_name": "Python 3 (ipykernel)",
   "language": "python",
   "name": "python3"
  },
  "language_info": {
   "codemirror_mode": {
    "name": "ipython",
    "version": 3
   },
   "file_extension": ".py",
   "mimetype": "text/x-python",
   "name": "python",
   "nbconvert_exporter": "python",
   "pygments_lexer": "ipython3",
   "version": "3.11.4"
  }
 },
 "nbformat": 4,
 "nbformat_minor": 5
}
