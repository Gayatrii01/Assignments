{
  "nbformat": 4,
  "nbformat_minor": 0,
  "metadata": {
    "colab": {
      "provenance": []
    },
    "kernelspec": {
      "name": "python3",
      "display_name": "Python 3"
    },
    "language_info": {
      "name": "python"
    }
  },
  "cells": [
    {
      "cell_type": "markdown",
      "source": [
        "# Convolutional Neural Network (CNN) program for classifying handwritten digits from the MNIST dataset."
      ],
      "metadata": {
        "id": "89CIUS_FInb8"
      }
    },
    {
      "cell_type": "markdown",
      "source": [
        "## Import libraries"
      ],
      "metadata": {
        "id": "VV1lVfvK_F42"
      }
    },
    {
      "cell_type": "code",
      "execution_count": 1,
      "metadata": {
        "id": "mWBmAIyf-0kT"
      },
      "outputs": [],
      "source": [
        "import tensorflow as tf\n",
        "from tensorflow.keras import layers, models\n",
        "from tensorflow.keras.datasets import mnist\n",
        "import matplotlib.pyplot as plt"
      ]
    },
    {
      "cell_type": "markdown",
      "source": [
        "Explanation: These lines import the required libraries and modules. TensorFlow is the deep learning framework used, and Keras is a high-level neural networks API running on top of TensorFlow. The MNIST dataset is used for training and testing, and matplotlib.pyplot is used for visualization."
      ],
      "metadata": {
        "id": "pBNAa651J5gJ"
      }
    },
    {
      "cell_type": "markdown",
      "source": [
        "\n",
        "# Load and preprocess the MNIST dataset\n",
        "\n"
      ],
      "metadata": {
        "id": "3E7KhEK-_FHJ"
      }
    },
    {
      "cell_type": "code",
      "source": [
        "(train_images, train_labels), (test_images, test_labels) = mnist.load_data()"
      ],
      "metadata": {
        "colab": {
          "base_uri": "https://localhost:8080/"
        },
        "id": "BsDd1Qq6_YKJ",
        "outputId": "fb8536d9-a8b9-4059-c011-5ba8a5e10c5c"
      },
      "execution_count": 2,
      "outputs": [
        {
          "output_type": "stream",
          "name": "stdout",
          "text": [
            "Downloading data from https://storage.googleapis.com/tensorflow/tf-keras-datasets/mnist.npz\n",
            "11490434/11490434 [==============================] - 0s 0us/step\n"
          ]
        }
      ]
    },
    {
      "cell_type": "markdown",
      "source": [
        "Explanation: This line loads the MNIST dataset and splits it into training and testing sets, where each set comprises images and their respective labels. The term 'corresponding labels' denotes the target values or categories assigned to each input data point in the dataset. For example, every image of a handwritten digit is associated with a label indicating the actual digit it represents (0 to 9). These labels serve as the ground truth values that the model aims to predict during training."
      ],
      "metadata": {
        "id": "Hvar0cO9KIOB"
      }
    },
    {
      "cell_type": "markdown",
      "source": [
        "## Normalize pixel values to be between 0 and 1"
      ],
      "metadata": {
        "id": "EOmWKNLb_haL"
      }
    },
    {
      "cell_type": "code",
      "source": [
        "train_images, test_images = train_images / 255.0, test_images / 255.0"
      ],
      "metadata": {
        "id": "HqZJhkKR_bgN"
      },
      "execution_count": 3,
      "outputs": []
    },
    {
      "cell_type": "markdown",
      "source": [
        "Explanation:This line normalizes the pixel values of the images to a range between 0 and 1, which helps the neural network converge faster during training."
      ],
      "metadata": {
        "id": "lNoWtaxDL2Fe"
      }
    },
    {
      "cell_type": "markdown",
      "source": [
        "## Define the CNN model\n"
      ],
      "metadata": {
        "id": "GY93FiBf_s8N"
      }
    },
    {
      "cell_type": "code",
      "source": [
        "model = models.Sequential()\n",
        "model.add(layers.Conv2D(32, (3, 3), activation='relu', input_shape=(28, 28, 1)))\n",
        "model.add(layers.MaxPooling2D((2, 2)))\n",
        "model.add(layers.Conv2D(64, (3, 3), activation='relu'))\n",
        "model.add(layers.MaxPooling2D((2, 2)))\n",
        "model.add(layers.Conv2D(64, (3, 3), activation='relu'))\n",
        "model.add(layers.Flatten())\n",
        "model.add(layers.Dense(64, activation='relu'))\n",
        "model.add(layers.Dense(10, activation='softmax'))\n"
      ],
      "metadata": {
        "id": "9EAtE1Vb_bTd"
      },
      "execution_count": 4,
      "outputs": []
    },
    {
      "cell_type": "markdown",
      "source": [
        "Explanation: These lines define the architecture of the CNN model using the Keras Sequential API(Application Programming Interface) . It consists of convolutional layers with max-pooling, followed by fully connected layers. The activation functions used are ReLU for convolutional layers and softmax for the output layer (of a neural network for multi-class classification problems)."
      ],
      "metadata": {
        "id": "cR7osK11L2Ar"
      }
    },
    {
      "cell_type": "markdown",
      "source": [
        "## Compile the model\n"
      ],
      "metadata": {
        "id": "mCLyQFOk_5el"
      }
    },
    {
      "cell_type": "code",
      "source": [
        "model.compile(optimizer='adam', loss='sparse_categorical_crossentropy', metrics=['accuracy'])"
      ],
      "metadata": {
        "id": "58i9XHxF_bHO"
      },
      "execution_count": 5,
      "outputs": []
    },
    {
      "cell_type": "markdown",
      "source": [
        "Explanation: This line compiles the model, specifying the optimizer, loss function, and metrics to be used during training."
      ],
      "metadata": {
        "id": "r6xhSox7UO_7"
      }
    },
    {
      "cell_type": "markdown",
      "source": [
        "## Reshape data for CNN input\n"
      ],
      "metadata": {
        "id": "vpl5lEAb_5OL"
      }
    },
    {
      "cell_type": "code",
      "source": [
        "train_images = train_images.reshape((60000, 28, 28, 1))\n",
        "test_images = test_images.reshape((10000, 28, 28, 1))"
      ],
      "metadata": {
        "id": "UwTjI944_a2T"
      },
      "execution_count": 6,
      "outputs": []
    },
    {
      "cell_type": "markdown",
      "source": [
        "Explanation: These lines reshape the input data to match the expected input shape of the CNN model."
      ],
      "metadata": {
        "id": "0hZR0PhSUkx6"
      }
    },
    {
      "cell_type": "markdown",
      "source": [
        "## Train the model\n"
      ],
      "metadata": {
        "id": "cf5NNq20AT03"
      }
    },
    {
      "cell_type": "code",
      "source": [
        "model.fit(train_images, train_labels, epochs=5, validation_data=(test_images, test_labels))"
      ],
      "metadata": {
        "colab": {
          "base_uri": "https://localhost:8080/"
        },
        "id": "LaAUePzz_arx",
        "outputId": "11a7f1bb-c753-44cd-8ea3-0afa7ca05ce3"
      },
      "execution_count": 7,
      "outputs": [
        {
          "output_type": "stream",
          "name": "stdout",
          "text": [
            "Epoch 1/5\n",
            "1875/1875 [==============================] - 66s 35ms/step - loss: 0.1470 - accuracy: 0.9543 - val_loss: 0.0390 - val_accuracy: 0.9858\n",
            "Epoch 2/5\n",
            "1875/1875 [==============================] - 66s 35ms/step - loss: 0.0478 - accuracy: 0.9858 - val_loss: 0.0472 - val_accuracy: 0.9838\n",
            "Epoch 3/5\n",
            "1875/1875 [==============================] - 64s 34ms/step - loss: 0.0345 - accuracy: 0.9891 - val_loss: 0.0261 - val_accuracy: 0.9911\n",
            "Epoch 4/5\n",
            "1875/1875 [==============================] - 64s 34ms/step - loss: 0.0258 - accuracy: 0.9919 - val_loss: 0.0261 - val_accuracy: 0.9914\n",
            "Epoch 5/5\n",
            "1875/1875 [==============================] - 56s 30ms/step - loss: 0.0204 - accuracy: 0.9934 - val_loss: 0.0291 - val_accuracy: 0.9913\n"
          ]
        },
        {
          "output_type": "execute_result",
          "data": {
            "text/plain": [
              "<keras.src.callbacks.History at 0x795653ff7ca0>"
            ]
          },
          "metadata": {},
          "execution_count": 7
        }
      ]
    },
    {
      "cell_type": "markdown",
      "source": [
        "Explanation: This line trains the model on the training data for 5 epochs, using the validation data for evaluation during training."
      ],
      "metadata": {
        "id": "t-WTm0J-VVI9"
      }
    },
    {
      "cell_type": "markdown",
      "source": [
        "## Evaluate the model\n"
      ],
      "metadata": {
        "id": "S1705D_AAv04"
      }
    },
    {
      "cell_type": "code",
      "source": [
        "test_loss, test_acc = model.evaluate(test_images, test_labels)\n",
        "print(f\"Test accuracy: {test_acc}\")"
      ],
      "metadata": {
        "colab": {
          "base_uri": "https://localhost:8080/"
        },
        "id": "lPhPI7KbA8ji",
        "outputId": "4d24163f-98fb-4621-bd76-9fb7e9a9fb13"
      },
      "execution_count": 8,
      "outputs": [
        {
          "output_type": "stream",
          "name": "stdout",
          "text": [
            "313/313 [==============================] - 3s 10ms/step - loss: 0.0291 - accuracy: 0.9913\n",
            "Test accuracy: 0.9912999868392944\n"
          ]
        }
      ]
    },
    {
      "cell_type": "markdown",
      "source": [
        "Explanation: This line evaluates the trained model on the test data and prints the test accuracy."
      ],
      "metadata": {
        "id": "jZG3UqvTVnyO"
      }
    },
    {
      "cell_type": "markdown",
      "source": [
        "## Example prediction\n"
      ],
      "metadata": {
        "id": "SDQBnXttBAWh"
      }
    },
    {
      "cell_type": "code",
      "source": [
        "example_image = test_images[0]\n",
        "example_image = example_image.reshape((1, 28, 28, 1))\n",
        "prediction = model.predict(example_image)\n",
        "predicted_label = tf.argmax(prediction[0]).numpy()"
      ],
      "metadata": {
        "colab": {
          "base_uri": "https://localhost:8080/"
        },
        "id": "QIZod4BdA8U5",
        "outputId": "8769902d-c1b3-4408-ed2f-a1c53d2e9c4a"
      },
      "execution_count": 9,
      "outputs": [
        {
          "output_type": "stream",
          "name": "stdout",
          "text": [
            "1/1 [==============================] - 0s 114ms/step\n"
          ]
        }
      ]
    },
    {
      "cell_type": "markdown",
      "source": [
        "Explanation: These lines demonstrate an example prediction using the trained model on a single test image. The image is reshaped to match the input shape of the model, and the predicted label is printed."
      ],
      "metadata": {
        "id": "Lpll2PcTVmmq"
      }
    },
    {
      "cell_type": "code",
      "source": [
        "print(f\"Predicted label: {predicted_label}\")"
      ],
      "metadata": {
        "colab": {
          "base_uri": "https://localhost:8080/"
        },
        "id": "6fbUr1KfA7sr",
        "outputId": "fd3b634d-15fd-4832-faec-cd0917133ec1"
      },
      "execution_count": 10,
      "outputs": [
        {
          "output_type": "stream",
          "name": "stdout",
          "text": [
            "Predicted label: 7\n"
          ]
        }
      ]
    },
    {
      "cell_type": "markdown",
      "source": [
        "## Visualize the example image\n"
      ],
      "metadata": {
        "id": "epWqQsJnBQaJ"
      }
    },
    {
      "cell_type": "code",
      "source": [
        "plt.imshow(test_images[0].reshape((28, 28)), cmap='gray')\n",
        "plt.show()"
      ],
      "metadata": {
        "colab": {
          "base_uri": "https://localhost:8080/",
          "height": 430
        },
        "id": "KTVi-htHBOSh",
        "outputId": "a5542ad2-901d-4422-adfb-bdd7b9836c2e"
      },
      "execution_count": 11,
      "outputs": [
        {
          "output_type": "display_data",
          "data": {
            "text/plain": [
              "<Figure size 640x480 with 1 Axes>"
            ],
            "image/png": "[encoded data removed]"
          },
          "metadata": {}
        }
      ]
    },
    {
      "cell_type": "markdown",
      "source": [
        "Explaination: The line of code \"plt.imshow(test_images[0].reshape((28, 28)), cmap='gray')\":\n",
        " 'test_images[0]' visualizes the first image from the MNIST test dataset. 'reshape((28, 28))' reshaping it to a 28x28 2D (2 dimension ) array and displaying it in grayscale using matplotlib."
      ],
      "metadata": {
        "id": "UXbWKDQxGM-m"
      }
    }
  ]
}