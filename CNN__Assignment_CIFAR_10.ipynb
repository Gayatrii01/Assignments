{
  "nbformat": 4,
  "nbformat_minor": 0,
  "metadata": {
    "colab": {
      "provenance": [],
      "authorship_tag": "ABX9TyNKgGSF7W9KLnd23/TSP7Wo",
      "include_colab_link": true
    },
    "kernelspec": {
      "name": "python3",
      "display_name": "Python 3"
    },
    "language_info": {
      "name": "python"
    }
  },
  "cells": [
    {
      "cell_type": "markdown",
      "metadata": {
        "id": "view-in-github",
        "colab_type": "text"
      },
      "source": [
        "<a href=\"https://colab.research.google.com/github/Gayatrii01/Assignments/blob/master/CNN__Assignment_CIFAR_10.ipynb\" target=\"_parent\"><img src=\"https://colab.research.google.com/assets/colab-badge.svg\" alt=\"Open In Colab\"/></a>"
      ]
    },
    {
      "cell_type": "markdown",
      "source": [
        "# CONVOLUTIONAL NEURAL NETWORK (CNN) ASSIGNMENT"
      ],
      "metadata": {
        "id": "qaF29nNOiqW3"
      }
    },
    {
      "cell_type": "markdown",
      "source": [
        "### Name of dataset: The CIFAR-10\n",
        "\n",
        "### Source of dataset: https://www.cs.toronto.edu/~kriz/cifar.html"
      ],
      "metadata": {
        "id": "6sI8FhkFybiu"
      }
    },
    {
      "cell_type": "markdown",
      "source": [
        "### About The CIFAR-10 dataset:\n",
        "\n",
        "- The CIFAR-10 dataset consists of 60000 32x32 colour images in 10 classes, with 6000 images per class. There are 50000 training images and 10000 test images.\n",
        "\n",
        "- The dataset is divided into five training batches and one test batch, each with 10000 images.\n",
        "\n",
        "- The test batch contains exactly 1000 randomly-selected images from each class. The training batches contain the remaining images in random order, but some training batches may contain more images from one class than another. Between them, the training batches contain exactly 5000 images from each class."
      ],
      "metadata": {
        "id": "ErJ2-bSQwpZ6"
      }
    },
    {
      "cell_type": "markdown",
      "source": [
        "##### There are 10 Categories : 10 Objects / classes : airplane, automobile, bird, cat, deer, dog, frog, horse, ship, truck."
      ],
      "metadata": {
        "id": "lual3UHDxlH6"
      }
    },
    {
      "cell_type": "code",
      "execution_count": 1,
      "metadata": {
        "id": "XqJQd9VYO4WF"
      },
      "outputs": [],
      "source": [
        "# Import TensorFlow and necessary modules for building neural network models,\n",
        "# along with matplotlib for visualization and numpy for numerical computations\n",
        "import tensorflow as tf\n",
        "from tensorflow.keras import datasets, layers, models\n",
        "import matplotlib.pyplot as plt\n",
        "import numpy as np"
      ]
    },
    {
      "cell_type": "markdown",
      "source": [
        "### Load Dataset:"
      ],
      "metadata": {
        "id": "n1vlvevGyIPH"
      }
    },
    {
      "cell_type": "code",
      "source": [
        "(X_train, y_train), (X_test, y_test) = datasets.cifar10.load_data()"
      ],
      "metadata": {
        "id": "0TsyprnEv_q9",
        "colab": {
          "base_uri": "https://localhost:8080/"
        },
        "outputId": "277c5e15-f88b-4e00-b012-ed61b2ed0ff9"
      },
      "execution_count": 2,
      "outputs": [
        {
          "output_type": "stream",
          "name": "stdout",
          "text": [
            "Downloading data from https://www.cs.toronto.edu/~kriz/cifar-10-python.tar.gz\n",
            "170498071/170498071 [==============================] - 4s 0us/step\n"
          ]
        }
      ]
    },
    {
      "cell_type": "markdown",
      "source": [
        "## Explanation:\n",
        "\n",
        " This line of code is used to load the CIFAR-10 dataset for image classification\n",
        "(alos used for machine learning or deep learning tasks).\n",
        "\n",
        "- datasets.cifar10.load_data(): This function loads the CIFAR-10 dataset, which consists of 60,000 32x32 color images in 10 classes, with 6,000 images per class.\n",
        "\n",
        "(X_train, y_train), (X_test, y_test): This line of code uses tuple unpacking to assign the returned data from load_data() to four variables:\n",
        "\n",
        "1. X_train: Contains the training images. These are the images that the model will learn from.\n",
        "2. y_train: Contains the corresponding labels for the training images. Each label represents the class/category of the corresponding image in X_train.\n",
        "3. X_test: Contains the test images. These are images that the model will be evaluated on after training to assess its performance on unseen data.\n",
        "4. y_test: Contains the corresponding labels for the test images. Each label represents the class/category of the corresponding image in X_test."
      ],
      "metadata": {
        "id": "VeLrzaovVXSH"
      }
    },
    {
      "cell_type": "code",
      "source": [
        "X_train.shape"
      ],
      "metadata": {
        "colab": {
          "base_uri": "https://localhost:8080/"
        },
        "id": "Cc8gKTp58mKL",
        "outputId": "e332faaf-6e7b-44ba-a5fe-699bbf66c218"
      },
      "execution_count": 3,
      "outputs": [
        {
          "output_type": "execute_result",
          "data": {
            "text/plain": [
              "(50000, 32, 32, 3)"
            ]
          },
          "metadata": {},
          "execution_count": 3
        }
      ]
    },
    {
      "cell_type": "markdown",
      "source": [
        "## Explanation:\n",
        "\n",
        "\n",
        "X_train.shape is used to check the shape of the training data.\n",
        "This is helpful to understand the dimensions of the training data, especially when working with images in machine learning or deep learning tasks.\n",
        "\n",
        "Output: (50000, 32, 32, 3)\n",
        "Explanation:\n",
        "- The first dimension (50000) represents the number of samples or images in the training data.\n",
        "- The second dimension (32) represents the height of each image in pixels.\n",
        "- The third dimension (32) represents the width of each image in pixels.\n",
        "- The fourth dimension (3) represents the number of color channels in each image (RGB: Red, Green, Blue).\n",
        "\n",
        "\n",
        "\n",
        "\n"
      ],
      "metadata": {
        "id": "Z0aW8xuPXROR"
      }
    },
    {
      "cell_type": "code",
      "source": [
        "X_test.shape"
      ],
      "metadata": {
        "colab": {
          "base_uri": "https://localhost:8080/"
        },
        "id": "UypL8VyZ8str",
        "outputId": "bc874105-82e4-4722-f52a-cc450e1c9ec3"
      },
      "execution_count": 4,
      "outputs": [
        {
          "output_type": "execute_result",
          "data": {
            "text/plain": [
              "(10000, 32, 32, 3)"
            ]
          },
          "metadata": {},
          "execution_count": 4
        }
      ]
    },
    {
      "cell_type": "markdown",
      "source": [
        "## Explanation:\n",
        "\n",
        "Test samples are 10000, each sample are 32 x 32 image/dimension and have 3 channels RGB (Red, Green, Blue).\n",
        "\n",
        "X_test.shape is used to check the shape of the test data.\n",
        "Similar to X_train.shape, it helps in understanding the dimensions of the test data, particularly when working with image data in machine learning or deep learning tasks.\n",
        "\n",
        "Output:- (10000, 32, 32, 3)\n",
        "Explanation:\n",
        "- The first dimension (10000) represents the number of samples or images in the test data.\n",
        "- The second dimension (32) represents the height of each image in pixels.\n",
        "- The third dimension (32) represents the width of each image in pixels.\n",
        "- The fourth dimension (3) represents the number of color channels in each image (RGB: Red, Green, Blue).\n",
        "\n",
        "\n",
        "\n",
        "\n"
      ],
      "metadata": {
        "id": "HlqvQLwj831L"
      }
    },
    {
      "cell_type": "markdown",
      "source": [
        "# Check each training sample:"
      ],
      "metadata": {
        "id": "my3SOTXiJT8-"
      }
    },
    {
      "cell_type": "code",
      "source": [
        "X_train[0]"
      ],
      "metadata": {
        "colab": {
          "base_uri": "https://localhost:8080/",
          "height": 886
        },
        "id": "alIOQJHJv_v6",
        "outputId": "b9e17b7c-a820-4380-cfb0-6ca0abe91153"
      },
      "execution_count": 5,
      "outputs": [
        {
          "output_type": "execute_result",
          "data": {
            "text/plain": [
              "array([[[ 59,  62,  63],\n",
              "        [ 43,  46,  45],\n",
              "        [ 50,  48,  43],\n",
              "        ...,\n",
              "        [158, 132, 108],\n",
              "        [152, 125, 102],\n",
              "        [148, 124, 103]],\n",
              "\n",
              "       [[ 16,  20,  20],\n",
              "        [  0,   0,   0],\n",
              "        [ 18,   8,   0],\n",
              "        ...,\n",
              "        [123,  88,  55],\n",
              "        [119,  83,  50],\n",
              "        [122,  87,  57]],\n",
              "\n",
              "       [[ 25,  24,  21],\n",
              "        [ 16,   7,   0],\n",
              "        [ 49,  27,   8],\n",
              "        ...,\n",
              "        [118,  84,  50],\n",
              "        [120,  84,  50],\n",
              "        [109,  73,  42]],\n",
              "\n",
              "       ...,\n",
              "\n",
              "       [[208, 170,  96],\n",
              "        [201, 153,  34],\n",
              "        [198, 161,  26],\n",
              "        ...,\n",
              "        [160, 133,  70],\n",
              "        [ 56,  31,   7],\n",
              "        [ 53,  34,  20]],\n",
              "\n",
              "       [[180, 139,  96],\n",
              "        [173, 123,  42],\n",
              "        [186, 144,  30],\n",
              "        ...,\n",
              "        [184, 148,  94],\n",
              "        [ 97,  62,  34],\n",
              "        [ 83,  53,  34]],\n",
              "\n",
              "       [[177, 144, 116],\n",
              "        [168, 129,  94],\n",
              "        [179, 142,  87],\n",
              "        ...,\n",
              "        [216, 184, 140],\n",
              "        [151, 118,  84],\n",
              "        [123,  92,  72]]], dtype=uint8)"
            ],
            "text/html": [
              "<style>\n",
              "      .ndarray_repr .ndarray_raw_data {\n",
              "        display: none;\n",
              "      }\n",
              "      .ndarray_repr.show_array .ndarray_raw_data {\n",
              "        display: block;\n",
              "      }\n",
              "      .ndarray_repr.show_array .ndarray_image_preview {\n",
              "        display: none;\n",
              "      }\n",
              "      </style>\n",
              "      <div id=\"id-e41dbd1a-6e0f-4691-95cd-e91a3bf6b102\" class=\"ndarray_repr\"><pre>ndarray (32, 32, 3) <button style=\"padding: 0 2px;\">show data</button></pre><img src=\"data:image/png;base64,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\" class=\"ndarray_image_preview\" /><pre class=\"ndarray_raw_data\">array([[[ 59,  62,  63],\n",
              "        [ 43,  46,  45],\n",
              "        [ 50,  48,  43],\n",
              "        ...,\n",
              "        [158, 132, 108],\n",
              "        [152, 125, 102],\n",
              "        [148, 124, 103]],\n",
              "\n",
              "       [[ 16,  20,  20],\n",
              "        [  0,   0,   0],\n",
              "        [ 18,   8,   0],\n",
              "        ...,\n",
              "        [123,  88,  55],\n",
              "        [119,  83,  50],\n",
              "        [122,  87,  57]],\n",
              "\n",
              "       [[ 25,  24,  21],\n",
              "        [ 16,   7,   0],\n",
              "        [ 49,  27,   8],\n",
              "        ...,\n",
              "        [118,  84,  50],\n",
              "        [120,  84,  50],\n",
              "        [109,  73,  42]],\n",
              "\n",
              "       ...,\n",
              "\n",
              "       [[208, 170,  96],\n",
              "        [201, 153,  34],\n",
              "        [198, 161,  26],\n",
              "        ...,\n",
              "        [160, 133,  70],\n",
              "        [ 56,  31,   7],\n",
              "        [ 53,  34,  20]],\n",
              "\n",
              "       [[180, 139,  96],\n",
              "        [173, 123,  42],\n",
              "        [186, 144,  30],\n",
              "        ...,\n",
              "        [184, 148,  94],\n",
              "        [ 97,  62,  34],\n",
              "        [ 83,  53,  34]],\n",
              "\n",
              "       [[177, 144, 116],\n",
              "        [168, 129,  94],\n",
              "        [179, 142,  87],\n",
              "        ...,\n",
              "        [216, 184, 140],\n",
              "        [151, 118,  84],\n",
              "        [123,  92,  72]]], dtype=uint8)</pre></div><script>\n",
              "      (() => {\n",
              "      const titles = ['show data', 'hide data'];\n",
              "      let index = 0\n",
              "      document.querySelector('#id-e41dbd1a-6e0f-4691-95cd-e91a3bf6b102 button').onclick = (e) => {\n",
              "        document.querySelector('#id-e41dbd1a-6e0f-4691-95cd-e91a3bf6b102').classList.toggle('show_array');\n",
              "        index = (++index) % 2;\n",
              "        document.querySelector('#id-e41dbd1a-6e0f-4691-95cd-e91a3bf6b102 button').textContent = titles[index];\n",
              "        e.preventDefault();\n",
              "        e.stopPropagation();\n",
              "      }\n",
              "      })();\n",
              "    </script>"
            ]
          },
          "metadata": {},
          "execution_count": 5
        }
      ]
    },
    {
      "cell_type": "markdown",
      "source": [
        "## Explanation:\n",
        "\n",
        "X_train[0] is used to access the first image in the training data.\n",
        "\n",
        "This is useful for inspecting individual images, understanding their structure, and potentially performing preprocessing or visualization.\n",
        "\n",
        "Output:\n",
        "\n",
        "An array representing the pixel values of the first training image. This array will have a shape of (32, 32, 3), representing a 32x32 image with 3 color channels (RGB)."
      ],
      "metadata": {
        "id": "J31uqd5GZYTk"
      }
    },
    {
      "cell_type": "code",
      "source": [
        " y_train.shape"
      ],
      "metadata": {
        "colab": {
          "base_uri": "https://localhost:8080/"
        },
        "id": "iNfWHJcoLG1d",
        "outputId": "9d618f59-166f-4783-e370-278b4e7cd2b3"
      },
      "execution_count": 6,
      "outputs": [
        {
          "output_type": "execute_result",
          "data": {
            "text/plain": [
              "(50000, 1)"
            ]
          },
          "metadata": {},
          "execution_count": 6
        }
      ]
    },
    {
      "cell_type": "markdown",
      "source": [
        "## Explanation:\n",
        "y_train.shape is used to check the shape of the labels associated with the training data.\n",
        "\n",
        "It helps in understanding the dimensions of the label data, particularly when working with classification tasks.\n",
        "\n",
        "Output:- (50000, 1)\n",
        "\n",
        "Explanation:\n",
        "- The first dimension (50000) represents the number of samples or images in the training data.\n",
        "- The second dimension (1) represents the single label associated with each image."
      ],
      "metadata": {
        "id": "rdSjB1pkLrG5"
      }
    },
    {
      "cell_type": "code",
      "source": [
        "y_train[:5]"
      ],
      "metadata": {
        "colab": {
          "base_uri": "https://localhost:8080/"
        },
        "id": "DVPafXlLMM_z",
        "outputId": "e079e299-b8e5-4871-fa2e-22d96947b6e1"
      },
      "execution_count": 7,
      "outputs": [
        {
          "output_type": "execute_result",
          "data": {
            "text/plain": [
              "array([[6],\n",
              "       [9],\n",
              "       [9],\n",
              "       [4],\n",
              "       [1]], dtype=uint8)"
            ]
          },
          "metadata": {},
          "execution_count": 7
        }
      ]
    },
    {
      "cell_type": "markdown",
      "source": [
        "## Explanation:\n",
        "\n",
        "y_train[:5] is used to access the first five labels in the training data.\n",
        "\n",
        "This allows you to inspect a subset of the labels, providing insights into the distribution of classes or verifying data integrity.\n",
        "\n",
        "Output:\n",
        "An array containing the first five labels associated with the training images.\n",
        "\n",
        "(What output will come, numeric labels (e.g., 0, 1, 2) or categorical labels (e.g., \"cat\", \"dog\", \"bird\") its all totally depend on the dataset and its encoding.)"
      ],
      "metadata": {
        "id": "VemfiuWkRlcH"
      }
    },
    {
      "cell_type": "code",
      "source": [
        "y_train = y_train.reshape(-1, )\n",
        "y_train[:5]"
      ],
      "metadata": {
        "id": "LgEBzVZRMHcT",
        "colab": {
          "base_uri": "https://localhost:8080/"
        },
        "outputId": "c93edb3a-c862-4b21-b794-3138eff34fe0"
      },
      "execution_count": 8,
      "outputs": [
        {
          "output_type": "execute_result",
          "data": {
            "text/plain": [
              "array([6, 9, 9, 4, 1], dtype=uint8)"
            ]
          },
          "metadata": {},
          "execution_count": 8
        }
      ]
    },
    {
      "cell_type": "markdown",
      "source": [
        "## Explanation:\n",
        "\n",
        "The line \"y_train = y_train.reshape(-1, )\" is used to reshape the labels associated with the training data.\n",
        "\n",
        "\n",
        "In this case, it's reshaping the labels into a one-dimensional array.\n",
        "\n",
        "\n",
        "This is often done to ensure compatibility with certain machine learning algorithms or frameworks that expect labels to be in a specific shape.\n",
        "\n",
        "\n",
        "Output:  An array containing the first five reshaped labels associated with the training images.\n",
        "\n",
        "\n",
        "(Note: After reshaping, the shape of y_train will be (50000,) if the original shape was (50000, 1))."
      ],
      "metadata": {
        "id": "MM5V4AFrRdCl"
      }
    },
    {
      "cell_type": "code",
      "source": [
        "classes = [\"airplane\", \"automobile\", \"bird\", \"cat\", \"deer\", \"dog\", \"frog\", \"horse\", \"ship\", \"truck\"]"
      ],
      "metadata": {
        "id": "Mtlc1O8rv_1f"
      },
      "execution_count": 9,
      "outputs": []
    },
    {
      "cell_type": "code",
      "source": [
        "classes[4]"
      ],
      "metadata": {
        "colab": {
          "base_uri": "https://localhost:8080/",
          "height": 36
        },
        "id": "kEedbQ4iNWkh",
        "outputId": "59dfe8df-ab69-4e5f-befd-186e018e1327"
      },
      "execution_count": 10,
      "outputs": [
        {
          "output_type": "execute_result",
          "data": {
            "text/plain": [
              "'deer'"
            ],
            "application/vnd.google.colaboratory.intrinsic+json": {
              "type": "string"
            }
          },
          "metadata": {},
          "execution_count": 10
        }
      ]
    },
    {
      "cell_type": "markdown",
      "source": [
        "## Explanation:\n",
        "\n",
        "The line of code defines a Python list named 'classes'. Each element of this list represents a category or class label for the CIFAR-10 dataset. The CIFAR-10 dataset consists of images belonging to ten different classes:"
      ],
      "metadata": {
        "id": "aOrWHP1Aeuqc"
      }
    },
    {
      "cell_type": "markdown",
      "source": [
        "# Plot some images to see what they are:"
      ],
      "metadata": {
        "id": "8D1sFSmmOmcp"
      }
    },
    {
      "cell_type": "code",
      "source": [
        "def plot_sample(X,y, index):\n",
        "    plt.figure(figsize = (15, 2))\n",
        "    plt.imshow(X[index])\n",
        "    plt.xlabel(classes[y[index]])"
      ],
      "metadata": {
        "id": "oB-aO3Jgv_2s"
      },
      "execution_count": 11,
      "outputs": []
    },
    {
      "cell_type": "markdown",
      "source": [
        "## Explanation:\n",
        "\n",
        "The function \"plot_sample\" is designed to visualize a single sample from a dataset along with its corresponding label.\n",
        "\n",
        "It takes three parameters:\n",
        "- X: The dataset containing the samples/images.\n",
        "- y: The labels associated with the samples/images.\n",
        "- index: The index of the sample/image to be plotted.\n",
        "\n",
        "\n",
        "This function aims to provide a convenient way to visually inspect individual samples and their associated labels.\n",
        "\n",
        "\n",
        "Example usage:\n",
        "sample(X_train, y_train, 0)\n",
        "This will plot the first sample/image from the training dataset along with its corresponding label.\n",
        "\n",
        "The function first creates a figure with a specified size (15 inches wide and 2 inches tall) to ensure the image is displayed clearly.\n",
        "It then uses matplotlib's imshow function to display the image corresponding to the given index.\n",
        "The xlabel is set using the classes list, which maps the numeric label to its corresponding class name.\n",
        "This helps in interpreting the label associated with the plotted image."
      ],
      "metadata": {
        "id": "iJ8rfIh9fY3h"
      }
    },
    {
      "cell_type": "code",
      "source": [
        "plot_sample(X_train, y_train, 0)"
      ],
      "metadata": {
        "colab": {
          "base_uri": "https://localhost:8080/",
          "height": 237
        },
        "id": "5uw8RNl_O1ct",
        "outputId": "f2d007ca-2ec2-40cd-d215-54d61314bb4d"
      },
      "execution_count": 12,
      "outputs": [
        {
          "output_type": "display_data",
          "data": {
            "text/plain": [
              "<Figure size 1500x200 with 1 Axes>"
            ],
            "image/png": "[encoded data removed]"
          },
          "metadata": {}
        }
      ]
    },
    {
      "cell_type": "markdown",
      "source": [
        "## Explanation:\n",
        "\n",
        "This line of code is a function call to plot_sample, which is a custom function designed for visualizing individual samples and their associated labels.\n",
        "\n",
        "\n",
        "Arguments:\n",
        "- X_train: The training dataset containing the images.\n",
        "- y_train: The labels associated with the training dataset.\n",
        "- 0: The index of the sample/image to be plotted, in this case, the first sample.\n",
        "\n",
        "\n",
        "The function call plot_sample(X_train, y_train, 0) displayed the first image from the training dataset along with its corresponding label.\n",
        "\n",
        "\n",
        "This visualization provides a quick way to inspect individual samples and their associated labels, aiding in understanding the data and verifying correctness.\n",
        "\n",
        "(Note: Depending on the implementation of the plot_sample function, the appearance and formatting of the visualization may vary.)\n",
        "\n",
        "\n",
        "\n",
        "\n"
      ],
      "metadata": {
        "id": "0f_RRW7Uh9bR"
      }
    },
    {
      "cell_type": "code",
      "source": [
        "plot_sample(X_train, y_train, 1)"
      ],
      "metadata": {
        "colab": {
          "base_uri": "https://localhost:8080/",
          "height": 237
        },
        "id": "rjgkZuAIO5A_",
        "outputId": "3036c6d2-6502-48ae-bd6c-3f303df59c0b"
      },
      "execution_count": 13,
      "outputs": [
        {
          "output_type": "display_data",
          "data": {
            "text/plain": [
              "<Figure size 1500x200 with 1 Axes>"
            ],
            "image/png": "[encoded data removed]"
          },
          "metadata": {}
        }
      ]
    },
    {
      "cell_type": "code",
      "source": [
        "plot_sample(X_train, y_train, 3)"
      ],
      "metadata": {
        "colab": {
          "base_uri": "https://localhost:8080/",
          "height": 237
        },
        "id": "qyucnrnaTHIl",
        "outputId": "3947a7c3-661f-43da-a678-ddd73f671ec6"
      },
      "execution_count": 14,
      "outputs": [
        {
          "output_type": "display_data",
          "data": {
            "text/plain": [
              "<Figure size 1500x200 with 1 Axes>"
            ],
            "image/png": "[encoded data removed]"
          },
          "metadata": {}
        }
      ]
    },
    {
      "cell_type": "markdown",
      "source": [
        "## Normalizing the training data"
      ],
      "metadata": {
        "id": "sfNJb4J_PBMk"
      }
    },
    {
      "cell_type": "markdown",
      "source": [
        "Normalize the images to a number from 0 to 1. Image has 3 channels (R,G,B) and each value in the channel can range from 0 to 255. Hence to normalize in 0-->1 range, we need to divide it by 255"
      ],
      "metadata": {
        "id": "Zo1rthMMO92f"
      }
    },
    {
      "cell_type": "code",
      "source": [
        "X_train = X_train / 255\n",
        "X_test = X_test / 255"
      ],
      "metadata": {
        "id": "minSzEA_O5CL"
      },
      "execution_count": 15,
      "outputs": []
    },
    {
      "cell_type": "markdown",
      "source": [
        "## Build simple artificial neural network for image classification"
      ],
      "metadata": {
        "id": "8AcMpqtbPJBY"
      }
    },
    {
      "cell_type": "code",
      "source": [
        "ann = models.Sequential([\n",
        "        layers.Flatten(input_shape=(32,32,3)),\n",
        "        layers.Dense(3000, activation='relu'),\n",
        "        layers.Dense(1000, activation='relu'),\n",
        "        layers.Dense(10, activation='softmax')\n",
        "    ])\n",
        "\n",
        "ann.compile(optimizer='SGD',\n",
        "              loss='sparse_categorical_crossentropy',\n",
        "              metrics=['accuracy'])\n",
        "\n",
        "ann.fit(X_train, y_train, epochs=5)"
      ],
      "metadata": {
        "colab": {
          "base_uri": "https://localhost:8080/"
        },
        "id": "INN7LswZO5G7",
        "outputId": "3675452f-ed8d-42ac-e3e2-64573250a70f"
      },
      "execution_count": 17,
      "outputs": [
        {
          "output_type": "stream",
          "name": "stdout",
          "text": [
            "Epoch 1/5\n",
            "1563/1563 [==============================] - 145s 92ms/step - loss: 1.8140 - accuracy: 0.3574\n",
            "Epoch 2/5\n",
            "1563/1563 [==============================] - 145s 93ms/step - loss: 1.6225 - accuracy: 0.4287\n",
            "Epoch 3/5\n",
            "1563/1563 [==============================] - 149s 96ms/step - loss: 1.5404 - accuracy: 0.4543\n",
            "Epoch 4/5\n",
            "1563/1563 [==============================] - 138s 88ms/step - loss: 1.4834 - accuracy: 0.4759\n",
            "Epoch 5/5\n",
            "1563/1563 [==============================] - 137s 87ms/step - loss: 1.4328 - accuracy: 0.4966\n"
          ]
        },
        {
          "output_type": "execute_result",
          "data": {
            "text/plain": [
              "<keras.src.callbacks.History at 0x7fdb42b88160>"
            ]
          },
          "metadata": {},
          "execution_count": 17
        }
      ]
    },
    {
      "cell_type": "markdown",
      "source": [
        "## Explanation:\n",
        "\n",
        "This code defines and trains a simple Artificial Neural Network (ANN) using the Sequential API provided by TensorFlow/Keras.\n",
        "\n",
        "Model Architecture:\n",
        "- The model is defined using the Sequential class, which allows you to create models layer by layer.\n",
        "- It starts with a Flatten layer, which transforms the 32x32x3 input images into a one-dimensional array.\n",
        "- Following the Flatten layer, there are three Dense layers with 3000, 1000, and 10 units, respectively.\n",
        "- Each Dense layer uses the ReLU activation function, except for the last layer, which uses the softmax activation function since it's a multi-class classification problem.\n",
        "\n",
        "### Compilation:\n",
        "- The model is compiled using the stochastic gradient descent (SGD) optimizer.\n",
        "- The loss function used is sparse_categorical_crossentropy, suitable for multi-class classification tasks where the labels are integers.\n",
        "- The metrics to monitor during training are set to accuracy.\n",
        "\n",
        "### Training:\n",
        "- The model is trained using the fit method.\n",
        "- Training data (X_train and y_train) is passed to the fit method along with the number of epochs (5 in this case), indicating the number of times the entire training dataset will be passed forward and backward through the network.\n",
        "\n",
        "### Example:\n",
        "ann.fit(X_train, y_train, epochs=5)\n",
        "\n",
        "(Note: The success and effectiveness of the model depend on various factors such as the complexity of the problem, the size and quality of the dataset, and the chosen hyperparameters.)"
      ],
      "metadata": {
        "id": "0ORJ57n9jo-T"
      }
    },
    {
      "cell_type": "code",
      "source": [
        "# Evaluate the model\n",
        "test_loss, test_accuracy = ann.evaluate(X_test, y_test)\n",
        "print(\"Test Accuracy: {:.2f}%\".format(test_accuracy * 100))"
      ],
      "metadata": {
        "colab": {
          "base_uri": "https://localhost:8080/"
        },
        "id": "Z2NoUTWoxE67",
        "outputId": "a06f78f5-0181-4a17-c246-74e4bbcb9516"
      },
      "execution_count": 18,
      "outputs": [
        {
          "output_type": "stream",
          "name": "stdout",
          "text": [
            "313/313 [==============================] - 9s 28ms/step - loss: 1.5359 - accuracy: 0.4575\n",
            "Test Accuracy: 45.75%\n"
          ]
        }
      ]
    },
    {
      "cell_type": "markdown",
      "source": [
        "## Explanation:\n",
        "This code evaluates the trained Artificial Neural Network (ANN) model on the test dataset to assess its performance.\n",
        "\n",
        "### Evaluation:\n",
        "- The evaluate method of the ANN model is used to evaluate its performance on the test dataset.\n",
        "- The test data (X_test and y_test) are passed to the evaluate method.- The method returns two values: test_loss and test_accuracy.\n",
        "- test_loss represents the loss value calculated during the evaluation.\n",
        "- test_accuracy represents the accuracy of the model on the test dataset.\n",
        "- These values are then assigned to the variables test_loss and test_accuracy.\n",
        "\n",
        "### Example:\n",
        "test_loss, test_accuracy = ann.evaluate(X_test, y_test)\n",
        "\n",
        "### Printing Results:\n",
        "- The test accuracy is printed to the console.\n",
        "- The test accuracy is multiplied by 100 to convert it to a percentage format and displayed with two decimal places.\n",
        "\n",
        "### Example:\n",
        "print(\"Test Accuracy: {:.2f}%\".format(test_accuracy * 100))\n",
        "\n",
        "(Note: Evaluating the model on a separate test dataset provides insights into its generalization performance and helps assess its effectiveness in making predictions on unseen data.)\n",
        "\n",
        "\n",
        "\n",
        "\n"
      ],
      "metadata": {
        "id": "szfgj8_pndAX"
      }
    },
    {
      "cell_type": "code",
      "source": [
        "from sklearn.metrics import confusion_matrix , classification_report\n",
        "import numpy as np\n",
        "y_pred = ann.predict(X_test)\n",
        "y_pred_classes = [np.argmax(element) for element in y_pred]\n",
        "\n",
        "print(\"Classification Report: \\n\", classification_report(y_test, y_pred_classes))"
      ],
      "metadata": {
        "colab": {
          "base_uri": "https://localhost:8080/"
        },
        "id": "mdFKbPkMO5It",
        "outputId": "8532a80e-cc0b-45ae-f74b-bc7eca1a5047"
      },
      "execution_count": 19,
      "outputs": [
        {
          "output_type": "stream",
          "name": "stdout",
          "text": [
            "313/313 [==============================] - 8s 24ms/step\n",
            "Classification Report: \n",
            "               precision    recall  f1-score   support\n",
            "\n",
            "           0       0.55      0.54      0.54      1000\n",
            "           1       0.38      0.85      0.52      1000\n",
            "           2       0.52      0.19      0.27      1000\n",
            "           3       0.44      0.18      0.25      1000\n",
            "           4       0.37      0.43      0.40      1000\n",
            "           5       0.49      0.22      0.30      1000\n",
            "           6       0.56      0.47      0.51      1000\n",
            "           7       0.38      0.71      0.49      1000\n",
            "           8       0.61      0.60      0.60      1000\n",
            "           9       0.56      0.40      0.47      1000\n",
            "\n",
            "    accuracy                           0.46     10000\n",
            "   macro avg       0.49      0.46      0.44     10000\n",
            "weighted avg       0.49      0.46      0.44     10000\n",
            "\n"
          ]
        }
      ]
    },
    {
      "cell_type": "markdown",
      "source": [
        "## Explanation:\n",
        " This code imports necessary modules and computes a classification report to evaluate the performance of the trained model on the test dataset.\n",
        "\n",
        "### Importing Modules:\n",
        "- The code imports confusion_matrix and classification_report from sklearn.metrics.\n",
        "- confusion_matrix is used to compute the confusion matrix, which provides insights into the performance of the classification model.\n",
        "- classification_report generates a detailed classification report, including precision, recall, F1-score, and support for each class.\n",
        "\n",
        "### Example:\n",
        "from sklearn.metrics import confusion_matrix, classification_report\n",
        "import numpy as np\n",
        "\n",
        "### Prediction:\n",
        "- The trained ANN model (ann) is used to predict the class labels for the test dataset (X_test).\n",
        "- The predictions are stored in the variable y_pred.\n",
        "\n",
        "### Example:\n",
        "y_pred = ann.predict(X_test)\n",
        "\n",
        "### Post-processing:\n",
        "- Since the predictions are in the form of probability distributions, np.argmax is used to obtain the class label with the highest probability for each prediction.\n",
        "- The obtained class labels are stored in the variable y_pred_classes.\n",
        "\n",
        "### Example:\n",
        "y_pred_classes = [np.argmax(element) for element in y_pred]\n",
        "\n",
        "### Classification Report:\n",
        "- The classification_report function is called to generate a detailed classification report.\n",
        "- It takes the true labels (y_test) and predicted labels (y_pred_classes) as inputs.\n",
        "- The classification report includes metrics such as precision, recall, F1-score, and support for each class.\n",
        "\n",
        "### Example:\n",
        "print(\"Classification Report: \\n\", classification_report(y_test, y_pred_classes))\n",
        "\n",
        "(Note: The classification report provides valuable insights into the performance of the model, including its ability to correctly classify each class, precision, recall, and other important metrics.)\n",
        "\n",
        "\n",
        "\n",
        "\n"
      ],
      "metadata": {
        "id": "gIEW-F9-9yEv"
      }
    },
    {
      "cell_type": "markdown",
      "source": [
        "Build a convolutional neural network to train our images"
      ],
      "metadata": {
        "id": "7thZL_37Pez_"
      }
    },
    {
      "cell_type": "code",
      "source": [
        "cnn = models.Sequential([\n",
        "    layers.Conv2D(filters=32, kernel_size=(3, 3), activation='relu', input_shape=(32, 32, 3)),\n",
        "    layers.MaxPooling2D((2, 2)),\n",
        "\n",
        "    layers.Conv2D(filters=64, kernel_size=(3, 3), activation='relu'),\n",
        "    layers.MaxPooling2D((2, 2)),\n",
        "\n",
        "    layers.Flatten(),\n",
        "    layers.Dense(64, activation='relu'),\n",
        "    layers.Dense(10, activation='softmax')\n",
        "])"
      ],
      "metadata": {
        "id": "pwbCiKL7O5MQ"
      },
      "execution_count": 20,
      "outputs": []
    },
    {
      "cell_type": "markdown",
      "source": [
        "## Explanation:\n",
        "This code defines a Convolutional Neural Network (CNN) using the Sequential API provided by TensorFlow/Keras.\n",
        "\n",
        "### Model Architecture:\n",
        "- The model starts with a Conv2D layer with 32 filters, each with a kernel size of (3, 3) and ReLU activation function.\n",
        "- This is followed by a MaxPooling2D layer with a pool size of (2, 2), which reduces the spatial dimensions of the feature maps.\n",
        "- Next, another Conv2D layer with 64 filters and kernel size (3, 3) is added, followed by another MaxPooling2D layer.\n",
        "- The output from the convolutional layers is flattened into a one-dimensional array.\n",
        "- Then, two Dense layers are added with 64 and 10 units, respectively, with ReLU activation for the first dense layer and softmax activation for the last dense layer.\n",
        "\n",
        "### Explanation of layers:\n",
        "- Conv2D: Convolutional layer that applies a specified number of filters to the input data, extracting features through convolutions.\n",
        "- MaxPooling2D: Pooling layer that reduces the spatial dimensions of the input data by taking the maximum value within each window.\n",
        "- Flatten: Layer that flattens the input data into a one-dimensional array, preparing it for the fully connected layers.\n",
        "- Dense: Fully connected layer that connects every neuron from the previous layer to the current layer.\n",
        "\n",
        "(Note: CNNs are particularly effective for image classification tasks as they can learn spatial hierarchies of features.)\n",
        "\n",
        "\n",
        "\n",
        "\n",
        "\n"
      ],
      "metadata": {
        "id": "iuJbnhdM_0L_"
      }
    },
    {
      "cell_type": "code",
      "source": [
        "cnn.compile(optimizer='adam',\n",
        "              loss='sparse_categorical_crossentropy',\n",
        "              metrics=['accuracy'])"
      ],
      "metadata": {
        "id": "2mAIpDKGO5N3"
      },
      "execution_count": 21,
      "outputs": []
    },
    {
      "cell_type": "markdown",
      "source": [
        "## Explanation:\n",
        " This code compiles the Convolutional Neural Network (CNN) model defined earlier using the Sequential API.\n",
        "\n",
        "### Compilation:\n",
        "- The compile method configures the model for training.\n",
        "- Various parameters are specified during compilation, including the optimizer, loss function, and metrics to monitor during training.\n",
        "\n",
        "### Explanation of Parameters:\n",
        "- optimizer: The optimizer algorithm used to update the weights of the neural network during training. Here, 'adam' optimizer is used, which is a popular choice known for its efficiency and adaptability.\n",
        "- loss: The loss function used to compute the difference between the model's predictions and the true labels. 'sparse_categorical_crossentropy' is used since the labels are integers.\n",
        "- metrics: The metrics to monitor during training. Here, 'accuracy' is used to evaluate the performance of the model based on the percentage of correctly classified instances.\n",
        "\n",
        "(Note: Choosing appropriate optimization algorithm, loss function, and metrics is crucial for the success of the training process and the performance of the model.)"
      ],
      "metadata": {
        "id": "CJHbAMtzA7cq"
      }
    },
    {
      "cell_type": "code",
      "source": [
        "cnn.fit(X_train, y_train, epochs=5)"
      ],
      "metadata": {
        "colab": {
          "base_uri": "https://localhost:8080/"
        },
        "id": "yuPmNd7kO5Q3",
        "outputId": "956282d1-b12d-4bc5-a545-b22a63be0820"
      },
      "execution_count": 22,
      "outputs": [
        {
          "output_type": "stream",
          "name": "stdout",
          "text": [
            "Epoch 1/5\n",
            "1563/1563 [==============================] - 58s 37ms/step - loss: 1.4729 - accuracy: 0.4693\n",
            "Epoch 2/5\n",
            "1563/1563 [==============================] - 57s 37ms/step - loss: 1.1188 - accuracy: 0.6070\n",
            "Epoch 3/5\n",
            "1563/1563 [==============================] - 56s 36ms/step - loss: 0.9904 - accuracy: 0.6541\n",
            "Epoch 4/5\n",
            "1563/1563 [==============================] - 58s 37ms/step - loss: 0.9100 - accuracy: 0.6854\n",
            "Epoch 5/5\n",
            "1563/1563 [==============================] - 57s 36ms/step - loss: 0.8470 - accuracy: 0.7056\n"
          ]
        },
        {
          "output_type": "execute_result",
          "data": {
            "text/plain": [
              "<keras.src.callbacks.History at 0x7fdb3a3d6b00>"
            ]
          },
          "metadata": {},
          "execution_count": 22
        }
      ]
    },
    {
      "cell_type": "markdown",
      "source": [
        "## Explanation:\n",
        "This code trains the compiled Convolutional Neural Network (CNN) model on the training dataset.\n",
        "\n",
        "### Training:\n",
        "- The fit method of the CNN model is called to train the model.\n",
        "- Training data (X_train and y_train) are passed to the fit method.\n",
        "- The number of epochs (5 in this case) specifies the number of complete passes through the entire training dataset during the training process.\n",
        "\n",
        "(Note: Training the model involves updating the model's weights iteratively to minimize the loss function, thereby improving its ability to make accurate predictions.)\n",
        "\n",
        "\n",
        "\n"
      ],
      "metadata": {
        "id": "OrxC2S20B1re"
      }
    },
    {
      "cell_type": "code",
      "source": [
        "cnn.fit(X_train, y_train, epochs=10)"
      ],
      "metadata": {
        "colab": {
          "base_uri": "https://localhost:8080/"
        },
        "id": "P4pFYrPd2ePU",
        "outputId": "3217f1ce-324f-44ab-f25d-f94a8d87c63b"
      },
      "execution_count": 23,
      "outputs": [
        {
          "output_type": "stream",
          "name": "stdout",
          "text": [
            "Epoch 1/10\n",
            "1563/1563 [==============================] - 62s 39ms/step - loss: 0.7946 - accuracy: 0.7251\n",
            "Epoch 2/10\n",
            "1563/1563 [==============================] - 61s 39ms/step - loss: 0.7503 - accuracy: 0.7391\n",
            "Epoch 3/10\n",
            "1563/1563 [==============================] - 59s 38ms/step - loss: 0.7142 - accuracy: 0.7527\n",
            "Epoch 4/10\n",
            "1563/1563 [==============================] - 66s 43ms/step - loss: 0.6748 - accuracy: 0.7660\n",
            "Epoch 5/10\n",
            "1563/1563 [==============================] - 58s 37ms/step - loss: 0.6418 - accuracy: 0.7776\n",
            "Epoch 6/10\n",
            "1563/1563 [==============================] - 55s 35ms/step - loss: 0.6164 - accuracy: 0.7852\n",
            "Epoch 7/10\n",
            "1563/1563 [==============================] - 57s 37ms/step - loss: 0.5893 - accuracy: 0.7928\n",
            "Epoch 8/10\n",
            "1563/1563 [==============================] - 55s 35ms/step - loss: 0.5571 - accuracy: 0.8054\n",
            "Epoch 9/10\n",
            "1563/1563 [==============================] - 56s 36ms/step - loss: 0.5319 - accuracy: 0.8131\n",
            "Epoch 10/10\n",
            "1563/1563 [==============================] - 56s 36ms/step - loss: 0.5099 - accuracy: 0.8215\n"
          ]
        },
        {
          "output_type": "execute_result",
          "data": {
            "text/plain": [
              "<keras.src.callbacks.History at 0x7fdb421a3100>"
            ]
          },
          "metadata": {},
          "execution_count": 23
        }
      ]
    },
    {
      "cell_type": "markdown",
      "source": [
        "With CNN, at the end 5 epochs, accuracy was at around 70% which is a significant improvement over ANN. CNN's are best for image classification and gives superb accuracy. Also computation is much less compared to simple ANN as maxpooling reduces the image dimensions while still preserving the features"
      ],
      "metadata": {
        "id": "8luvYZIrPx1F"
      }
    },
    {
      "cell_type": "code",
      "source": [
        "# Evaluate the model\n",
        "cnn.evaluate(X_test, y_test)\n",
        "test_loss, test_accuracy = cnn.evaluate(X_test, y_test)\n",
        "formatted_accuracy = \"{:.2f}%\".format(test_accuracy * 100)\n",
        "print(\"Test Accuracy:\", formatted_accuracy)"
      ],
      "metadata": {
        "colab": {
          "base_uri": "https://localhost:8080/"
        },
        "id": "QAVYn09FP01g",
        "outputId": "b6c281ae-8405-42fa-d4cd-34a7f8b51847"
      },
      "execution_count": 24,
      "outputs": [
        {
          "output_type": "stream",
          "name": "stdout",
          "text": [
            "313/313 [==============================] - 4s 11ms/step - loss: 0.9680 - accuracy: 0.7022\n",
            "313/313 [==============================] - 3s 11ms/step - loss: 0.9680 - accuracy: 0.7022\n",
            "Test Accuracy: 70.22%\n"
          ]
        }
      ]
    },
    {
      "cell_type": "markdown",
      "source": [
        "# Explanation:\n",
        "This code snippet evaluates a trained Convolutional Neural Network (CNN) model on a test dataset and prints the test accuracy.\n",
        "\n",
        "### Evaluation:\n",
        "- The CNN model (cnn) is evaluated on the test dataset (X_test, y_test) using the evaluate method.\n",
        "- However, the evaluation result is not stored or used.\n",
        "\n",
        "### Retrieving Evaluation Results:\n",
        "- The evaluate method is called again, this time storing the evaluation results in variables test_loss and test_accuracy.\n",
        "- test_loss represents the loss value calculated during the evaluation.\n",
        "- test_accuracy represents the accuracy of the model on the test dataset.\n",
        "\n",
        "### Formatting Accuracy:\n",
        "- The test_accuracy is multiplied by 100 to convert it to a percentage format.\n",
        "- The formatted_accuracy variable is created to store the test accuracy in a formatted string with two decimal places.\n",
        "\n",
        "### Printing Test Accuracy:\n",
        "- The formatted test accuracy is printed to the console using the print function.\n",
        "- The output message \"Test Accuracy:\" is displayed along with the formatted_accuracy.\n",
        "\n",
        "(Note: Storing the evaluation results allows for further analysis or use of the metrics obtained during evaluation.)\n",
        "\n"
      ],
      "metadata": {
        "id": "7-vcJHWMGacD"
      }
    },
    {
      "cell_type": "code",
      "source": [
        "y_pred = cnn.predict(X_test)\n",
        "y_pred[:5]"
      ],
      "metadata": {
        "colab": {
          "base_uri": "https://localhost:8080/"
        },
        "id": "UYghH92oP3Am",
        "outputId": "2f247f29-212b-4014-be7c-8a887df1eb03"
      },
      "execution_count": 25,
      "outputs": [
        {
          "output_type": "stream",
          "name": "stdout",
          "text": [
            "313/313 [==============================] - 3s 10ms/step\n"
          ]
        },
        {
          "output_type": "execute_result",
          "data": {
            "text/plain": [
              "array([[9.2880182e-05, 4.9681886e-04, 2.7167716e-04, 7.8412968e-01,\n",
              "        5.9846551e-03, 1.7979312e-01, 1.3838488e-02, 1.4140882e-05,\n",
              "        1.5209287e-02, 1.6924976e-04],\n",
              "       [8.6599808e-05, 7.0243115e-03, 4.4062736e-09, 2.7478320e-08,\n",
              "        1.6008065e-09, 3.7601055e-12, 3.4460536e-12, 6.9479943e-12,\n",
              "        9.9286515e-01, 2.3911212e-05],\n",
              "       [1.0284712e-01, 7.9792306e-02, 1.4548904e-03, 5.8724720e-04,\n",
              "        3.3541583e-03, 2.4120824e-05, 3.3361321e-05, 3.5345607e-04,\n",
              "        7.7900261e-01, 3.2550585e-02],\n",
              "       [9.0164936e-01, 6.9913894e-02, 4.0506907e-03, 1.0996254e-03,\n",
              "        4.0924613e-04, 1.9590673e-04, 2.2280308e-04, 6.4681284e-05,\n",
              "        2.1534067e-02, 8.5979176e-04],\n",
              "       [1.0726584e-07, 2.4306763e-07, 2.4501821e-03, 2.0656396e-02,\n",
              "        9.4423181e-01, 8.4707123e-04, 3.1812984e-02, 4.3000102e-07,\n",
              "        6.1877233e-07, 1.8235010e-08]], dtype=float32)"
            ]
          },
          "metadata": {},
          "execution_count": 25
        }
      ]
    },
    {
      "cell_type": "markdown",
      "source": [
        "#Explanation:\n",
        "This code snippet predicts the class labels for the test dataset using a trained Convolutional Neural Network (CNN) model and prints the predictions for the first five samples.\n",
        "\n",
        "### Prediction:\n",
        "- The cnn.predict method is called to predict the class labels for the test dataset X_test.\n",
        "- The predictions are stored in the y_pred variable.\n",
        "\n",
        "### Accessing Predictions:\n",
        "- The y_pred[:5] expression is used to access the predictions for the first five samples.\n",
        "- This provides a quick glimpse into the model's predictions for a subset of the test dataset."
      ],
      "metadata": {
        "id": "z_RgObV1O7zX"
      }
    },
    {
      "cell_type": "code",
      "source": [
        "y_classes = [np.argmax(element) for element in y_pred]\n",
        "y_classes[:5]"
      ],
      "metadata": {
        "colab": {
          "base_uri": "https://localhost:8080/"
        },
        "id": "vgGcIHC2P2-_",
        "outputId": "ce4b917b-b719-4d13-875b-86cd8dc52673"
      },
      "execution_count": 26,
      "outputs": [
        {
          "output_type": "execute_result",
          "data": {
            "text/plain": [
              "[3, 8, 8, 0, 4]"
            ]
          },
          "metadata": {},
          "execution_count": 26
        }
      ]
    },
    {
      "cell_type": "markdown",
      "source": [
        "# Explanation:\n",
        "This code snippet converts the predicted probabilities generated by a Convolutional Neural Network (CNN) model into class labels and prints the converted labels for the first five samples.\n",
        "\n",
        "### Conversion to Class Labels:\n",
        "- The list comprehension [np.argmax(element) for element in y_pred] is used to convert each predicted probability distribution (element) into a class label.\n",
        "- The np.argmax function returns the index of the maximum value in the probability distribution, effectively selecting the class with the highest probability.\n",
        "- This process is applied to each predicted probability distribution in y_pred, resulting in a list of class labels.\n",
        "\n",
        "Accessing Converted Labels:\n",
        "- The y_classes[:5] expression is used to access the converted class labels for the first five samples.\n",
        "- This provides a quick glimpse into the model's predicted class labels for a subset of the test dataset."
      ],
      "metadata": {
        "id": "9aubHi6OPoc0"
      }
    },
    {
      "cell_type": "code",
      "source": [
        "y_test[:5]"
      ],
      "metadata": {
        "colab": {
          "base_uri": "https://localhost:8080/"
        },
        "id": "5lzVqIPZP7m0",
        "outputId": "f1eb585d-d52c-4f3d-9049-76fe1f5a392d"
      },
      "execution_count": 27,
      "outputs": [
        {
          "output_type": "execute_result",
          "data": {
            "text/plain": [
              "array([[3],\n",
              "       [8],\n",
              "       [8],\n",
              "       [0],\n",
              "       [6]], dtype=uint8)"
            ]
          },
          "metadata": {},
          "execution_count": 27
        }
      ]
    },
    {
      "cell_type": "markdown",
      "source": [
        "# Explanation:\n",
        "This code snippet prints the true class labels for the first five samples in the test dataset.\n",
        "\n",
        "### Accessing True Class Labels:\n",
        "- The expression y_test[:5] is used to access the true class labels for the first five samples in the test dataset.\n",
        "- This provides a quick glimpse into the actual labels of a subset of the test dataset.\n"
      ],
      "metadata": {
        "id": "bEGo_-3JQMTN"
      }
    },
    {
      "cell_type": "code",
      "source": [
        "plot_sample(X_test, y_test.argmax(axis=1), 2)"
      ],
      "metadata": {
        "colab": {
          "base_uri": "https://localhost:8080/",
          "height": 237
        },
        "id": "JZlTQkFqP7Pa",
        "outputId": "af48ff0e-127e-4055-a4f8-7c57ea37b277"
      },
      "execution_count": 28,
      "outputs": [
        {
          "output_type": "display_data",
          "data": {
            "text/plain": [
              "<Figure size 1500x200 with 1 Axes>"
            ],
            "image/png": "[encoded data removed]"
          },
          "metadata": {}
        }
      ]
    },
    {
      "cell_type": "code",
      "source": [
        "classes[y_classes[2]]"
      ],
      "metadata": {
        "colab": {
          "base_uri": "https://localhost:8080/",
          "height": 36
        },
        "id": "dohCSh0gP66m",
        "outputId": "222e523e-feee-412f-ff41-7e2b1a9b4ad3"
      },
      "execution_count": 29,
      "outputs": [
        {
          "output_type": "execute_result",
          "data": {
            "text/plain": [
              "'ship'"
            ],
            "application/vnd.google.colaboratory.intrinsic+json": {
              "type": "string"
            }
          },
          "metadata": {},
          "execution_count": 29
        }
      ]
    },
    {
      "cell_type": "code",
      "source": [
        "plot_sample(X_test, y_test.argmax(axis=1), 3)"
      ],
      "metadata": {
        "colab": {
          "base_uri": "https://localhost:8080/",
          "height": 237
        },
        "id": "hXNWcjVk5S2U",
        "outputId": "2d60b0c7-45c4-4320-ea91-c2d477c09bac"
      },
      "execution_count": 30,
      "outputs": [
        {
          "output_type": "display_data",
          "data": {
            "text/plain": [
              "<Figure size 1500x200 with 1 Axes>"
            ],
            "image/png": "[encoded data removed]"
          },
          "metadata": {}
        }
      ]
    },
    {
      "cell_type": "code",
      "source": [
        "classes[y_classes[3]]"
      ],
      "metadata": {
        "colab": {
          "base_uri": "https://localhost:8080/",
          "height": 36
        },
        "id": "bK9DzI305Xu-",
        "outputId": "bb189e1d-b3da-411e-f911-f7b3c4cdca91"
      },
      "execution_count": null,
      "outputs": [
        {
          "output_type": "execute_result",
          "data": {
            "text/plain": [
              "'airplane'"
            ],
            "application/vnd.google.colaboratory.intrinsic+json": {
              "type": "string"
            }
          },
          "metadata": {},
          "execution_count": 32
        }
      ]
    }
  ]
}