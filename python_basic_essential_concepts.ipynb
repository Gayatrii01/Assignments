{
 "cells": [
  {
   "cell_type": "markdown",
   "id": "56ee8961-32ed-44e9-b523-1737a54e83b1",
   "metadata": {},
   "source": [
    "# PYTHON PROGRAMMING BASICS ASSIGNMENT"
   ]
  },
  {
   "cell_type": "markdown",
   "id": "dcb2cf83-ea7a-4fde-82fb-0deb546e17f9",
   "metadata": {},
   "source": [
    "## 1. Setup and Basic Operations"
   ]
  },
  {
   "cell_type": "markdown",
   "id": "62cfc3c2-0fc3-4716-b9cc-1bc7fce6e616",
   "metadata": {},
   "source": [
    "● Use print() and input() functions. \n",
    "● Assign values to variables and explore different data types."
   ]
  },
  {
   "cell_type": "code",
   "execution_count": 65,
   "id": "b7c8ef36-9031-4a41-86fb-6fa91a37e218",
   "metadata": {},
   "outputs": [
    {
     "name": "stdin",
     "output_type": "stream",
     "text": [
      "Enter your name:  Reet\n",
      "Enter your age:  23\n"
     ]
    },
    {
     "name": "stdout",
     "output_type": "stream",
     "text": [
      "Hello Reet\n",
      "You are 23 years old\n"
     ]
    }
   ],
   "source": [
    "# Assigning values to variables\n",
    "name = input(\"Enter your name: \")\n",
    "age = int(input(\"Enter your age: \"))\n",
    "\n",
    "# Print statements\n",
    "print(\"Hello\", name)\n",
    "print(\"You are\", age, \"years old\")"
   ]
  },
  {
   "cell_type": "markdown",
   "id": "44466f80-3334-421a-86d1-55cf5170e54c",
   "metadata": {},
   "source": [
    "#### Explanation:\n",
    "input() is a function used to take input from the user. It always returns the input as a 'string'.\n",
    "\n",
    "name = input(\"Enter your name: \")\n",
    "\n",
    "This line shows the message \"Enter your name: \" to the user.\n",
    "\n",
    "Whatever the user types in is stored as a string in the variable 'name'.\n",
    "\n",
    "age = int(input(\"Enter your age: \"))\n",
    "\n",
    "This line asks the user to \"Enter your age: \"\n",
    "\n",
    "The input is taken as a string, but we use 'int()' to convert it to an integer, since age is a number."
   ]
  },
  {
   "cell_type": "code",
   "execution_count": 68,
   "id": "f058903f-a0b4-41fc-9c33-c17254b7acd1",
   "metadata": {},
   "outputs": [
    {
     "name": "stdout",
     "output_type": "stream",
     "text": [
      "<class 'int'> <class 'float'> <class 'str'> <class 'bool'>\n"
     ]
    }
   ],
   "source": [
    "# Data types\n",
    "x = 10               # int\n",
    "y = 3.14             # float\n",
    "z = \"Python\"         # str\n",
    "is_active = True     # bool\n",
    "\n",
    "print(type(x), type(y), type(z), type(is_active))"
   ]
  },
  {
   "cell_type": "markdown",
   "id": "70958a3c-4ec5-4440-87cc-99951c4e5f69",
   "metadata": {},
   "source": [
    "#### Explanation:\n",
    "This section defines four variables, each with a different data type:\n",
    "\n",
    "1. x = 10\n",
    "  \n",
    "   This assigns the value 10 to the variable x.  10 is an integer (int) — whole number without decimals.\n",
    "\n",
    "2. y = 3.14\n",
    "\n",
    "   This assigns the value 3.14 to y.  3.14 is a floating-point number (float) — a number with decimals.\n",
    "\n",
    "3. z = \"Python\"\n",
    "\n",
    "   This assigns the string \"Python\" to the variable z.  \"Python\" is a string (str) — a sequence of characters enclosed in quotes.\n",
    "\n",
    "4. is_active = True\n",
    "\n",
    "   This assigns the Boolean value 'True to is_active'.  Boolean (bool) values are either 'True or False'.\n",
    "\n",
    "#### Explanation:\n",
    "\n",
    "print(type(x), type(y), type(z), type(is_active))\n",
    "\n",
    "  The type() function returns the data type of the variable passed to it.\n",
    "\n",
    "  This line will print:  <class 'int'> <class 'float'> <class 'str'> <class 'bool'>\n"
   ]
  },
  {
   "cell_type": "markdown",
   "id": "7429e721-6130-4d65-8d3e-50a15bb23bc0",
   "metadata": {},
   "source": [
    "## 2. List Operations\n",
    "\n",
    "● Create a list and perform basic operations like append(), remove(), pop(), and slicing. \n",
    "\n",
    "● Iterate over a list using loops. "
   ]
  },
  {
   "cell_type": "code",
   "execution_count": 72,
   "id": "ced5b8b5-745f-4afc-82a9-e850ef1ae7ae",
   "metadata": {},
   "outputs": [
    {
     "name": "stdout",
     "output_type": "stream",
     "text": [
      "apple\n",
      "['cherry']\n"
     ]
    }
   ],
   "source": [
    "# Creating a list\n",
    "fruits = [\"apple\", \"banana\", \"cherry\"]\n",
    "fruits.append(\"orange\")\n",
    "fruits.remove(\"banana\")\n",
    "popped = fruits.pop()\n",
    "\n",
    "# Slicing and indexing\n",
    "print(fruits[0])     # First element\n",
    "print(fruits[1:])    # From second to "
   ]
  },
  {
   "cell_type": "markdown",
   "id": "13e5a107-8a53-4cbf-a86f-0469c1eb5869",
   "metadata": {},
   "source": [
    "#### Explaination\n",
    "\n",
    "##### fruits = [\"apple\", \"banana\", \"cherry\"]   :\n",
    "\n",
    "This creates a list named fruits with three items: \"apple\", \"banana\", and \"cherry\".  Lists are ordered and mutable (We can change them).\n",
    "\n",
    "#####  fruits.append(\"orange\")  :\n",
    "\n",
    ".append() adds an element to the end of the list.  Now, fruits = [\"apple\", \"banana\", \"cherry\", \"orange\"].\n",
    "\n",
    "##### fruits.remove(\"banana\")   :\n",
    "\n",
    ".remove(\"banana\") deletes the first occurrence of \"banana\" from the list.  Now, fruits = [\"apple\", \"cherry\", \"orange\"].\n",
    "\n",
    "##### popped = fruits.pop() :\n",
    "\n",
    ".pop() removes and returns the last item from the list (\"orange\" in this case).  popped will be \"orange\", and fruits becomes: [\"apple\", \"cherry\"].\n",
    "\n",
    "##### print(fruits[0])     # First element  :\n",
    "\n",
    "fruits[0] accesses the first element (indexing starts at 0).  Output: \"apple\"\n",
    "\n",
    "##### print(fruits[1:])    # From second to end   :\n",
    "\n",
    "fruits[1:] is slicing: it gives a sublist from index 1 to the end.  Current list is [\"apple\", \"cherry\"], so fruits[1:] gives [\"cherry\"]."
   ]
  },
  {
   "cell_type": "code",
   "execution_count": 75,
   "id": "ff8b526e-7ba7-4821-a02c-e6082b6ed4ce",
   "metadata": {},
   "outputs": [
    {
     "name": "stdout",
     "output_type": "stream",
     "text": [
      "apple\n",
      "cherry\n"
     ]
    }
   ],
   "source": [
    "# Iterating over list\n",
    "for fruit in fruits:\n",
    "    print(fruit)"
   ]
  },
  {
   "cell_type": "markdown",
   "id": "131ac131-8e2e-41f3-86be-e05b08c230bb",
   "metadata": {},
   "source": [
    "#### Explanation\n",
    "\n",
    "This for loop goes through each item in the 'fruits' list.\n",
    "\n",
    "The variable 'fruit' takes one value at a time from the list.\n",
    "\n",
    "Each item is printed one by one."
   ]
  },
  {
   "cell_type": "markdown",
   "id": "9387f606-e658-423f-abfb-a80ef989a97e",
   "metadata": {},
   "source": [
    "## 3. Tuple Operations\n",
    "\n",
    "● Create and access tuple elements. \n",
    "● Understand the immutability of tuples. \n",
    "● Use tuple unpacking. "
   ]
  },
  {
   "cell_type": "code",
   "execution_count": 79,
   "id": "dc425a33-40d2-4d8a-b8bc-d2b4df7891f9",
   "metadata": {},
   "outputs": [
    {
     "name": "stdout",
     "output_type": "stream",
     "text": [
      "green\n"
     ]
    }
   ],
   "source": [
    "# Creating a tuple\n",
    "colors = (\"red\", \"green\", \"blue\")\n",
    "print(colors[1])  # Access element"
   ]
  },
  {
   "cell_type": "markdown",
   "id": "7dd8fdfa-fdf9-48df-bb2e-fb20dc7f64d7",
   "metadata": {},
   "source": [
    "#### Explanation\n",
    "\n",
    "A 'tuple' is like a 'list', but it’s 'immutable' (we can’t change its elements).\n",
    "\n",
    "colors is a 'tuple with 3' elements.\n",
    "\n",
    "colors[1] accesses the element at index 1, which is \"green\"."
   ]
  },
  {
   "cell_type": "code",
   "execution_count": 82,
   "id": "50ff8596-3773-4558-a10e-60c08970000e",
   "metadata": {},
   "outputs": [
    {
     "name": "stdout",
     "output_type": "stream",
     "text": [
      "red green blue\n"
     ]
    }
   ],
   "source": [
    "# Tuple unpacking\n",
    "r, g, b = colors\n",
    "print(r, g, b)"
   ]
  },
  {
   "cell_type": "markdown",
   "id": "2cd7929e-b88c-4837-b68b-3c72df4aabd0",
   "metadata": {},
   "source": [
    "#### Explanation:\n",
    "\n",
    "Tuple unpacking means assigning each value from the tuple to its own variable.\n",
    "\n",
    "The colors tuple contains (\"red\", \"green\", \"blue\").\n",
    "\n",
    "r gets \"red\", g gets \"green\", and b gets \"blue\".\n",
    "\n",
    "This is useful when a tuple has multiple items and we want to assign each to a separate variable."
   ]
  },
  {
   "cell_type": "code",
   "execution_count": 85,
   "id": "2a5140ee-a3eb-4061-a769-f1323e956b25",
   "metadata": {},
   "outputs": [],
   "source": [
    "# Immutability\n",
    "# colors[0] = \"yellow\"  # This will raise an error"
   ]
  },
  {
   "cell_type": "markdown",
   "id": "a7dd2713-85b9-4ec5-9fb1-2c0e809feb15",
   "metadata": {},
   "source": [
    "#### Explanation:\n",
    "Tuples are immutable, meaning you cannot change their elements after creation.\n",
    "\n",
    "Trying to do colors[0] = \"yellow\" will cause a TypeError."
   ]
  },
  {
   "cell_type": "markdown",
   "id": "700e0aed-c61b-444f-bbe8-8a693e03eadb",
   "metadata": {},
   "source": [
    "## 4. Dictionary Operations\n",
    "\n",
    "● Create a dictionary with key-value pairs. \n",
    "● Perform operations like adding, updating, and deleting key-value pairs. \n",
    "● Iterate through a dictionary using loops. "
   ]
  },
  {
   "cell_type": "code",
   "execution_count": 89,
   "id": "456f8070-beab-4ec0-a37f-976cf94d15cb",
   "metadata": {},
   "outputs": [
    {
     "name": "stdout",
     "output_type": "stream",
     "text": [
      "name : Alice\n",
      "marks : 90\n"
     ]
    }
   ],
   "source": [
    "# Creating and modifying a dictionary\n",
    "student = {\"name\": \"Alice\", \"marks\": 85}\n",
    "student[\"grade\"] = \"A\"\n",
    "student[\"marks\"] = 90\n",
    "del student[\"grade\"]\n",
    "\n",
    "# Iterating over dictionary\n",
    "for key, value in student.items():\n",
    "    print(key, \":\", value)"
   ]
  },
  {
   "cell_type": "markdown",
   "id": "f6125065-3009-4916-8d8b-f99f7264f605",
   "metadata": {},
   "source": [
    "#### Explanation :\n",
    "\n",
    "##### student = {\"name\": \"Alice\", \"marks\": 85}\n",
    "\n",
    "A dictionary is a collection of key-value pairs.\n",
    "\n",
    "Here, student is a dictionary with two key-value pairs:\n",
    "\n",
    "\"name\": \"Alice\"  and   \"marks\": 85\n",
    "\n",
    "##### student[\"grade\"] = \"A\"\n",
    "\n",
    "This line adds a new key-value pair \"grade\": \"A\" to the dictionary.\n",
    "\n",
    "Now, student becomes:   {\"name\": \"Alice\", \"marks\": 85, \"grade\": \"A\"}\n",
    "\n",
    "##### student[\"marks\"] = 90\n",
    "\n",
    "This updates the value associated with the key \"marks\" from 85 to 90.\n",
    "\n",
    "After this update, student becomes:  {\"name\": \"Alice\", \"marks\": 90, \"grade\": \"A\"}\n",
    "\n",
    "##### del student[\"grade\"]\n",
    "\n",
    "This removes the key \"grade\" and its associated value from the dictionary.\n",
    "\n",
    "Now, student becomes:  {\"name\": \"Alice\", \"marks\": 90}\n",
    "\n",
    "##### for key, value in student.items():\n",
    "#####    print(key, \":\", value)\n",
    "\n",
    ".items() returns a list of tuples, where each tuple contains a key and its corresponding value.\n",
    "\n",
    "In this case, it's return:   [(\"name\", \"Alice\"), (\"marks\", 90)]\n",
    "\n",
    "The for loop iterates over each key-value pair and prints them one by one:\n",
    "\n",
    "First, key = \"name\" and value = \"Alice\"  print:   'name : Alice'\n",
    "\n",
    "Then, key = \"marks\" and value = 90  print:  'marks : 90'"
   ]
  },
  {
   "cell_type": "markdown",
   "id": "9059775d-9fc8-4dfb-8916-930381581882",
   "metadata": {},
   "source": [
    "## 5. Set Operations\n",
    "\n",
    "● Create a set and perform operations like union, intersection, and difference. \n",
    "● Understand the uniqueness property of sets."
   ]
  },
  {
   "cell_type": "code",
   "execution_count": 93,
   "id": "19edde62-81de-4092-85a0-e744403209fd",
   "metadata": {},
   "outputs": [
    {
     "name": "stdout",
     "output_type": "stream",
     "text": [
      "{1, 2, 3, 4}\n",
      "{1, 2, 3, 4, 5}\n",
      "{3}\n",
      "{1, 2}\n"
     ]
    }
   ],
   "source": [
    "# Creating a set\n",
    "nums = {1, 2, 3, 4, 4, 2}\n",
    "print(nums)  # Duplicates removed\n",
    "\n",
    "# Operations\n",
    "a = {1, 2, 3}\n",
    "b = {3, 4, 5}\n",
    "print(a.union(b))\n",
    "print(a.intersection(b))\n",
    "print(a.difference(b))"
   ]
  },
  {
   "cell_type": "markdown",
   "id": "0b5e0828-83b0-45be-a422-11cdbccbc8ee",
   "metadata": {},
   "source": [
    "#### Explaination\n",
    "##### nums = {1, 2, 3, 4, 4, 2}\n",
    "##### print(nums)\n",
    "\n",
    "Sets store unique, unordered elements.\n",
    "\n",
    "Duplicates like 4 and 2 are automatically removed.\n",
    "\n",
    "Output: {1, 2, 3, 4}\n",
    "\n",
    "##### a = {1, 2, 3}\n",
    "##### b = {3, 4, 5}\n",
    "\n",
    "a.union(b) → Combines all unique elements → {1, 2, 3, 4, 5}\n",
    "\n",
    "a.intersection(b) → Common elements → {3}\n",
    "\n",
    "a.difference(b) → Elements in a but not in b → {1, 2}"
   ]
  },
  {
   "cell_type": "markdown",
   "id": "aa1bd665-1a9b-4160-bb08-4d6b91d5e985",
   "metadata": {},
   "source": [
    "## 6. Conditional Statements\n",
    "\n",
    "● Implement if-else conditions for decision-making. \n",
    "● Use nested if-else conditions for complex logic."
   ]
  },
  {
   "cell_type": "code",
   "execution_count": 99,
   "id": "e0762c43-8bf6-43da-8a96-c0695863aa7c",
   "metadata": {},
   "outputs": [
    {
     "name": "stdin",
     "output_type": "stream",
     "text": [
      "Enter a number:  4\n"
     ]
    },
    {
     "name": "stdout",
     "output_type": "stream",
     "text": [
      "Positive number\n"
     ]
    }
   ],
   "source": [
    "num = int(input(\"Enter a number: \"))\n",
    "\n",
    "if num > 0:\n",
    "    print(\"Positive number\")\n",
    "elif num == 0:\n",
    "    print(\"Zero\")\n",
    "else:\n",
    "    print(\"Negative number\")"
   ]
  },
  {
   "cell_type": "markdown",
   "id": "af3dce55-c8c3-48cf-a52b-1bf54ddc20fb",
   "metadata": {},
   "source": [
    "#### Explanation:\n",
    "Takes a number as input from the user.\n",
    "\n",
    "Checks if it's positive, zero, or negative using if-elif-else.\n",
    "\n",
    "Prints the result based on the condition."
   ]
  },
  {
   "cell_type": "markdown",
   "id": "e51e7df5-cf93-4898-8705-5b8c9c21c1fb",
   "metadata": {},
   "source": [
    "## 7. Looping Constructs\n",
    "\n",
    "● Use for loops to iterate over lists, tuples, and dictionaries. \n",
    "● Use while loops for repeating tasks. \n",
    "● Implement break and continue statements to control loops. "
   ]
  },
  {
   "cell_type": "code",
   "execution_count": 105,
   "id": "ff3a5670-a2ad-47c5-9fa8-d2e98e71fe51",
   "metadata": {},
   "outputs": [
    {
     "name": "stdout",
     "output_type": "stream",
     "text": [
      "0\n",
      "1\n",
      "2\n",
      "4\n",
      "0\n",
      "1\n",
      "2\n"
     ]
    }
   ],
   "source": [
    "# For loop\n",
    "for i in range(5):\n",
    "    if i == 3:\n",
    "        continue\n",
    "    print(i)\n",
    "\n",
    "# While loop\n",
    "count = 0\n",
    "while count < 5:\n",
    "    if count == 3:\n",
    "        break\n",
    "    print(count)\n",
    "    count += 1"
   ]
  },
  {
   "cell_type": "markdown",
   "id": "cde396f5-cdca-4b27-bf08-f810da3be3b0",
   "metadata": {},
   "source": [
    "#### explanation:\n",
    "##### for i in range(5):\n",
    "#####     if i == 3:\n",
    "#####         continue\n",
    "#####     print(i)\n",
    "\n",
    "Loops from 0 to 4.  Skips 3 because of continue.\n",
    "\n",
    "Output: 0 1 2 4\n",
    "\n",
    "\n",
    "##### count = 0\n",
    "##### while count < 5:\n",
    "#####    if count == 3:\n",
    "#####        break\n",
    "#####    print(count)\n",
    "#####    count += 1\n",
    "\n",
    "Loops while count < 5.  Stops at 3 because of break.\n",
    "\n",
    "Output: 0 1 2"
   ]
  },
  {
   "cell_type": "markdown",
   "id": "ff6e3c4d-9e7c-4b62-bc1e-cceb8a567138",
   "metadata": {},
   "source": [
    "## 8. Problem-Solving Tasks\n",
    "\n",
    "● Write a Python program to find the largest number in a list. \n",
    "● Write a Python program to count the frequency of elements in a list. \n",
    "● Create a dictionary that stores student names as keys and marks as values, then find \n",
    "the student with the highest marks. \n",
    "● Implement a while loop to print the Fibonacci series up to a given number. \n",
    "● Use a set to remove duplicate elements from a list."
   ]
  },
  {
   "cell_type": "code",
   "execution_count": 109,
   "id": "94bb0ba8-5683-42ad-ba94-bdc647421d0b",
   "metadata": {},
   "outputs": [
    {
     "name": "stdout",
     "output_type": "stream",
     "text": [
      "Largest number: 30\n"
     ]
    }
   ],
   "source": [
    "# Find the largest number in a list\n",
    "numbers = [10, 20, 5, 30]\n",
    "largest = numbers[0]\n",
    "\n",
    "for num in numbers:\n",
    "    if num > largest:\n",
    "        largest = num\n",
    "print(\"Largest number:\", largest)"
   ]
  },
  {
   "cell_type": "markdown",
   "id": "b6c165ea-3af0-47f2-aa7a-f377874c7eeb",
   "metadata": {},
   "source": [
    "#### Explanation:\n",
    "\n",
    "Start by assuming the first number is the largest. Loop through the list and update largest if a bigger number is found.\n",
    "\n",
    "Output: 'Largest number: 30'\n"
   ]
  },
  {
   "cell_type": "code",
   "execution_count": 112,
   "id": "1af3c8a7-6e58-45c9-bf4c-f21b2556bac5",
   "metadata": {},
   "outputs": [
    {
     "name": "stdout",
     "output_type": "stream",
     "text": [
      "{1: 2, 2: 3, 3: 1, 4: 1}\n"
     ]
    }
   ],
   "source": [
    "# Count frequency of elements in a list   \n",
    "elements = [1, 2, 2, 3, 1, 4, 2]\n",
    "freq = {}\n",
    "\n",
    "for item in elements:\n",
    "    if item in freq:\n",
    "        freq[item] += 1\n",
    "    else:\n",
    "        freq[item] = 1\n",
    "print(freq)"
   ]
  },
  {
   "cell_type": "markdown",
   "id": "75746252-b666-4694-b479-e988aa8643b8",
   "metadata": {},
   "source": [
    "#### Explanation:\n",
    "\n",
    "Creates an empty dictionary freq.  Loops through the list and counts how many times each number appears.\n",
    "\n",
    "Output:  '{1: 2, 2: 3, 3: 1, 4: 1}'"
   ]
  },
  {
   "cell_type": "code",
   "execution_count": 115,
   "id": "fddb903f-e2ab-4429-94c4-678c08846b58",
   "metadata": {},
   "outputs": [
    {
     "name": "stdout",
     "output_type": "stream",
     "text": [
      "Topper: Charlie with marks: 96\n"
     ]
    }
   ],
   "source": [
    "#Dictionary: Student marks and highest scorer\n",
    "students = {\n",
    "    \"Alice\": 85,\n",
    "    \"Bob\": 92,\n",
    "    \"Charlie\": 96\n",
    "}\n",
    "top_student = max(students, key=students.get)\n",
    "print(\"Topper:\", top_student, \"with marks:\", students[top_student])"
   ]
  },
  {
   "cell_type": "markdown",
   "id": "817f1d63-53db-4547-bbf3-55b0de93f2f0",
   "metadata": {},
   "source": [
    "#### Explanation:\n",
    "\n",
    "Dictionary stores names as keys and marks as values.  max(..., key=students.get) finds the key (student) with the highest value (marks).\n",
    "\n",
    "Output: 'Topper: Charlie with marks: 96'"
   ]
  },
  {
   "cell_type": "code",
   "execution_count": 118,
   "id": "016bd96d-dbda-4eb3-9888-80468889d464",
   "metadata": {},
   "outputs": [
    {
     "name": "stdin",
     "output_type": "stream",
     "text": [
      "Enter a limit:  5\n"
     ]
    },
    {
     "name": "stdout",
     "output_type": "stream",
     "text": [
      "0 1 1 2 3 5 "
     ]
    }
   ],
   "source": [
    "# Fibonacci Series up to a given number\n",
    "limit = int(input(\"Enter a limit: \"))\n",
    "a, b = 0, 1\n",
    "while a <= limit:\n",
    "    print(a, end=\" \")\n",
    "    a, b = b, a + b"
   ]
  },
  {
   "cell_type": "markdown",
   "id": "fc65c01a-3d03-4043-879c-9f7977d6f2f4",
   "metadata": {},
   "source": [
    "#### Explanation:\n",
    "\n",
    "Starts with 0 and 1, then keeps adding the last two numbers to get the next. Prints Fibonacci numbers until the value exceeds the given limit.\n",
    "\n",
    "Example:  If limit = 10, output: '0 1 1 2 3 5 8'"
   ]
  },
  {
   "cell_type": "code",
   "execution_count": 121,
   "id": "6c573afa-1370-4649-acb7-83b15c9c47ae",
   "metadata": {},
   "outputs": [
    {
     "name": "stdout",
     "output_type": "stream",
     "text": [
      "[1, 2, 3, 4, 5]\n"
     ]
    }
   ],
   "source": [
    "# Remove duplicates from a list using a set\n",
    "items = [1, 2, 2, 3, 4, 4, 5]\n",
    "unique_items = list(set(items))\n",
    "print(unique_items)"
   ]
  },
  {
   "cell_type": "markdown",
   "id": "b691fd34-c9b8-44ef-8fbc-d9ffd3f5f6d8",
   "metadata": {},
   "source": [
    "#### Explanation:\n",
    "\n",
    "set(items) removes duplicate values because sets only store unique elements.  list(...) converts the set back to a list.\n",
    "\n",
    "Output Example: '[1, 2, 3, 4, 5]'"
   ]
  },
  {
   "cell_type": "code",
   "execution_count": null,
   "id": "c6624b88-1ba4-4fd1-9edb-3d16dd6400cf",
   "metadata": {},
   "outputs": [],
   "source": []
  }
 ],
 "metadata": {
  "kernelspec": {
   "display_name": "myenv",
   "language": "python",
   "name": "myenv"
  },
  "language_info": {
   "codemirror_mode": {
    "name": "ipython",
    "version": 3
   },
   "file_extension": ".py",
   "mimetype": "text/x-python",
   "name": "python",
   "nbconvert_exporter": "python",
   "pygments_lexer": "ipython3",
   "version": "3.11.4"
  }
 },
 "nbformat": 4,
 "nbformat_minor": 5
}
