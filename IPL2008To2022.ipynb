{
 "cells": [
  {
   "cell_type": "markdown",
   "id": "eb1695fe-5963-4b80-85d7-5731fa3e9d47",
   "metadata": {},
   "source": [
    "## IPL 2008 to 2022 All Match Dataset"
   ]
  },
  {
   "cell_type": "markdown",
   "id": "7abbc417-c9c3-4366-af53-db584f75c7d8",
   "metadata": {},
   "source": [
    "#### About this Dataset : IPL is among the most famous cricket league with players coming from worldwide. What makes this series more competitive every year is the drama with every ball and hence this dataset is a complete dataset showing match information and also data for each delivery."
   ]
  },
  {
   "cell_type": "markdown",
   "id": "e5c8ab57-5eac-4d69-aca1-760ad5a11929",
   "metadata": {},
   "source": [
    "##### 1.The file IPL_Matches_2008_2021.csv contains all details of the match: Venue of the match, Toss Decision, Match Winer, Man of the Match, Squads, etc.\n",
    "##### 2.The file IPL_Ball_by_Ball_2008_2021.csv contains ball by ball data of each and every match: Batsman on strike, Bowler, Extras, Runs, Wicket Ball, etc."
   ]
  },
  {
   "cell_type": "markdown",
   "id": "f9be4e02-94e6-4cef-b442-b2f811817fa2",
   "metadata": {},
   "source": [
    "##### Interesting Questions for Dataset:\n",
    "##### 1.What is the percentage of wins of each team?\n",
    "##### 2.Which venue results in a win for Batting first team and vice versa?\n",
    "##### 3.Who is the most consistent batsman and bowler in each team and also in the entire league?\n",
    "##### 4.Who wins the most player of the matches in the tournament?\n",
    "##### 5.Predict the winning team with the consistency of wins and ball deliveries?\n",
    "##### 6.Who is the most valuable player of every season?"
   ]
  },
  {
   "cell_type": "markdown",
   "id": "03ffa91a-9cb6-4137-bfe7-3e01fc1e1193",
   "metadata": {},
   "source": [
    "#### Import libraries"
   ]
  },
  {
   "cell_type": "code",
   "execution_count": 1,
   "id": "a155c882-e417-4574-9a43-92855d328071",
   "metadata": {
    "tags": []
   },
   "outputs": [],
   "source": [
    "import pandas as pd                    #manipulation and analysis library\n",
    "import numpy as np                     #operate mathematical functions\n",
    "import matplotlib.pyplot as plt        #create static, animated, and interactive visualizations.\n",
    "import seaborn as sns                  #data visualization library"
   ]
  },
  {
   "cell_type": "markdown",
   "id": "b170240d-0fdb-4178-b412-09527b6cb86c",
   "metadata": {},
   "source": [
    "#### Upload Datasets"
   ]
  },
  {
   "cell_type": "code",
   "execution_count": 2,
   "id": "e6e418e3-f2ce-4979-aba2-3d3d68fb32ac",
   "metadata": {
    "tags": []
   },
   "outputs": [],
   "source": [
    "df_ball=pd.read_csv('IPL_Ball_by_Ball_2008_2022.csv')"
   ]
  },
  {
   "cell_type": "code",
   "execution_count": 3,
   "id": "e68c6242-b64c-42ed-b091-497c077aa811",
   "metadata": {
    "tags": []
   },
   "outputs": [
    {
     "data": {
      "text/html": [
       "<div>\n",
       "<style scoped>\n",
       "    .dataframe tbody tr th:only-of-type {\n",
       "        vertical-align: middle;\n",
       "    }\n",
       "\n",
       "    .dataframe tbody tr th {\n",
       "        vertical-align: top;\n",
       "    }\n",
       "\n",
       "    .dataframe thead th {\n",
       "        text-align: right;\n",
       "    }\n",
       "</style>\n",
       "<table border=\"1\" class=\"dataframe\">\n",
       "  <thead>\n",
       "    <tr style=\"text-align: right;\">\n",
       "      <th></th>\n",
       "      <th>ID</th>\n",
       "      <th>innings</th>\n",
       "      <th>overs</th>\n",
       "      <th>ballnumber</th>\n",
       "      <th>batter</th>\n",
       "      <th>bowler</th>\n",
       "      <th>non-striker</th>\n",
       "      <th>extra_type</th>\n",
       "      <th>batsman_run</th>\n",
       "      <th>extras_run</th>\n",
       "      <th>total_run</th>\n",
       "      <th>non_boundary</th>\n",
       "      <th>isWicketDelivery</th>\n",
       "      <th>player_out</th>\n",
       "      <th>kind</th>\n",
       "      <th>fielders_involved</th>\n",
       "      <th>BattingTeam</th>\n",
       "    </tr>\n",
       "  </thead>\n",
       "  <tbody>\n",
       "    <tr>\n",
       "      <th>0</th>\n",
       "      <td>1312200</td>\n",
       "      <td>1</td>\n",
       "      <td>0</td>\n",
       "      <td>1</td>\n",
       "      <td>YBK Jaiswal</td>\n",
       "      <td>Mohammed Shami</td>\n",
       "      <td>JC Buttler</td>\n",
       "      <td>NaN</td>\n",
       "      <td>0</td>\n",
       "      <td>0</td>\n",
       "      <td>0</td>\n",
       "      <td>0</td>\n",
       "      <td>0</td>\n",
       "      <td>NaN</td>\n",
       "      <td>NaN</td>\n",
       "      <td>NaN</td>\n",
       "      <td>Rajasthan Royals</td>\n",
       "    </tr>\n",
       "    <tr>\n",
       "      <th>1</th>\n",
       "      <td>1312200</td>\n",
       "      <td>1</td>\n",
       "      <td>0</td>\n",
       "      <td>2</td>\n",
       "      <td>YBK Jaiswal</td>\n",
       "      <td>Mohammed Shami</td>\n",
       "      <td>JC Buttler</td>\n",
       "      <td>legbyes</td>\n",
       "      <td>0</td>\n",
       "      <td>1</td>\n",
       "      <td>1</td>\n",
       "      <td>0</td>\n",
       "      <td>0</td>\n",
       "      <td>NaN</td>\n",
       "      <td>NaN</td>\n",
       "      <td>NaN</td>\n",
       "      <td>Rajasthan Royals</td>\n",
       "    </tr>\n",
       "    <tr>\n",
       "      <th>2</th>\n",
       "      <td>1312200</td>\n",
       "      <td>1</td>\n",
       "      <td>0</td>\n",
       "      <td>3</td>\n",
       "      <td>JC Buttler</td>\n",
       "      <td>Mohammed Shami</td>\n",
       "      <td>YBK Jaiswal</td>\n",
       "      <td>NaN</td>\n",
       "      <td>1</td>\n",
       "      <td>0</td>\n",
       "      <td>1</td>\n",
       "      <td>0</td>\n",
       "      <td>0</td>\n",
       "      <td>NaN</td>\n",
       "      <td>NaN</td>\n",
       "      <td>NaN</td>\n",
       "      <td>Rajasthan Royals</td>\n",
       "    </tr>\n",
       "    <tr>\n",
       "      <th>3</th>\n",
       "      <td>1312200</td>\n",
       "      <td>1</td>\n",
       "      <td>0</td>\n",
       "      <td>4</td>\n",
       "      <td>YBK Jaiswal</td>\n",
       "      <td>Mohammed Shami</td>\n",
       "      <td>JC Buttler</td>\n",
       "      <td>NaN</td>\n",
       "      <td>0</td>\n",
       "      <td>0</td>\n",
       "      <td>0</td>\n",
       "      <td>0</td>\n",
       "      <td>0</td>\n",
       "      <td>NaN</td>\n",
       "      <td>NaN</td>\n",
       "      <td>NaN</td>\n",
       "      <td>Rajasthan Royals</td>\n",
       "    </tr>\n",
       "    <tr>\n",
       "      <th>4</th>\n",
       "      <td>1312200</td>\n",
       "      <td>1</td>\n",
       "      <td>0</td>\n",
       "      <td>5</td>\n",
       "      <td>YBK Jaiswal</td>\n",
       "      <td>Mohammed Shami</td>\n",
       "      <td>JC Buttler</td>\n",
       "      <td>NaN</td>\n",
       "      <td>0</td>\n",
       "      <td>0</td>\n",
       "      <td>0</td>\n",
       "      <td>0</td>\n",
       "      <td>0</td>\n",
       "      <td>NaN</td>\n",
       "      <td>NaN</td>\n",
       "      <td>NaN</td>\n",
       "      <td>Rajasthan Royals</td>\n",
       "    </tr>\n",
       "  </tbody>\n",
       "</table>\n",
       "</div>"
      ],
      "text/plain": [
       "        ID  innings  overs  ballnumber       batter          bowler  \\\n",
       "0  1312200        1      0           1  YBK Jaiswal  Mohammed Shami   \n",
       "1  1312200        1      0           2  YBK Jaiswal  Mohammed Shami   \n",
       "2  1312200        1      0           3   JC Buttler  Mohammed Shami   \n",
       "3  1312200        1      0           4  YBK Jaiswal  Mohammed Shami   \n",
       "4  1312200        1      0           5  YBK Jaiswal  Mohammed Shami   \n",
       "\n",
       "   non-striker extra_type  batsman_run  extras_run  total_run  non_boundary  \\\n",
       "0   JC Buttler        NaN            0           0          0             0   \n",
       "1   JC Buttler    legbyes            0           1          1             0   \n",
       "2  YBK Jaiswal        NaN            1           0          1             0   \n",
       "3   JC Buttler        NaN            0           0          0             0   \n",
       "4   JC Buttler        NaN            0           0          0             0   \n",
       "\n",
       "   isWicketDelivery player_out kind fielders_involved       BattingTeam  \n",
       "0                 0        NaN  NaN               NaN  Rajasthan Royals  \n",
       "1                 0        NaN  NaN               NaN  Rajasthan Royals  \n",
       "2                 0        NaN  NaN               NaN  Rajasthan Royals  \n",
       "3                 0        NaN  NaN               NaN  Rajasthan Royals  \n",
       "4                 0        NaN  NaN               NaN  Rajasthan Royals  "
      ]
     },
     "execution_count": 3,
     "metadata": {},
     "output_type": "execute_result"
    }
   ],
   "source": [
    "df_ball.head()"
   ]
  },
  {
   "cell_type": "code",
   "execution_count": 4,
   "id": "ef04ed6a-d7c3-40cf-b2d0-f4e8401e5dd5",
   "metadata": {
    "tags": []
   },
   "outputs": [
    {
     "data": {
      "text/html": [
       "<div>\n",
       "<style scoped>\n",
       "    .dataframe tbody tr th:only-of-type {\n",
       "        vertical-align: middle;\n",
       "    }\n",
       "\n",
       "    .dataframe tbody tr th {\n",
       "        vertical-align: top;\n",
       "    }\n",
       "\n",
       "    .dataframe thead th {\n",
       "        text-align: right;\n",
       "    }\n",
       "</style>\n",
       "<table border=\"1\" class=\"dataframe\">\n",
       "  <thead>\n",
       "    <tr style=\"text-align: right;\">\n",
       "      <th></th>\n",
       "      <th>ID</th>\n",
       "      <th>innings</th>\n",
       "      <th>overs</th>\n",
       "      <th>ballnumber</th>\n",
       "      <th>batter</th>\n",
       "      <th>bowler</th>\n",
       "      <th>non-striker</th>\n",
       "      <th>extra_type</th>\n",
       "      <th>batsman_run</th>\n",
       "      <th>extras_run</th>\n",
       "      <th>total_run</th>\n",
       "      <th>non_boundary</th>\n",
       "      <th>isWicketDelivery</th>\n",
       "      <th>player_out</th>\n",
       "      <th>kind</th>\n",
       "      <th>fielders_involved</th>\n",
       "      <th>BattingTeam</th>\n",
       "    </tr>\n",
       "  </thead>\n",
       "  <tbody>\n",
       "    <tr>\n",
       "      <th>225949</th>\n",
       "      <td>335982</td>\n",
       "      <td>2</td>\n",
       "      <td>14</td>\n",
       "      <td>5</td>\n",
       "      <td>P Kumar</td>\n",
       "      <td>I Sharma</td>\n",
       "      <td>SB Joshi</td>\n",
       "      <td>legbyes</td>\n",
       "      <td>0</td>\n",
       "      <td>1</td>\n",
       "      <td>1</td>\n",
       "      <td>0</td>\n",
       "      <td>0</td>\n",
       "      <td>NaN</td>\n",
       "      <td>NaN</td>\n",
       "      <td>NaN</td>\n",
       "      <td>Royal Challengers Bangalore</td>\n",
       "    </tr>\n",
       "    <tr>\n",
       "      <th>225950</th>\n",
       "      <td>335982</td>\n",
       "      <td>2</td>\n",
       "      <td>14</td>\n",
       "      <td>6</td>\n",
       "      <td>SB Joshi</td>\n",
       "      <td>I Sharma</td>\n",
       "      <td>P Kumar</td>\n",
       "      <td>NaN</td>\n",
       "      <td>1</td>\n",
       "      <td>0</td>\n",
       "      <td>1</td>\n",
       "      <td>0</td>\n",
       "      <td>0</td>\n",
       "      <td>NaN</td>\n",
       "      <td>NaN</td>\n",
       "      <td>NaN</td>\n",
       "      <td>Royal Challengers Bangalore</td>\n",
       "    </tr>\n",
       "    <tr>\n",
       "      <th>225951</th>\n",
       "      <td>335982</td>\n",
       "      <td>2</td>\n",
       "      <td>14</td>\n",
       "      <td>7</td>\n",
       "      <td>P Kumar</td>\n",
       "      <td>I Sharma</td>\n",
       "      <td>SB Joshi</td>\n",
       "      <td>NaN</td>\n",
       "      <td>0</td>\n",
       "      <td>0</td>\n",
       "      <td>0</td>\n",
       "      <td>0</td>\n",
       "      <td>0</td>\n",
       "      <td>NaN</td>\n",
       "      <td>NaN</td>\n",
       "      <td>NaN</td>\n",
       "      <td>Royal Challengers Bangalore</td>\n",
       "    </tr>\n",
       "    <tr>\n",
       "      <th>225952</th>\n",
       "      <td>335982</td>\n",
       "      <td>2</td>\n",
       "      <td>15</td>\n",
       "      <td>1</td>\n",
       "      <td>SB Joshi</td>\n",
       "      <td>LR Shukla</td>\n",
       "      <td>P Kumar</td>\n",
       "      <td>wides</td>\n",
       "      <td>0</td>\n",
       "      <td>1</td>\n",
       "      <td>1</td>\n",
       "      <td>0</td>\n",
       "      <td>0</td>\n",
       "      <td>NaN</td>\n",
       "      <td>NaN</td>\n",
       "      <td>NaN</td>\n",
       "      <td>Royal Challengers Bangalore</td>\n",
       "    </tr>\n",
       "    <tr>\n",
       "      <th>225953</th>\n",
       "      <td>335982</td>\n",
       "      <td>2</td>\n",
       "      <td>15</td>\n",
       "      <td>2</td>\n",
       "      <td>SB Joshi</td>\n",
       "      <td>LR Shukla</td>\n",
       "      <td>P Kumar</td>\n",
       "      <td>NaN</td>\n",
       "      <td>0</td>\n",
       "      <td>0</td>\n",
       "      <td>0</td>\n",
       "      <td>0</td>\n",
       "      <td>1</td>\n",
       "      <td>SB Joshi</td>\n",
       "      <td>caught</td>\n",
       "      <td>BB McCullum</td>\n",
       "      <td>Royal Challengers Bangalore</td>\n",
       "    </tr>\n",
       "  </tbody>\n",
       "</table>\n",
       "</div>"
      ],
      "text/plain": [
       "            ID  innings  overs  ballnumber    batter     bowler non-striker  \\\n",
       "225949  335982        2     14           5   P Kumar   I Sharma    SB Joshi   \n",
       "225950  335982        2     14           6  SB Joshi   I Sharma     P Kumar   \n",
       "225951  335982        2     14           7   P Kumar   I Sharma    SB Joshi   \n",
       "225952  335982        2     15           1  SB Joshi  LR Shukla     P Kumar   \n",
       "225953  335982        2     15           2  SB Joshi  LR Shukla     P Kumar   \n",
       "\n",
       "       extra_type  batsman_run  extras_run  total_run  non_boundary  \\\n",
       "225949    legbyes            0           1          1             0   \n",
       "225950        NaN            1           0          1             0   \n",
       "225951        NaN            0           0          0             0   \n",
       "225952      wides            0           1          1             0   \n",
       "225953        NaN            0           0          0             0   \n",
       "\n",
       "        isWicketDelivery player_out    kind fielders_involved  \\\n",
       "225949                 0        NaN     NaN               NaN   \n",
       "225950                 0        NaN     NaN               NaN   \n",
       "225951                 0        NaN     NaN               NaN   \n",
       "225952                 0        NaN     NaN               NaN   \n",
       "225953                 1   SB Joshi  caught       BB McCullum   \n",
       "\n",
       "                        BattingTeam  \n",
       "225949  Royal Challengers Bangalore  \n",
       "225950  Royal Challengers Bangalore  \n",
       "225951  Royal Challengers Bangalore  \n",
       "225952  Royal Challengers Bangalore  \n",
       "225953  Royal Challengers Bangalore  "
      ]
     },
     "execution_count": 4,
     "metadata": {},
     "output_type": "execute_result"
    }
   ],
   "source": [
    "df_ball.tail()"
   ]
  },
  {
   "cell_type": "markdown",
   "id": "05241beb-d182-4188-bbd8-4c1de861114d",
   "metadata": {},
   "source": [
    "#### Basic statistics of dataset"
   ]
  },
  {
   "cell_type": "code",
   "execution_count": 5,
   "id": "043e27e3-e0f4-42ac-a089-c0bd3f5d76b1",
   "metadata": {
    "tags": []
   },
   "outputs": [
    {
     "name": "stdout",
     "output_type": "stream",
     "text": [
      "<class 'pandas.core.frame.DataFrame'>\n",
      "RangeIndex: 225954 entries, 0 to 225953\n",
      "Data columns (total 17 columns):\n",
      " #   Column             Non-Null Count   Dtype \n",
      "---  ------             --------------   ----- \n",
      " 0   ID                 225954 non-null  int64 \n",
      " 1   innings            225954 non-null  int64 \n",
      " 2   overs              225954 non-null  int64 \n",
      " 3   ballnumber         225954 non-null  int64 \n",
      " 4   batter             225954 non-null  object\n",
      " 5   bowler             225954 non-null  object\n",
      " 6   non-striker        225954 non-null  object\n",
      " 7   extra_type         12049 non-null   object\n",
      " 8   batsman_run        225954 non-null  int64 \n",
      " 9   extras_run         225954 non-null  int64 \n",
      " 10  total_run          225954 non-null  int64 \n",
      " 11  non_boundary       225954 non-null  int64 \n",
      " 12  isWicketDelivery   225954 non-null  int64 \n",
      " 13  player_out         11151 non-null   object\n",
      " 14  kind               11151 non-null   object\n",
      " 15  fielders_involved  7988 non-null    object\n",
      " 16  BattingTeam        225954 non-null  object\n",
      "dtypes: int64(9), object(8)\n",
      "memory usage: 29.3+ MB\n"
     ]
    }
   ],
   "source": [
    "df_ball.info()"
   ]
  },
  {
   "cell_type": "code",
   "execution_count": 6,
   "id": "d024de6d-cb9e-4e2f-b079-009d5f568b48",
   "metadata": {
    "tags": []
   },
   "outputs": [
    {
     "data": {
      "text/plain": [
       "Index(['ID', 'innings', 'overs', 'ballnumber', 'batter', 'bowler',\n",
       "       'non-striker', 'extra_type', 'batsman_run', 'extras_run', 'total_run',\n",
       "       'non_boundary', 'isWicketDelivery', 'player_out', 'kind',\n",
       "       'fielders_involved', 'BattingTeam'],\n",
       "      dtype='object')"
      ]
     },
     "execution_count": 6,
     "metadata": {},
     "output_type": "execute_result"
    }
   ],
   "source": [
    "df_ball.columns"
   ]
  },
  {
   "cell_type": "code",
   "execution_count": 7,
   "id": "66cff1db-53d8-4152-b014-55115f00f434",
   "metadata": {
    "tags": []
   },
   "outputs": [
    {
     "data": {
      "text/plain": [
       "[RangeIndex(start=0, stop=225954, step=1),\n",
       " Index(['ID', 'innings', 'overs', 'ballnumber', 'batter', 'bowler',\n",
       "        'non-striker', 'extra_type', 'batsman_run', 'extras_run', 'total_run',\n",
       "        'non_boundary', 'isWicketDelivery', 'player_out', 'kind',\n",
       "        'fielders_involved', 'BattingTeam'],\n",
       "       dtype='object')]"
      ]
     },
     "execution_count": 7,
     "metadata": {},
     "output_type": "execute_result"
    }
   ],
   "source": [
    "df_ball.axes"
   ]
  },
  {
   "cell_type": "code",
   "execution_count": 8,
   "id": "4e68a681-32ba-401e-8ba0-bfdc84ef9a80",
   "metadata": {
    "tags": []
   },
   "outputs": [
    {
     "data": {
      "text/plain": [
       "2"
      ]
     },
     "execution_count": 8,
     "metadata": {},
     "output_type": "execute_result"
    }
   ],
   "source": [
    "df_ball.ndim"
   ]
  },
  {
   "cell_type": "code",
   "execution_count": 9,
   "id": "fe209a6e-d763-4742-bdbb-d30ccd7313c9",
   "metadata": {
    "tags": []
   },
   "outputs": [
    {
     "data": {
      "text/plain": [
       "3841218"
      ]
     },
     "execution_count": 9,
     "metadata": {},
     "output_type": "execute_result"
    }
   ],
   "source": [
    "df_ball.size"
   ]
  },
  {
   "cell_type": "code",
   "execution_count": 10,
   "id": "0838d34b-7780-481e-a8fa-228f6a825030",
   "metadata": {
    "tags": []
   },
   "outputs": [
    {
     "data": {
      "text/plain": [
       "(225954, 17)"
      ]
     },
     "execution_count": 10,
     "metadata": {},
     "output_type": "execute_result"
    }
   ],
   "source": [
    "df_ball.shape"
   ]
  },
  {
   "cell_type": "code",
   "execution_count": 11,
   "id": "5f0f4e63-69e7-43cc-bb70-a2f79b828ccc",
   "metadata": {
    "tags": []
   },
   "outputs": [
    {
     "data": {
      "text/plain": [
       "(0, 17)"
      ]
     },
     "execution_count": 11,
     "metadata": {},
     "output_type": "execute_result"
    }
   ],
   "source": [
    "df_ball[df_ball.duplicated()].shape  #used to find and count duplicate rows in the df_ball dataframe."
   ]
  },
  {
   "cell_type": "code",
   "execution_count": 12,
   "id": "e44e0d13-264a-498c-8561-dbab21e6e7fd",
   "metadata": {
    "tags": []
   },
   "outputs": [
    {
     "data": {
      "text/plain": [
       "array([[1312200, 1, 0, ..., nan, nan, 'Rajasthan Royals'],\n",
       "       [1312200, 1, 0, ..., nan, nan, 'Rajasthan Royals'],\n",
       "       [1312200, 1, 0, ..., nan, nan, 'Rajasthan Royals'],\n",
       "       ...,\n",
       "       [335982, 2, 14, ..., nan, nan, 'Royal Challengers Bangalore'],\n",
       "       [335982, 2, 15, ..., nan, nan, 'Royal Challengers Bangalore'],\n",
       "       [335982, 2, 15, ..., 'caught', 'BB McCullum',\n",
       "        'Royal Challengers Bangalore']], dtype=object)"
      ]
     },
     "execution_count": 12,
     "metadata": {},
     "output_type": "execute_result"
    }
   ],
   "source": [
    "df_ball.values"
   ]
  },
  {
   "cell_type": "code",
   "execution_count": 13,
   "id": "21dab671-9e0c-4dc1-b614-bf6b3e601d88",
   "metadata": {
    "tags": []
   },
   "outputs": [
    {
     "name": "stdout",
     "output_type": "stream",
     "text": [
      "ID                        0\n",
      "innings                   0\n",
      "overs                     0\n",
      "ballnumber                0\n",
      "batter                    0\n",
      "bowler                    0\n",
      "non-striker               0\n",
      "extra_type           213905\n",
      "batsman_run               0\n",
      "extras_run                0\n",
      "total_run                 0\n",
      "non_boundary              0\n",
      "isWicketDelivery          0\n",
      "player_out           214803\n",
      "kind                 214803\n",
      "fielders_involved    217966\n",
      "BattingTeam               0\n",
      "dtype: int64\n"
     ]
    }
   ],
   "source": [
    "#Check for Missing Values\n",
    "missing_values = df_ball.isnull().sum()\n",
    "print(missing_values)"
   ]
  },
  {
   "cell_type": "code",
   "execution_count": 14,
   "id": "01960fba-741a-44c0-aa46-3330042bc1c0",
   "metadata": {
    "tags": []
   },
   "outputs": [],
   "source": [
    "#fill missing value for categorical columns\n",
    "df_ball['extra_type'] = df_ball['extra_type'].fillna(df_ball['extra_type'].mode().iloc[0])\n",
    "df_ball['player_out'] = df_ball['player_out'].fillna(df_ball['player_out'].mode().iloc[0])\n",
    "df_ball['kind'] = df_ball['kind'].fillna(df_ball['kind'].mode().iloc[0])\n",
    "df_ball['fielders_involved'] = df_ball['fielders_involved'].fillna(df_ball['fielders_involved'].mode().iloc[0])"
   ]
  },
  {
   "cell_type": "code",
   "execution_count": 15,
   "id": "a38f4a94-1ded-44a7-8c4b-c629a99e5f93",
   "metadata": {
    "tags": []
   },
   "outputs": [
    {
     "data": {
      "text/plain": [
       "array([[1312200, 1, 0, ..., 'caught', 'MS Dhoni', 'Rajasthan Royals'],\n",
       "       [1312200, 1, 0, ..., 'caught', 'MS Dhoni', 'Rajasthan Royals'],\n",
       "       [1312200, 1, 0, ..., 'caught', 'MS Dhoni', 'Rajasthan Royals'],\n",
       "       ...,\n",
       "       [335982, 2, 14, ..., 'caught', 'MS Dhoni',\n",
       "        'Royal Challengers Bangalore'],\n",
       "       [335982, 2, 15, ..., 'caught', 'MS Dhoni',\n",
       "        'Royal Challengers Bangalore'],\n",
       "       [335982, 2, 15, ..., 'caught', 'BB McCullum',\n",
       "        'Royal Challengers Bangalore']], dtype=object)"
      ]
     },
     "execution_count": 15,
     "metadata": {},
     "output_type": "execute_result"
    }
   ],
   "source": [
    "df_ball.values"
   ]
  },
  {
   "cell_type": "code",
   "execution_count": 16,
   "id": "9b8bee0b-907f-4a92-bfcc-f2787492b127",
   "metadata": {
    "tags": []
   },
   "outputs": [
    {
     "name": "stdout",
     "output_type": "stream",
     "text": [
      "extra_type           0\n",
      "player_out           0\n",
      "kind                 0\n",
      "fielders_involved    0\n",
      "dtype: int64\n"
     ]
    }
   ],
   "source": [
    "#Verify Missing Values\n",
    "missing_values = df_ball[['extra_type','player_out','kind','fielders_involved']].isnull().sum()\n",
    "print(missing_values)"
   ]
  },
  {
   "cell_type": "code",
   "execution_count": 17,
   "id": "a108ecf1-d801-4a02-b577-d5fe324b5b86",
   "metadata": {
    "tags": []
   },
   "outputs": [
    {
     "data": {
      "text/plain": [
       "array([[1312200, 1, 0, ..., 'caught', 'MS Dhoni', 'Rajasthan Royals'],\n",
       "       [1312200, 1, 0, ..., 'caught', 'MS Dhoni', 'Rajasthan Royals'],\n",
       "       [1312200, 1, 0, ..., 'caught', 'MS Dhoni', 'Rajasthan Royals'],\n",
       "       ...,\n",
       "       [335982, 2, 14, ..., 'caught', 'MS Dhoni',\n",
       "        'Royal Challengers Bangalore'],\n",
       "       [335982, 2, 15, ..., 'caught', 'MS Dhoni',\n",
       "        'Royal Challengers Bangalore'],\n",
       "       [335982, 2, 15, ..., 'caught', 'BB McCullum',\n",
       "        'Royal Challengers Bangalore']], dtype=object)"
      ]
     },
     "execution_count": 17,
     "metadata": {},
     "output_type": "execute_result"
    }
   ],
   "source": [
    "df_ball.values"
   ]
  },
  {
   "cell_type": "code",
   "execution_count": 18,
   "id": "bca8df5d-cfb6-4338-a685-c9eb9172371e",
   "metadata": {
    "tags": []
   },
   "outputs": [
    {
     "data": {
      "text/html": [
       "<div>\n",
       "<style scoped>\n",
       "    .dataframe tbody tr th:only-of-type {\n",
       "        vertical-align: middle;\n",
       "    }\n",
       "\n",
       "    .dataframe tbody tr th {\n",
       "        vertical-align: top;\n",
       "    }\n",
       "\n",
       "    .dataframe thead th {\n",
       "        text-align: right;\n",
       "    }\n",
       "</style>\n",
       "<table border=\"1\" class=\"dataframe\">\n",
       "  <thead>\n",
       "    <tr style=\"text-align: right;\">\n",
       "      <th></th>\n",
       "      <th>ID</th>\n",
       "      <th>innings</th>\n",
       "      <th>overs</th>\n",
       "      <th>ballnumber</th>\n",
       "      <th>batsman_run</th>\n",
       "      <th>extras_run</th>\n",
       "      <th>total_run</th>\n",
       "      <th>non_boundary</th>\n",
       "      <th>isWicketDelivery</th>\n",
       "    </tr>\n",
       "  </thead>\n",
       "  <tbody>\n",
       "    <tr>\n",
       "      <th>count</th>\n",
       "      <td>2.259540e+05</td>\n",
       "      <td>225954.000000</td>\n",
       "      <td>225954.000000</td>\n",
       "      <td>225954.000000</td>\n",
       "      <td>225954.000000</td>\n",
       "      <td>225954.000000</td>\n",
       "      <td>225954.00000</td>\n",
       "      <td>225954.000000</td>\n",
       "      <td>225954.000000</td>\n",
       "    </tr>\n",
       "    <tr>\n",
       "      <th>mean</th>\n",
       "      <td>8.320470e+05</td>\n",
       "      <td>1.483868</td>\n",
       "      <td>9.185679</td>\n",
       "      <td>3.619750</td>\n",
       "      <td>1.243523</td>\n",
       "      <td>0.066907</td>\n",
       "      <td>1.31043</td>\n",
       "      <td>0.000093</td>\n",
       "      <td>0.049351</td>\n",
       "    </tr>\n",
       "    <tr>\n",
       "      <th>std</th>\n",
       "      <td>3.379542e+05</td>\n",
       "      <td>0.503104</td>\n",
       "      <td>5.681797</td>\n",
       "      <td>1.810633</td>\n",
       "      <td>1.618166</td>\n",
       "      <td>0.341470</td>\n",
       "      <td>1.60605</td>\n",
       "      <td>0.009640</td>\n",
       "      <td>0.216600</td>\n",
       "    </tr>\n",
       "    <tr>\n",
       "      <th>min</th>\n",
       "      <td>3.359820e+05</td>\n",
       "      <td>1.000000</td>\n",
       "      <td>0.000000</td>\n",
       "      <td>1.000000</td>\n",
       "      <td>0.000000</td>\n",
       "      <td>0.000000</td>\n",
       "      <td>0.00000</td>\n",
       "      <td>0.000000</td>\n",
       "      <td>0.000000</td>\n",
       "    </tr>\n",
       "    <tr>\n",
       "      <th>25%</th>\n",
       "      <td>5.012620e+05</td>\n",
       "      <td>1.000000</td>\n",
       "      <td>4.000000</td>\n",
       "      <td>2.000000</td>\n",
       "      <td>0.000000</td>\n",
       "      <td>0.000000</td>\n",
       "      <td>0.00000</td>\n",
       "      <td>0.000000</td>\n",
       "      <td>0.000000</td>\n",
       "    </tr>\n",
       "    <tr>\n",
       "      <th>50%</th>\n",
       "      <td>8.297370e+05</td>\n",
       "      <td>1.000000</td>\n",
       "      <td>9.000000</td>\n",
       "      <td>4.000000</td>\n",
       "      <td>1.000000</td>\n",
       "      <td>0.000000</td>\n",
       "      <td>1.00000</td>\n",
       "      <td>0.000000</td>\n",
       "      <td>0.000000</td>\n",
       "    </tr>\n",
       "    <tr>\n",
       "      <th>75%</th>\n",
       "      <td>1.178395e+06</td>\n",
       "      <td>2.000000</td>\n",
       "      <td>14.000000</td>\n",
       "      <td>5.000000</td>\n",
       "      <td>1.000000</td>\n",
       "      <td>0.000000</td>\n",
       "      <td>1.00000</td>\n",
       "      <td>0.000000</td>\n",
       "      <td>0.000000</td>\n",
       "    </tr>\n",
       "    <tr>\n",
       "      <th>max</th>\n",
       "      <td>1.312200e+06</td>\n",
       "      <td>6.000000</td>\n",
       "      <td>19.000000</td>\n",
       "      <td>10.000000</td>\n",
       "      <td>6.000000</td>\n",
       "      <td>7.000000</td>\n",
       "      <td>7.00000</td>\n",
       "      <td>1.000000</td>\n",
       "      <td>1.000000</td>\n",
       "    </tr>\n",
       "  </tbody>\n",
       "</table>\n",
       "</div>"
      ],
      "text/plain": [
       "                 ID        innings          overs     ballnumber  \\\n",
       "count  2.259540e+05  225954.000000  225954.000000  225954.000000   \n",
       "mean   8.320470e+05       1.483868       9.185679       3.619750   \n",
       "std    3.379542e+05       0.503104       5.681797       1.810633   \n",
       "min    3.359820e+05       1.000000       0.000000       1.000000   \n",
       "25%    5.012620e+05       1.000000       4.000000       2.000000   \n",
       "50%    8.297370e+05       1.000000       9.000000       4.000000   \n",
       "75%    1.178395e+06       2.000000      14.000000       5.000000   \n",
       "max    1.312200e+06       6.000000      19.000000      10.000000   \n",
       "\n",
       "         batsman_run     extras_run     total_run   non_boundary  \\\n",
       "count  225954.000000  225954.000000  225954.00000  225954.000000   \n",
       "mean        1.243523       0.066907       1.31043       0.000093   \n",
       "std         1.618166       0.341470       1.60605       0.009640   \n",
       "min         0.000000       0.000000       0.00000       0.000000   \n",
       "25%         0.000000       0.000000       0.00000       0.000000   \n",
       "50%         1.000000       0.000000       1.00000       0.000000   \n",
       "75%         1.000000       0.000000       1.00000       0.000000   \n",
       "max         6.000000       7.000000       7.00000       1.000000   \n",
       "\n",
       "       isWicketDelivery  \n",
       "count     225954.000000  \n",
       "mean           0.049351  \n",
       "std            0.216600  \n",
       "min            0.000000  \n",
       "25%            0.000000  \n",
       "50%            0.000000  \n",
       "75%            0.000000  \n",
       "max            1.000000  "
      ]
     },
     "execution_count": 18,
     "metadata": {},
     "output_type": "execute_result"
    }
   ],
   "source": [
    "df_ball.describe()"
   ]
  },
  {
   "cell_type": "code",
   "execution_count": 19,
   "id": "836138bf-faa9-4404-9cc6-f4785b73626e",
   "metadata": {
    "tags": []
   },
   "outputs": [
    {
     "data": {
      "text/html": [
       "<div>\n",
       "<style scoped>\n",
       "    .dataframe tbody tr th:only-of-type {\n",
       "        vertical-align: middle;\n",
       "    }\n",
       "\n",
       "    .dataframe tbody tr th {\n",
       "        vertical-align: top;\n",
       "    }\n",
       "\n",
       "    .dataframe thead th {\n",
       "        text-align: right;\n",
       "    }\n",
       "</style>\n",
       "<table border=\"1\" class=\"dataframe\">\n",
       "  <thead>\n",
       "    <tr style=\"text-align: right;\">\n",
       "      <th></th>\n",
       "      <th>ID</th>\n",
       "      <th>innings</th>\n",
       "      <th>overs</th>\n",
       "      <th>ballnumber</th>\n",
       "      <th>batter</th>\n",
       "      <th>bowler</th>\n",
       "      <th>non-striker</th>\n",
       "      <th>extra_type</th>\n",
       "      <th>batsman_run</th>\n",
       "      <th>extras_run</th>\n",
       "      <th>total_run</th>\n",
       "      <th>non_boundary</th>\n",
       "      <th>isWicketDelivery</th>\n",
       "      <th>player_out</th>\n",
       "      <th>kind</th>\n",
       "      <th>fielders_involved</th>\n",
       "      <th>BattingTeam</th>\n",
       "    </tr>\n",
       "  </thead>\n",
       "  <tbody>\n",
       "    <tr>\n",
       "      <th>116396</th>\n",
       "      <td>829709</td>\n",
       "      <td>1</td>\n",
       "      <td>5</td>\n",
       "      <td>1</td>\n",
       "      <td>SPD Smith</td>\n",
       "      <td>AR Patel</td>\n",
       "      <td>KK Nair</td>\n",
       "      <td>wides</td>\n",
       "      <td>4</td>\n",
       "      <td>0</td>\n",
       "      <td>4</td>\n",
       "      <td>0</td>\n",
       "      <td>0</td>\n",
       "      <td>RG Sharma</td>\n",
       "      <td>caught</td>\n",
       "      <td>MS Dhoni</td>\n",
       "      <td>Rajasthan Royals</td>\n",
       "    </tr>\n",
       "  </tbody>\n",
       "</table>\n",
       "</div>"
      ],
      "text/plain": [
       "            ID  innings  overs  ballnumber     batter    bowler non-striker  \\\n",
       "116396  829709        1      5           1  SPD Smith  AR Patel     KK Nair   \n",
       "\n",
       "       extra_type  batsman_run  extras_run  total_run  non_boundary  \\\n",
       "116396      wides            4           0          4             0   \n",
       "\n",
       "        isWicketDelivery player_out    kind fielders_involved  \\\n",
       "116396                 0  RG Sharma  caught          MS Dhoni   \n",
       "\n",
       "             BattingTeam  \n",
       "116396  Rajasthan Royals  "
      ]
     },
     "execution_count": 19,
     "metadata": {},
     "output_type": "execute_result"
    }
   ],
   "source": [
    "df_ball.sample()"
   ]
  },
  {
   "cell_type": "code",
   "execution_count": 20,
   "id": "80ea5c2f-d834-40d3-a63a-c1c60c5462b1",
   "metadata": {
    "tags": []
   },
   "outputs": [
    {
     "name": "stderr",
     "output_type": "stream",
     "text": [
      "C:\\Users\\Lenovo\\AppData\\Local\\Temp\\ipykernel_270436\\1943882932.py:1: FutureWarning: The default value of numeric_only in DataFrame.std is deprecated. In a future version, it will default to False. In addition, specifying 'numeric_only=None' is deprecated. Select only valid columns or specify the value of numeric_only to silence this warning.\n",
      "  df_ball.std()   #1\n"
     ]
    },
    {
     "data": {
      "text/plain": [
       "ID                  337954.245970\n",
       "innings                  0.503104\n",
       "overs                    5.681797\n",
       "ballnumber               1.810633\n",
       "batsman_run              1.618166\n",
       "extras_run               0.341470\n",
       "total_run                1.606050\n",
       "non_boundary             0.009640\n",
       "isWicketDelivery         0.216600\n",
       "dtype: float64"
      ]
     },
     "execution_count": 20,
     "metadata": {},
     "output_type": "execute_result"
    }
   ],
   "source": [
    "df_ball.std()   #1"
   ]
  },
  {
   "cell_type": "code",
   "execution_count": 21,
   "id": "112e479c-21f9-4cae-9b6f-0651314febf6",
   "metadata": {
    "tags": []
   },
   "outputs": [
    {
     "name": "stdout",
     "output_type": "stream",
     "text": [
      "ID                  337954.245970\n",
      "innings                  0.503104\n",
      "overs                    5.681797\n",
      "ballnumber               1.810633\n",
      "batsman_run              1.618166\n",
      "extras_run               0.341470\n",
      "total_run                1.606050\n",
      "non_boundary             0.009640\n",
      "isWicketDelivery         0.216600\n",
      "dtype: float64\n"
     ]
    },
    {
     "name": "stderr",
     "output_type": "stream",
     "text": [
      "C:\\Users\\Lenovo\\AppData\\Local\\Temp\\ipykernel_270436\\1427261579.py:1: FutureWarning: The default value of numeric_only in DataFrame.std is deprecated. In a future version, it will default to False. In addition, specifying 'numeric_only=None' is deprecated. Select only valid columns or specify the value of numeric_only to silence this warning.\n",
      "  std_deviation = df_ball.std() #2\n"
     ]
    }
   ],
   "source": [
    "std_deviation = df_ball.std() #2\n",
    "print(std_deviation)"
   ]
  },
  {
   "cell_type": "code",
   "execution_count": 22,
   "id": "794aa066-84bd-492f-9dc3-3b84c00940bf",
   "metadata": {
    "tags": []
   },
   "outputs": [
    {
     "data": {
      "text/html": [
       "<div>\n",
       "<style scoped>\n",
       "    .dataframe tbody tr th:only-of-type {\n",
       "        vertical-align: middle;\n",
       "    }\n",
       "\n",
       "    .dataframe tbody tr th {\n",
       "        vertical-align: top;\n",
       "    }\n",
       "\n",
       "    .dataframe thead th {\n",
       "        text-align: right;\n",
       "    }\n",
       "</style>\n",
       "<table border=\"1\" class=\"dataframe\">\n",
       "  <thead>\n",
       "    <tr style=\"text-align: right;\">\n",
       "      <th></th>\n",
       "      <th>ID</th>\n",
       "      <th>innings</th>\n",
       "      <th>overs</th>\n",
       "      <th>ballnumber</th>\n",
       "      <th>batter</th>\n",
       "      <th>bowler</th>\n",
       "      <th>non-striker</th>\n",
       "      <th>extra_type</th>\n",
       "      <th>batsman_run</th>\n",
       "      <th>extras_run</th>\n",
       "      <th>total_run</th>\n",
       "      <th>non_boundary</th>\n",
       "      <th>isWicketDelivery</th>\n",
       "      <th>player_out</th>\n",
       "      <th>kind</th>\n",
       "      <th>fielders_involved</th>\n",
       "      <th>BattingTeam</th>\n",
       "    </tr>\n",
       "  </thead>\n",
       "  <tbody>\n",
       "    <tr>\n",
       "      <th>0</th>\n",
       "      <td>1312200</td>\n",
       "      <td>1</td>\n",
       "      <td>0</td>\n",
       "      <td>1</td>\n",
       "      <td>YBK Jaiswal</td>\n",
       "      <td>Mohammed Shami</td>\n",
       "      <td>JC Buttler</td>\n",
       "      <td>wides</td>\n",
       "      <td>0</td>\n",
       "      <td>0</td>\n",
       "      <td>0</td>\n",
       "      <td>0</td>\n",
       "      <td>0</td>\n",
       "      <td>RG Sharma</td>\n",
       "      <td>caught</td>\n",
       "      <td>MS Dhoni</td>\n",
       "      <td>Rajasthan Royals</td>\n",
       "    </tr>\n",
       "    <tr>\n",
       "      <th>1</th>\n",
       "      <td>1312200</td>\n",
       "      <td>1</td>\n",
       "      <td>0</td>\n",
       "      <td>2</td>\n",
       "      <td>YBK Jaiswal</td>\n",
       "      <td>Mohammed Shami</td>\n",
       "      <td>JC Buttler</td>\n",
       "      <td>legbyes</td>\n",
       "      <td>0</td>\n",
       "      <td>1</td>\n",
       "      <td>1</td>\n",
       "      <td>0</td>\n",
       "      <td>0</td>\n",
       "      <td>RG Sharma</td>\n",
       "      <td>caught</td>\n",
       "      <td>MS Dhoni</td>\n",
       "      <td>Rajasthan Royals</td>\n",
       "    </tr>\n",
       "    <tr>\n",
       "      <th>2</th>\n",
       "      <td>1312200</td>\n",
       "      <td>1</td>\n",
       "      <td>0</td>\n",
       "      <td>3</td>\n",
       "      <td>JC Buttler</td>\n",
       "      <td>Mohammed Shami</td>\n",
       "      <td>YBK Jaiswal</td>\n",
       "      <td>wides</td>\n",
       "      <td>1</td>\n",
       "      <td>0</td>\n",
       "      <td>1</td>\n",
       "      <td>0</td>\n",
       "      <td>0</td>\n",
       "      <td>RG Sharma</td>\n",
       "      <td>caught</td>\n",
       "      <td>MS Dhoni</td>\n",
       "      <td>Rajasthan Royals</td>\n",
       "    </tr>\n",
       "    <tr>\n",
       "      <th>3</th>\n",
       "      <td>1312200</td>\n",
       "      <td>1</td>\n",
       "      <td>0</td>\n",
       "      <td>4</td>\n",
       "      <td>YBK Jaiswal</td>\n",
       "      <td>Mohammed Shami</td>\n",
       "      <td>JC Buttler</td>\n",
       "      <td>wides</td>\n",
       "      <td>0</td>\n",
       "      <td>0</td>\n",
       "      <td>0</td>\n",
       "      <td>0</td>\n",
       "      <td>0</td>\n",
       "      <td>RG Sharma</td>\n",
       "      <td>caught</td>\n",
       "      <td>MS Dhoni</td>\n",
       "      <td>Rajasthan Royals</td>\n",
       "    </tr>\n",
       "    <tr>\n",
       "      <th>4</th>\n",
       "      <td>1312200</td>\n",
       "      <td>1</td>\n",
       "      <td>0</td>\n",
       "      <td>5</td>\n",
       "      <td>YBK Jaiswal</td>\n",
       "      <td>Mohammed Shami</td>\n",
       "      <td>JC Buttler</td>\n",
       "      <td>wides</td>\n",
       "      <td>0</td>\n",
       "      <td>0</td>\n",
       "      <td>0</td>\n",
       "      <td>0</td>\n",
       "      <td>0</td>\n",
       "      <td>RG Sharma</td>\n",
       "      <td>caught</td>\n",
       "      <td>MS Dhoni</td>\n",
       "      <td>Rajasthan Royals</td>\n",
       "    </tr>\n",
       "  </tbody>\n",
       "</table>\n",
       "</div>"
      ],
      "text/plain": [
       "        ID  innings  overs  ballnumber       batter          bowler  \\\n",
       "0  1312200        1      0           1  YBK Jaiswal  Mohammed Shami   \n",
       "1  1312200        1      0           2  YBK Jaiswal  Mohammed Shami   \n",
       "2  1312200        1      0           3   JC Buttler  Mohammed Shami   \n",
       "3  1312200        1      0           4  YBK Jaiswal  Mohammed Shami   \n",
       "4  1312200        1      0           5  YBK Jaiswal  Mohammed Shami   \n",
       "\n",
       "   non-striker extra_type  batsman_run  extras_run  total_run  non_boundary  \\\n",
       "0   JC Buttler      wides            0           0          0             0   \n",
       "1   JC Buttler    legbyes            0           1          1             0   \n",
       "2  YBK Jaiswal      wides            1           0          1             0   \n",
       "3   JC Buttler      wides            0           0          0             0   \n",
       "4   JC Buttler      wides            0           0          0             0   \n",
       "\n",
       "   isWicketDelivery player_out    kind fielders_involved       BattingTeam  \n",
       "0                 0  RG Sharma  caught          MS Dhoni  Rajasthan Royals  \n",
       "1                 0  RG Sharma  caught          MS Dhoni  Rajasthan Royals  \n",
       "2                 0  RG Sharma  caught          MS Dhoni  Rajasthan Royals  \n",
       "3                 0  RG Sharma  caught          MS Dhoni  Rajasthan Royals  \n",
       "4                 0  RG Sharma  caught          MS Dhoni  Rajasthan Royals  "
      ]
     },
     "execution_count": 22,
     "metadata": {},
     "output_type": "execute_result"
    }
   ],
   "source": [
    "df_ball.head()"
   ]
  },
  {
   "cell_type": "code",
   "execution_count": 23,
   "id": "9c9b68e4-ae70-4670-aa35-889c99bf6b48",
   "metadata": {
    "tags": []
   },
   "outputs": [
    {
     "data": {
      "text/plain": [
       "count    225954.00000\n",
       "mean          1.31043\n",
       "std           1.60605\n",
       "min           0.00000\n",
       "25%           0.00000\n",
       "50%           1.00000\n",
       "75%           1.00000\n",
       "max           7.00000\n",
       "Name: total_run, dtype: float64"
      ]
     },
     "execution_count": 23,
     "metadata": {},
     "output_type": "execute_result"
    }
   ],
   "source": [
    "df_ball['total_run'].describe()"
   ]
  },
  {
   "cell_type": "code",
   "execution_count": 24,
   "id": "2e3d98de-a3c9-4ce7-8145-e951d7e025f0",
   "metadata": {
    "tags": []
   },
   "outputs": [
    {
     "data": {
      "text/plain": [
       "count    225954.000000\n",
       "mean          1.243523\n",
       "std           1.618166\n",
       "min           0.000000\n",
       "25%           0.000000\n",
       "50%           1.000000\n",
       "75%           1.000000\n",
       "max           6.000000\n",
       "Name: batsman_run, dtype: float64"
      ]
     },
     "execution_count": 24,
     "metadata": {},
     "output_type": "execute_result"
    }
   ],
   "source": [
    "df_ball['batsman_run'].describe()"
   ]
  },
  {
   "cell_type": "markdown",
   "id": "1ca8b2de-8408-497f-a2ae-78aea717b4b9",
   "metadata": {},
   "source": [
    "#### Upload Second file of dataset."
   ]
  },
  {
   "cell_type": "code",
   "execution_count": 25,
   "id": "020e6b00-3081-477f-93b5-61ff0482761f",
   "metadata": {
    "tags": []
   },
   "outputs": [],
   "source": [
    "df_matches=pd.read_csv('IPL_Matches_2008_2022.csv')"
   ]
  },
  {
   "cell_type": "code",
   "execution_count": 26,
   "id": "0525e95b-0b7f-4f7b-a09b-e44b825908ad",
   "metadata": {
    "tags": []
   },
   "outputs": [
    {
     "data": {
      "text/html": [
       "<div>\n",
       "<style scoped>\n",
       "    .dataframe tbody tr th:only-of-type {\n",
       "        vertical-align: middle;\n",
       "    }\n",
       "\n",
       "    .dataframe tbody tr th {\n",
       "        vertical-align: top;\n",
       "    }\n",
       "\n",
       "    .dataframe thead th {\n",
       "        text-align: right;\n",
       "    }\n",
       "</style>\n",
       "<table border=\"1\" class=\"dataframe\">\n",
       "  <thead>\n",
       "    <tr style=\"text-align: right;\">\n",
       "      <th></th>\n",
       "      <th>ID</th>\n",
       "      <th>City</th>\n",
       "      <th>Date</th>\n",
       "      <th>Season</th>\n",
       "      <th>MatchNumber</th>\n",
       "      <th>Team1</th>\n",
       "      <th>Team2</th>\n",
       "      <th>Venue</th>\n",
       "      <th>TossWinner</th>\n",
       "      <th>TossDecision</th>\n",
       "      <th>SuperOver</th>\n",
       "      <th>WinningTeam</th>\n",
       "      <th>WonBy</th>\n",
       "      <th>Margin</th>\n",
       "      <th>method</th>\n",
       "      <th>Player_of_Match</th>\n",
       "      <th>Team1Players</th>\n",
       "      <th>Team2Players</th>\n",
       "      <th>Umpire1</th>\n",
       "      <th>Umpire2</th>\n",
       "    </tr>\n",
       "  </thead>\n",
       "  <tbody>\n",
       "    <tr>\n",
       "      <th>0</th>\n",
       "      <td>1312200</td>\n",
       "      <td>Ahmedabad</td>\n",
       "      <td>2022-05-29</td>\n",
       "      <td>2022</td>\n",
       "      <td>Final</td>\n",
       "      <td>Rajasthan Royals</td>\n",
       "      <td>Gujarat Titans</td>\n",
       "      <td>Narendra Modi Stadium, Ahmedabad</td>\n",
       "      <td>Rajasthan Royals</td>\n",
       "      <td>bat</td>\n",
       "      <td>N</td>\n",
       "      <td>Gujarat Titans</td>\n",
       "      <td>Wickets</td>\n",
       "      <td>7.0</td>\n",
       "      <td>NaN</td>\n",
       "      <td>HH Pandya</td>\n",
       "      <td>['YBK Jaiswal', 'JC Buttler', 'SV Samson', 'D ...</td>\n",
       "      <td>['WP Saha', 'Shubman Gill', 'MS Wade', 'HH Pan...</td>\n",
       "      <td>CB Gaffaney</td>\n",
       "      <td>Nitin Menon</td>\n",
       "    </tr>\n",
       "    <tr>\n",
       "      <th>1</th>\n",
       "      <td>1312199</td>\n",
       "      <td>Ahmedabad</td>\n",
       "      <td>2022-05-27</td>\n",
       "      <td>2022</td>\n",
       "      <td>Qualifier 2</td>\n",
       "      <td>Royal Challengers Bangalore</td>\n",
       "      <td>Rajasthan Royals</td>\n",
       "      <td>Narendra Modi Stadium, Ahmedabad</td>\n",
       "      <td>Rajasthan Royals</td>\n",
       "      <td>field</td>\n",
       "      <td>N</td>\n",
       "      <td>Rajasthan Royals</td>\n",
       "      <td>Wickets</td>\n",
       "      <td>7.0</td>\n",
       "      <td>NaN</td>\n",
       "      <td>JC Buttler</td>\n",
       "      <td>['V Kohli', 'F du Plessis', 'RM Patidar', 'GJ ...</td>\n",
       "      <td>['YBK Jaiswal', 'JC Buttler', 'SV Samson', 'D ...</td>\n",
       "      <td>CB Gaffaney</td>\n",
       "      <td>Nitin Menon</td>\n",
       "    </tr>\n",
       "    <tr>\n",
       "      <th>2</th>\n",
       "      <td>1312198</td>\n",
       "      <td>Kolkata</td>\n",
       "      <td>2022-05-25</td>\n",
       "      <td>2022</td>\n",
       "      <td>Eliminator</td>\n",
       "      <td>Royal Challengers Bangalore</td>\n",
       "      <td>Lucknow Super Giants</td>\n",
       "      <td>Eden Gardens, Kolkata</td>\n",
       "      <td>Lucknow Super Giants</td>\n",
       "      <td>field</td>\n",
       "      <td>N</td>\n",
       "      <td>Royal Challengers Bangalore</td>\n",
       "      <td>Runs</td>\n",
       "      <td>14.0</td>\n",
       "      <td>NaN</td>\n",
       "      <td>RM Patidar</td>\n",
       "      <td>['V Kohli', 'F du Plessis', 'RM Patidar', 'GJ ...</td>\n",
       "      <td>['Q de Kock', 'KL Rahul', 'M Vohra', 'DJ Hooda...</td>\n",
       "      <td>J Madanagopal</td>\n",
       "      <td>MA Gough</td>\n",
       "    </tr>\n",
       "    <tr>\n",
       "      <th>3</th>\n",
       "      <td>1312197</td>\n",
       "      <td>Kolkata</td>\n",
       "      <td>2022-05-24</td>\n",
       "      <td>2022</td>\n",
       "      <td>Qualifier 1</td>\n",
       "      <td>Rajasthan Royals</td>\n",
       "      <td>Gujarat Titans</td>\n",
       "      <td>Eden Gardens, Kolkata</td>\n",
       "      <td>Gujarat Titans</td>\n",
       "      <td>field</td>\n",
       "      <td>N</td>\n",
       "      <td>Gujarat Titans</td>\n",
       "      <td>Wickets</td>\n",
       "      <td>7.0</td>\n",
       "      <td>NaN</td>\n",
       "      <td>DA Miller</td>\n",
       "      <td>['YBK Jaiswal', 'JC Buttler', 'SV Samson', 'D ...</td>\n",
       "      <td>['WP Saha', 'Shubman Gill', 'MS Wade', 'HH Pan...</td>\n",
       "      <td>BNJ Oxenford</td>\n",
       "      <td>VK Sharma</td>\n",
       "    </tr>\n",
       "    <tr>\n",
       "      <th>4</th>\n",
       "      <td>1304116</td>\n",
       "      <td>Mumbai</td>\n",
       "      <td>2022-05-22</td>\n",
       "      <td>2022</td>\n",
       "      <td>70</td>\n",
       "      <td>Sunrisers Hyderabad</td>\n",
       "      <td>Punjab Kings</td>\n",
       "      <td>Wankhede Stadium, Mumbai</td>\n",
       "      <td>Sunrisers Hyderabad</td>\n",
       "      <td>bat</td>\n",
       "      <td>N</td>\n",
       "      <td>Punjab Kings</td>\n",
       "      <td>Wickets</td>\n",
       "      <td>5.0</td>\n",
       "      <td>NaN</td>\n",
       "      <td>Harpreet Brar</td>\n",
       "      <td>['PK Garg', 'Abhishek Sharma', 'RA Tripathi', ...</td>\n",
       "      <td>['JM Bairstow', 'S Dhawan', 'M Shahrukh Khan',...</td>\n",
       "      <td>AK Chaudhary</td>\n",
       "      <td>NA Patwardhan</td>\n",
       "    </tr>\n",
       "  </tbody>\n",
       "</table>\n",
       "</div>"
      ],
      "text/plain": [
       "        ID       City        Date Season  MatchNumber  \\\n",
       "0  1312200  Ahmedabad  2022-05-29   2022        Final   \n",
       "1  1312199  Ahmedabad  2022-05-27   2022  Qualifier 2   \n",
       "2  1312198    Kolkata  2022-05-25   2022   Eliminator   \n",
       "3  1312197    Kolkata  2022-05-24   2022  Qualifier 1   \n",
       "4  1304116     Mumbai  2022-05-22   2022           70   \n",
       "\n",
       "                         Team1                 Team2  \\\n",
       "0             Rajasthan Royals        Gujarat Titans   \n",
       "1  Royal Challengers Bangalore      Rajasthan Royals   \n",
       "2  Royal Challengers Bangalore  Lucknow Super Giants   \n",
       "3             Rajasthan Royals        Gujarat Titans   \n",
       "4          Sunrisers Hyderabad          Punjab Kings   \n",
       "\n",
       "                              Venue            TossWinner TossDecision  \\\n",
       "0  Narendra Modi Stadium, Ahmedabad      Rajasthan Royals          bat   \n",
       "1  Narendra Modi Stadium, Ahmedabad      Rajasthan Royals        field   \n",
       "2             Eden Gardens, Kolkata  Lucknow Super Giants        field   \n",
       "3             Eden Gardens, Kolkata        Gujarat Titans        field   \n",
       "4          Wankhede Stadium, Mumbai   Sunrisers Hyderabad          bat   \n",
       "\n",
       "  SuperOver                  WinningTeam    WonBy  Margin method  \\\n",
       "0         N               Gujarat Titans  Wickets     7.0    NaN   \n",
       "1         N             Rajasthan Royals  Wickets     7.0    NaN   \n",
       "2         N  Royal Challengers Bangalore     Runs    14.0    NaN   \n",
       "3         N               Gujarat Titans  Wickets     7.0    NaN   \n",
       "4         N                 Punjab Kings  Wickets     5.0    NaN   \n",
       "\n",
       "  Player_of_Match                                       Team1Players  \\\n",
       "0       HH Pandya  ['YBK Jaiswal', 'JC Buttler', 'SV Samson', 'D ...   \n",
       "1      JC Buttler  ['V Kohli', 'F du Plessis', 'RM Patidar', 'GJ ...   \n",
       "2      RM Patidar  ['V Kohli', 'F du Plessis', 'RM Patidar', 'GJ ...   \n",
       "3       DA Miller  ['YBK Jaiswal', 'JC Buttler', 'SV Samson', 'D ...   \n",
       "4   Harpreet Brar  ['PK Garg', 'Abhishek Sharma', 'RA Tripathi', ...   \n",
       "\n",
       "                                        Team2Players        Umpire1  \\\n",
       "0  ['WP Saha', 'Shubman Gill', 'MS Wade', 'HH Pan...    CB Gaffaney   \n",
       "1  ['YBK Jaiswal', 'JC Buttler', 'SV Samson', 'D ...    CB Gaffaney   \n",
       "2  ['Q de Kock', 'KL Rahul', 'M Vohra', 'DJ Hooda...  J Madanagopal   \n",
       "3  ['WP Saha', 'Shubman Gill', 'MS Wade', 'HH Pan...   BNJ Oxenford   \n",
       "4  ['JM Bairstow', 'S Dhawan', 'M Shahrukh Khan',...   AK Chaudhary   \n",
       "\n",
       "         Umpire2  \n",
       "0    Nitin Menon  \n",
       "1    Nitin Menon  \n",
       "2       MA Gough  \n",
       "3      VK Sharma  \n",
       "4  NA Patwardhan  "
      ]
     },
     "execution_count": 26,
     "metadata": {},
     "output_type": "execute_result"
    }
   ],
   "source": [
    "df_matches.head()"
   ]
  },
  {
   "cell_type": "code",
   "execution_count": 27,
   "id": "2fb6ab08-dee6-4293-b99e-aaa4bdcde8a9",
   "metadata": {
    "tags": []
   },
   "outputs": [
    {
     "name": "stdout",
     "output_type": "stream",
     "text": [
      "<class 'pandas.core.frame.DataFrame'>\n",
      "RangeIndex: 950 entries, 0 to 949\n",
      "Data columns (total 20 columns):\n",
      " #   Column           Non-Null Count  Dtype  \n",
      "---  ------           --------------  -----  \n",
      " 0   ID               950 non-null    int64  \n",
      " 1   City             899 non-null    object \n",
      " 2   Date             950 non-null    object \n",
      " 3   Season           950 non-null    object \n",
      " 4   MatchNumber      950 non-null    object \n",
      " 5   Team1            950 non-null    object \n",
      " 6   Team2            950 non-null    object \n",
      " 7   Venue            950 non-null    object \n",
      " 8   TossWinner       950 non-null    object \n",
      " 9   TossDecision     950 non-null    object \n",
      " 10  SuperOver        946 non-null    object \n",
      " 11  WinningTeam      946 non-null    object \n",
      " 12  WonBy            950 non-null    object \n",
      " 13  Margin           932 non-null    float64\n",
      " 14  method           19 non-null     object \n",
      " 15  Player_of_Match  946 non-null    object \n",
      " 16  Team1Players     950 non-null    object \n",
      " 17  Team2Players     950 non-null    object \n",
      " 18  Umpire1          950 non-null    object \n",
      " 19  Umpire2          950 non-null    object \n",
      "dtypes: float64(1), int64(1), object(18)\n",
      "memory usage: 148.6+ KB\n"
     ]
    }
   ],
   "source": [
    "df_matches.info()   #used to display a concise summary of the information about a DataFrame."
   ]
  },
  {
   "cell_type": "code",
   "execution_count": 28,
   "id": "1a82358a-af57-44a9-be20-d67e93f11ba0",
   "metadata": {
    "tags": []
   },
   "outputs": [
    {
     "name": "stdout",
     "output_type": "stream",
     "text": [
      "ID                   0\n",
      "City                51\n",
      "Date                 0\n",
      "Season               0\n",
      "MatchNumber          0\n",
      "Team1                0\n",
      "Team2                0\n",
      "Venue                0\n",
      "TossWinner           0\n",
      "TossDecision         0\n",
      "SuperOver            4\n",
      "WinningTeam          4\n",
      "WonBy                0\n",
      "Margin              18\n",
      "method             931\n",
      "Player_of_Match      4\n",
      "Team1Players         0\n",
      "Team2Players         0\n",
      "Umpire1              0\n",
      "Umpire2              0\n",
      "dtype: int64\n"
     ]
    }
   ],
   "source": [
    "#1 Check for Missing Values\n",
    "missing_values = df_matches.isnull().sum()\n",
    "print(missing_values)"
   ]
  },
  {
   "cell_type": "code",
   "execution_count": 29,
   "id": "d5131b73-d6c4-4a12-bfdc-0b26d08b2a50",
   "metadata": {
    "tags": []
   },
   "outputs": [
    {
     "data": {
      "text/plain": [
       "ID                   0\n",
       "City                51\n",
       "Date                 0\n",
       "Season               0\n",
       "MatchNumber          0\n",
       "Team1                0\n",
       "Team2                0\n",
       "Venue                0\n",
       "TossWinner           0\n",
       "TossDecision         0\n",
       "SuperOver            4\n",
       "WinningTeam          4\n",
       "WonBy                0\n",
       "Margin              18\n",
       "method             931\n",
       "Player_of_Match      4\n",
       "Team1Players         0\n",
       "Team2Players         0\n",
       "Umpire1              0\n",
       "Umpire2              0\n",
       "dtype: int64"
      ]
     },
     "execution_count": 29,
     "metadata": {},
     "output_type": "execute_result"
    }
   ],
   "source": [
    "#2 checking null values \n",
    "df_matches.isnull().sum()"
   ]
  },
  {
   "cell_type": "code",
   "execution_count": 30,
   "id": "56485a05-0bb6-4be6-8d56-60e564756b30",
   "metadata": {
    "tags": []
   },
   "outputs": [],
   "source": [
    "#fill missing value for categorical columns\n",
    "df_matches['City'] = df_matches['City'].fillna(df_matches['City'].mode().iloc[0])\n",
    "df_matches['Margin'] = df_matches['Margin'].fillna(0.0)\n",
    "df_matches['method'] = df_matches['method'].fillna(df_matches['method'].mode().iloc[0])"
   ]
  },
  {
   "cell_type": "code",
   "execution_count": 31,
   "id": "0ab97da8-5f7d-4c7b-b311-59d506b23fe4",
   "metadata": {
    "tags": []
   },
   "outputs": [
    {
     "data": {
      "text/plain": [
       "array([[1312200, 'Ahmedabad', '2022-05-29', ...,\n",
       "        \"['WP Saha', 'Shubman Gill', 'MS Wade', 'HH Pandya', 'DA Miller', 'R Tewatia', 'Rashid Khan', 'R Sai Kishore', 'LH Ferguson', 'Yash Dayal', 'Mohammed Shami']\",\n",
       "        'CB Gaffaney', 'Nitin Menon'],\n",
       "       [1312199, 'Ahmedabad', '2022-05-27', ...,\n",
       "        \"['YBK Jaiswal', 'JC Buttler', 'SV Samson', 'D Padikkal', 'SO Hetmyer', 'R Parag', 'R Ashwin', 'TA Boult', 'YS Chahal', 'M Prasidh Krishna', 'OC McCoy']\",\n",
       "        'CB Gaffaney', 'Nitin Menon'],\n",
       "       [1312198, 'Kolkata', '2022-05-25', ...,\n",
       "        \"['Q de Kock', 'KL Rahul', 'M Vohra', 'DJ Hooda', 'MP Stoinis', 'E Lewis', 'KH Pandya', 'PVD Chameera', 'Mohsin Khan', 'Avesh Khan', 'Ravi Bishnoi']\",\n",
       "        'J Madanagopal', 'MA Gough'],\n",
       "       ...,\n",
       "       [335984, 'Delhi', '2008-04-19', ...,\n",
       "        \"['T Kohli', 'YK Pathan', 'SR Watson', 'M Kaif', 'DS Lehmann', 'RA Jadeja', 'M Rawat', 'D Salunkhe', 'SK Warne', 'SK Trivedi', 'MM Patel']\",\n",
       "        'Aleem Dar', 'GA Pratapkumar'],\n",
       "       [335983, 'Chandigarh', '2008-04-19', ...,\n",
       "        \"['PA Patel', 'ML Hayden', 'MEK Hussey', 'MS Dhoni', 'SK Raina', 'JDP Oram', 'S Badrinath', 'Joginder Sharma', 'P Amarnath', 'MS Gony', 'M Muralitharan']\",\n",
       "        'MR Benson', 'SL Shastri'],\n",
       "       [335982, 'Bangalore', '2008-04-18', ...,\n",
       "        \"['SC Ganguly', 'BB McCullum', 'RT Ponting', 'DJ Hussey', 'Mohammad Hafeez', 'LR Shukla', 'WP Saha', 'AB Agarkar', 'AB Dinda', 'M Kartik', 'I Sharma']\",\n",
       "        'Asad Rauf', 'RE Koertzen']], dtype=object)"
      ]
     },
     "execution_count": 31,
     "metadata": {},
     "output_type": "execute_result"
    }
   ],
   "source": [
    "df_matches.values    #used to obtain the values of a DataFrame."
   ]
  },
  {
   "cell_type": "code",
   "execution_count": 32,
   "id": "cb572b15-2083-4695-9fa9-cf3f13c48589",
   "metadata": {
    "tags": []
   },
   "outputs": [
    {
     "name": "stdout",
     "output_type": "stream",
     "text": [
      "City      0\n",
      "Margin    0\n",
      "method    0\n",
      "dtype: int64\n"
     ]
    }
   ],
   "source": [
    "#Verify Missing Values\n",
    "missing_values = df_matches[['City','Margin','method']].isnull().sum()  #.isnull() is used to check for missing values in the selected columns.\n",
    "print(missing_values)"
   ]
  },
  {
   "cell_type": "code",
   "execution_count": 33,
   "id": "e62e5d38-d1d9-4e0a-9800-7c27cc0dfc5e",
   "metadata": {
    "tags": []
   },
   "outputs": [
    {
     "data": {
      "text/html": [
       "<div>\n",
       "<style scoped>\n",
       "    .dataframe tbody tr th:only-of-type {\n",
       "        vertical-align: middle;\n",
       "    }\n",
       "\n",
       "    .dataframe tbody tr th {\n",
       "        vertical-align: top;\n",
       "    }\n",
       "\n",
       "    .dataframe thead th {\n",
       "        text-align: right;\n",
       "    }\n",
       "</style>\n",
       "<table border=\"1\" class=\"dataframe\">\n",
       "  <thead>\n",
       "    <tr style=\"text-align: right;\">\n",
       "      <th></th>\n",
       "      <th>ID</th>\n",
       "      <th>Margin</th>\n",
       "    </tr>\n",
       "  </thead>\n",
       "  <tbody>\n",
       "    <tr>\n",
       "      <th>count</th>\n",
       "      <td>9.500000e+02</td>\n",
       "      <td>950.000000</td>\n",
       "    </tr>\n",
       "    <tr>\n",
       "      <th>mean</th>\n",
       "      <td>8.304852e+05</td>\n",
       "      <td>16.733684</td>\n",
       "    </tr>\n",
       "    <tr>\n",
       "      <th>std</th>\n",
       "      <td>3.375678e+05</td>\n",
       "      <td>21.552925</td>\n",
       "    </tr>\n",
       "    <tr>\n",
       "      <th>min</th>\n",
       "      <td>3.359820e+05</td>\n",
       "      <td>0.000000</td>\n",
       "    </tr>\n",
       "    <tr>\n",
       "      <th>25%</th>\n",
       "      <td>5.012612e+05</td>\n",
       "      <td>5.000000</td>\n",
       "    </tr>\n",
       "    <tr>\n",
       "      <th>50%</th>\n",
       "      <td>8.297380e+05</td>\n",
       "      <td>8.000000</td>\n",
       "    </tr>\n",
       "    <tr>\n",
       "      <th>75%</th>\n",
       "      <td>1.175372e+06</td>\n",
       "      <td>18.000000</td>\n",
       "    </tr>\n",
       "    <tr>\n",
       "      <th>max</th>\n",
       "      <td>1.312200e+06</td>\n",
       "      <td>146.000000</td>\n",
       "    </tr>\n",
       "  </tbody>\n",
       "</table>\n",
       "</div>"
      ],
      "text/plain": [
       "                 ID      Margin\n",
       "count  9.500000e+02  950.000000\n",
       "mean   8.304852e+05   16.733684\n",
       "std    3.375678e+05   21.552925\n",
       "min    3.359820e+05    0.000000\n",
       "25%    5.012612e+05    5.000000\n",
       "50%    8.297380e+05    8.000000\n",
       "75%    1.175372e+06   18.000000\n",
       "max    1.312200e+06  146.000000"
      ]
     },
     "execution_count": 33,
     "metadata": {},
     "output_type": "execute_result"
    }
   ],
   "source": [
    "df_matches.describe()     #generate a summary of descriptive statistics for the numeric columns in a DataFrame."
   ]
  },
  {
   "cell_type": "code",
   "execution_count": 34,
   "id": "4158ddec-65a0-4fec-8ea3-9f278e6fc9c4",
   "metadata": {},
   "outputs": [
    {
     "data": {
      "text/plain": [
       "Index(['ID', 'City', 'Date', 'Season', 'MatchNumber', 'Team1', 'Team2',\n",
       "       'Venue', 'TossWinner', 'TossDecision', 'SuperOver', 'WinningTeam',\n",
       "       'WonBy', 'Margin', 'method', 'Player_of_Match', 'Team1Players',\n",
       "       'Team2Players', 'Umpire1', 'Umpire2'],\n",
       "      dtype='object')"
      ]
     },
     "execution_count": 34,
     "metadata": {},
     "output_type": "execute_result"
    }
   ],
   "source": [
    "df_matches.columns #used to obtain the column names of a DataFrame"
   ]
  },
  {
   "cell_type": "code",
   "execution_count": 35,
   "id": "d2b2e5f6-3c3b-48db-9fec-7f0b4a6a995a",
   "metadata": {
    "tags": []
   },
   "outputs": [
    {
     "data": {
      "text/plain": [
       "[RangeIndex(start=0, stop=950, step=1),\n",
       " Index(['ID', 'City', 'Date', 'Season', 'MatchNumber', 'Team1', 'Team2',\n",
       "        'Venue', 'TossWinner', 'TossDecision', 'SuperOver', 'WinningTeam',\n",
       "        'WonBy', 'Margin', 'method', 'Player_of_Match', 'Team1Players',\n",
       "        'Team2Players', 'Umpire1', 'Umpire2'],\n",
       "       dtype='object')]"
      ]
     },
     "execution_count": 35,
     "metadata": {},
     "output_type": "execute_result"
    }
   ],
   "source": [
    "df_matches.axes     #attribute in a DataFrame provides information about the row and column labels / index."
   ]
  },
  {
   "cell_type": "code",
   "execution_count": 36,
   "id": "9f12ecca-5df6-44fe-88f4-c7eb110332a8",
   "metadata": {
    "tags": []
   },
   "outputs": [
    {
     "data": {
      "text/plain": [
       "2"
      ]
     },
     "execution_count": 36,
     "metadata": {},
     "output_type": "execute_result"
    }
   ],
   "source": [
    "df_matches.ndim   #used to determine the number of dimensions in a DataFrame."
   ]
  },
  {
   "cell_type": "code",
   "execution_count": 37,
   "id": "04feff70-b829-47ca-831a-c853cf580846",
   "metadata": {
    "tags": []
   },
   "outputs": [
    {
     "data": {
      "text/plain": [
       "19000"
      ]
     },
     "execution_count": 37,
     "metadata": {},
     "output_type": "execute_result"
    }
   ],
   "source": [
    "df_matches.size   #used to determine the total number of elements in a DataFrame."
   ]
  },
  {
   "cell_type": "code",
   "execution_count": 38,
   "id": "c60e23d6-0fcd-48cc-ab01-3fd1c9c23269",
   "metadata": {
    "tags": []
   },
   "outputs": [
    {
     "data": {
      "text/plain": [
       "(950, 20)"
      ]
     },
     "execution_count": 38,
     "metadata": {},
     "output_type": "execute_result"
    }
   ],
   "source": [
    "df_matches.shape   #obtain the dimensions of a DataFrame."
   ]
  },
  {
   "cell_type": "code",
   "execution_count": 39,
   "id": "2caec613-e3e1-477b-80f9-910efbf3e790",
   "metadata": {
    "tags": []
   },
   "outputs": [
    {
     "data": {
      "text/plain": [
       "(0, 20)"
      ]
     },
     "execution_count": 39,
     "metadata": {},
     "output_type": "execute_result"
    }
   ],
   "source": [
    "df_matches[df_matches.duplicated()].shape   #find and count the duplicate rows in a DataFrame"
   ]
  },
  {
   "cell_type": "code",
   "execution_count": 40,
   "id": "d5cdeea3-4148-41cb-b49c-c6fcb1d96f99",
   "metadata": {
    "tags": []
   },
   "outputs": [
    {
     "data": {
      "text/plain": [
       "array([[1312200, 'Ahmedabad', '2022-05-29', ...,\n",
       "        \"['WP Saha', 'Shubman Gill', 'MS Wade', 'HH Pandya', 'DA Miller', 'R Tewatia', 'Rashid Khan', 'R Sai Kishore', 'LH Ferguson', 'Yash Dayal', 'Mohammed Shami']\",\n",
       "        'CB Gaffaney', 'Nitin Menon'],\n",
       "       [1312199, 'Ahmedabad', '2022-05-27', ...,\n",
       "        \"['YBK Jaiswal', 'JC Buttler', 'SV Samson', 'D Padikkal', 'SO Hetmyer', 'R Parag', 'R Ashwin', 'TA Boult', 'YS Chahal', 'M Prasidh Krishna', 'OC McCoy']\",\n",
       "        'CB Gaffaney', 'Nitin Menon'],\n",
       "       [1312198, 'Kolkata', '2022-05-25', ...,\n",
       "        \"['Q de Kock', 'KL Rahul', 'M Vohra', 'DJ Hooda', 'MP Stoinis', 'E Lewis', 'KH Pandya', 'PVD Chameera', 'Mohsin Khan', 'Avesh Khan', 'Ravi Bishnoi']\",\n",
       "        'J Madanagopal', 'MA Gough'],\n",
       "       ...,\n",
       "       [335984, 'Delhi', '2008-04-19', ...,\n",
       "        \"['T Kohli', 'YK Pathan', 'SR Watson', 'M Kaif', 'DS Lehmann', 'RA Jadeja', 'M Rawat', 'D Salunkhe', 'SK Warne', 'SK Trivedi', 'MM Patel']\",\n",
       "        'Aleem Dar', 'GA Pratapkumar'],\n",
       "       [335983, 'Chandigarh', '2008-04-19', ...,\n",
       "        \"['PA Patel', 'ML Hayden', 'MEK Hussey', 'MS Dhoni', 'SK Raina', 'JDP Oram', 'S Badrinath', 'Joginder Sharma', 'P Amarnath', 'MS Gony', 'M Muralitharan']\",\n",
       "        'MR Benson', 'SL Shastri'],\n",
       "       [335982, 'Bangalore', '2008-04-18', ...,\n",
       "        \"['SC Ganguly', 'BB McCullum', 'RT Ponting', 'DJ Hussey', 'Mohammad Hafeez', 'LR Shukla', 'WP Saha', 'AB Agarkar', 'AB Dinda', 'M Kartik', 'I Sharma']\",\n",
       "        'Asad Rauf', 'RE Koertzen']], dtype=object)"
      ]
     },
     "execution_count": 40,
     "metadata": {},
     "output_type": "execute_result"
    }
   ],
   "source": [
    "df_matches.values  #obtain the values of a DataFrame"
   ]
  },
  {
   "cell_type": "code",
   "execution_count": 41,
   "id": "4b4ad7fd-f0cf-4c5b-9226-3e3f183c4bc6",
   "metadata": {
    "tags": []
   },
   "outputs": [
    {
     "data": {
      "text/html": [
       "<div>\n",
       "<style scoped>\n",
       "    .dataframe tbody tr th:only-of-type {\n",
       "        vertical-align: middle;\n",
       "    }\n",
       "\n",
       "    .dataframe tbody tr th {\n",
       "        vertical-align: top;\n",
       "    }\n",
       "\n",
       "    .dataframe thead th {\n",
       "        text-align: right;\n",
       "    }\n",
       "</style>\n",
       "<table border=\"1\" class=\"dataframe\">\n",
       "  <thead>\n",
       "    <tr style=\"text-align: right;\">\n",
       "      <th></th>\n",
       "      <th>ID</th>\n",
       "      <th>City</th>\n",
       "      <th>Date</th>\n",
       "      <th>Season</th>\n",
       "      <th>MatchNumber</th>\n",
       "      <th>Team1</th>\n",
       "      <th>Team2</th>\n",
       "      <th>Venue</th>\n",
       "      <th>TossWinner</th>\n",
       "      <th>TossDecision</th>\n",
       "      <th>SuperOver</th>\n",
       "      <th>WinningTeam</th>\n",
       "      <th>WonBy</th>\n",
       "      <th>Margin</th>\n",
       "      <th>method</th>\n",
       "      <th>Player_of_Match</th>\n",
       "      <th>Team1Players</th>\n",
       "      <th>Team2Players</th>\n",
       "      <th>Umpire1</th>\n",
       "      <th>Umpire2</th>\n",
       "    </tr>\n",
       "  </thead>\n",
       "  <tbody>\n",
       "    <tr>\n",
       "      <th>613</th>\n",
       "      <td>598011</td>\n",
       "      <td>Mumbai</td>\n",
       "      <td>2013-04-13</td>\n",
       "      <td>2013</td>\n",
       "      <td>15</td>\n",
       "      <td>Mumbai Indians</td>\n",
       "      <td>Pune Warriors</td>\n",
       "      <td>Wankhede Stadium</td>\n",
       "      <td>Mumbai Indians</td>\n",
       "      <td>bat</td>\n",
       "      <td>N</td>\n",
       "      <td>Mumbai Indians</td>\n",
       "      <td>Runs</td>\n",
       "      <td>41.0</td>\n",
       "      <td>D/L</td>\n",
       "      <td>RG Sharma</td>\n",
       "      <td>['RT Ponting', 'SR Tendulkar', 'KD Karthik', '...</td>\n",
       "      <td>['AJ Finch', 'RV Uthappa', 'LRPL Taylor', 'Yuv...</td>\n",
       "      <td>S Ravi</td>\n",
       "      <td>SJA Taufel</td>\n",
       "    </tr>\n",
       "  </tbody>\n",
       "</table>\n",
       "</div>"
      ],
      "text/plain": [
       "         ID    City        Date Season MatchNumber           Team1  \\\n",
       "613  598011  Mumbai  2013-04-13   2013          15  Mumbai Indians   \n",
       "\n",
       "             Team2             Venue      TossWinner TossDecision SuperOver  \\\n",
       "613  Pune Warriors  Wankhede Stadium  Mumbai Indians          bat         N   \n",
       "\n",
       "        WinningTeam WonBy  Margin method Player_of_Match  \\\n",
       "613  Mumbai Indians  Runs    41.0    D/L       RG Sharma   \n",
       "\n",
       "                                          Team1Players  \\\n",
       "613  ['RT Ponting', 'SR Tendulkar', 'KD Karthik', '...   \n",
       "\n",
       "                                          Team2Players Umpire1     Umpire2  \n",
       "613  ['AJ Finch', 'RV Uthappa', 'LRPL Taylor', 'Yuv...  S Ravi  SJA Taufel  "
      ]
     },
     "execution_count": 41,
     "metadata": {},
     "output_type": "execute_result"
    }
   ],
   "source": [
    "df_matches.sample()  #obtain a random sample from a DataFrame."
   ]
  },
  {
   "cell_type": "code",
   "execution_count": 42,
   "id": "85ce846c-dff3-4138-83fc-4336e660d3b1",
   "metadata": {
    "tags": []
   },
   "outputs": [
    {
     "name": "stderr",
     "output_type": "stream",
     "text": [
      "C:\\Users\\Lenovo\\AppData\\Local\\Temp\\ipykernel_270436\\2765350072.py:1: FutureWarning: The default value of numeric_only in DataFrame.std is deprecated. In a future version, it will default to False. In addition, specifying 'numeric_only=None' is deprecated. Select only valid columns or specify the value of numeric_only to silence this warning.\n",
      "  df_matches.std()   # calculating the standard deviation of a DataFrame.\n"
     ]
    },
    {
     "data": {
      "text/plain": [
       "ID        337567.829494\n",
       "Margin        21.552925\n",
       "dtype: float64"
      ]
     },
     "execution_count": 42,
     "metadata": {},
     "output_type": "execute_result"
    }
   ],
   "source": [
    "df_matches.std()   # calculating the standard deviation of a DataFrame."
   ]
  }
 ],
 "metadata": {
  "kernelspec": {
   "display_name": "Python 3 (ipykernel)",
   "language": "python",
   "name": "python3"
  },
  "language_info": {
   "codemirror_mode": {
    "name": "ipython",
    "version": 3
   },
   "file_extension": ".py",
   "mimetype": "text/x-python",
   "name": "python",
   "nbconvert_exporter": "python",
   "pygments_lexer": "ipython3",
   "version": "3.11.4"
  }
 },
 "nbformat": 4,
 "nbformat_minor": 5
}
